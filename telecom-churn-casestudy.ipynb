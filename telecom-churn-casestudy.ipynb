{
 "cells": [
  {
   "cell_type": "markdown",
   "id": "6564874e",
   "metadata": {
    "papermill": {
     "duration": 0.074504,
     "end_time": "2023-12-06T16:44:34.624966",
     "exception": false,
     "start_time": "2023-12-06T16:44:34.550462",
     "status": "completed"
    },
    "tags": []
   },
   "source": [
    "# Telecom Churn Case Study"
   ]
  },
  {
   "cell_type": "markdown",
   "id": "655b4187",
   "metadata": {
    "papermill": {
     "duration": 0.072628,
     "end_time": "2023-12-06T16:44:34.869994",
     "exception": false,
     "start_time": "2023-12-06T16:44:34.797366",
     "status": "completed"
    },
    "tags": []
   },
   "source": [
    "# Problem Statement\n",
    "\n",
    "### Business problem overview\n",
    "\n",
    ". In the telecom industry, customers are able to choose from multiple service providers and actively switch from one operator to another. In this highly competitive market, the telecommunications industry experiences an average of 15-25% annual churn rate. Given the fact that it costs 5-10 times more to acquire a new customer than to retain an existing one, customer retention has now become even more important than customer acquisition.\n",
    "\n",
    ". For many incumbent operators, retaining high profitable customers is the number one business goal.\n",
    "\n",
    ". To reduce customer churn, telecom companies need to predict which customers are at high risk of churn.\n",
    "\n",
    ". In this project, we will analyse customer-level data of a leading telecom firm, build predictive models to identify customers at high risk of churn and identify the main indicators of churn."
   ]
  },
  {
   "cell_type": "markdown",
   "id": "40fdb92b",
   "metadata": {
    "papermill": {
     "duration": 0.073986,
     "end_time": "2023-12-06T16:44:35.017258",
     "exception": false,
     "start_time": "2023-12-06T16:44:34.943272",
     "status": "completed"
    },
    "tags": []
   },
   "source": [
    "### Definitions of churn\n",
    ". There are various ways to define churn, such as:\n",
    "\n",
    "### Revenue-based churn:\n",
    ". Customers who have not utilised any revenue-generating facilities such as mobile internet, outgoing calls, SMS etc. over a given period of time. One could also use aggregate metrics such as ‘customers who have generated less than INR 4 per month in total/average/median revenue’.\n",
    "\n",
    "The main shortcoming of this definition is that there are customers who only receive calls/SMSes from their wage-earning counterparts, i.e. they don’t generate revenue but use the services. For example, many users in rural areas only receive calls from their wage-earning siblings in urban areas.\n",
    "\n",
    "### Usage-based churn:\n",
    "Customers who have not done any usage, either incoming or outgoing - in terms of calls, internet etc. over a period of time.\n",
    "\n",
    "A potential shortcoming of this definition is that when the customer has stopped using the services for a while, it may be too late to take any corrective actions to retain them. For e.g., if you define churn based on a ‘two-months zero usage’ period, predicting churn could be useless since by that time the customer would have already switched to another operator.\n",
    "\n",
    "In this project, we will use the usage-based definition to define churn."
   ]
  },
  {
   "cell_type": "markdown",
   "id": "113bcc03",
   "metadata": {
    "papermill": {
     "duration": 0.071299,
     "end_time": "2023-12-06T16:44:35.161520",
     "exception": false,
     "start_time": "2023-12-06T16:44:35.090221",
     "status": "completed"
    },
    "tags": []
   },
   "source": [
    "# Objective\n",
    "- To Predict the customers who are about to churn from a telecom operator\n",
    "- Business Objective is to predict the High Value Customers only\n",
    "- We need to predict Churn on the basis of Action Period (Churn period data needs to be deleted after labelling)\n",
    "  Churn would be based on Usage\n",
    "\n",
    "### Requirement:\n",
    "\n",
    "- Churn Prediction Model\n",
    "- Best Predictor Variables"
   ]
  },
  {
   "cell_type": "markdown",
   "id": "c762529b",
   "metadata": {
    "papermill": {
     "duration": 0.071481,
     "end_time": "2023-12-06T16:44:35.305062",
     "exception": false,
     "start_time": "2023-12-06T16:44:35.233581",
     "status": "completed"
    },
    "tags": []
   },
   "source": [
    "# Steps to Approach The  Best Solution For This Case Study\n",
    "There are mainly 6 steps\n",
    "#### Step 1 :\n",
    "- Data reading\n",
    "- Data Understanding\n",
    "- Data Cleaning\n",
    "- Imputing missing values \n",
    "\n",
    "#### Step-2 :\n",
    "Need to Filter high value customers\n",
    "\n",
    "#### Step-3 :\n",
    "Derive churn\n",
    "   need to Derive the Target Variable\n",
    "   \n",
    "#### Step-4 :\n",
    "Data Preparation\n",
    "  - Derived variable\n",
    "  - EDA\n",
    "  - Split data in to train and test sets\n",
    "  - Performing Scaling\n",
    " \n",
    "#### Step-5 :\n",
    "- Handle class imbalance\n",
    "- Dimensionality Reduction using PCA\n",
    "- Classification models to predict Churn (Use various Models )\n",
    "\n",
    "#### Step-6 :\n",
    "- Model Evaluation\n",
    "- Prepare Model for Predictor variables selection (Prepare multiple models & choose the best one)\n",
    "\n",
    "Finally we need to give best Summarize to the company "
   ]
  },
  {
   "cell_type": "markdown",
   "id": "6b5c7fea",
   "metadata": {
    "papermill": {
     "duration": 0.07256,
     "end_time": "2023-12-06T16:44:35.449739",
     "exception": false,
     "start_time": "2023-12-06T16:44:35.377179",
     "status": "completed"
    },
    "tags": []
   },
   "source": [
    "## Import  Libraries"
   ]
  },
  {
   "cell_type": "code",
   "execution_count": 1,
   "id": "ba4a95a3",
   "metadata": {
    "_cell_guid": "b1076dfc-b9ad-4769-8c92-a6c4dae69d19",
    "_uuid": "8f2839f25d086af736a60e9eeb907d3b93b6e0e5",
    "execution": {
     "iopub.execute_input": "2023-12-06T16:44:35.597543Z",
     "iopub.status.busy": "2023-12-06T16:44:35.597033Z",
     "iopub.status.idle": "2023-12-06T16:44:40.263590Z",
     "shell.execute_reply": "2023-12-06T16:44:40.262233Z"
    },
    "papermill": {
     "duration": 4.743784,
     "end_time": "2023-12-06T16:44:40.267446",
     "exception": false,
     "start_time": "2023-12-06T16:44:35.523662",
     "status": "completed"
    },
    "tags": []
   },
   "outputs": [],
   "source": [
    "import numpy as np\n",
    "import pandas as pd\n",
    "import matplotlib.pyplot as plt\n",
    "import seaborn as sns\n",
    "\n",
    "# Import the logistic regression module\n",
    "from sklearn.linear_model import LogisticRegression\n",
    "\n",
    "# Importing 'variance_inflation_factor' or VIF\n",
    "from statsmodels.stats.outliers_influence import variance_inflation_factor\n",
    "\n",
    "# Import RFE for RFE selection\n",
    "from sklearn.feature_selection import RFE\n",
    "\n",
    "# Importing statsmodels\n",
    "import statsmodels.api as sm\n",
    "\n",
    "# Importing the precision recall curve\n",
    "from sklearn.metrics import precision_recall_curve\n",
    "\n",
    "# Importing evaluation metrics from scikitlearn \n",
    "from sklearn import metrics\n",
    "\n",
    "from imblearn.over_sampling import SMOTE\n",
    "\n",
    "from sklearn.decomposition import IncrementalPCA\n",
    "\n",
    "# To suppress the warnings which will be raised\n",
    "import warnings\n",
    "warnings.filterwarnings('ignore')\n",
    "\n",
    "# import required libraries\n",
    "from sklearn.model_selection import train_test_split\n",
    "from sklearn.pipeline import Pipeline\n",
    "from sklearn.decomposition import PCA\n",
    "from sklearn.preprocessing import MinMaxScaler\n",
    "from sklearn.pipeline import FeatureUnion\n",
    "from sklearn.base import BaseEstimator, TransformerMixin\n",
    "from sklearn.linear_model import LogisticRegression\n",
    "from sklearn.metrics import classification_report\n",
    "from sklearn.metrics import roc_auc_score\n",
    "from imblearn.metrics import sensitivity_specificity_support\n",
    "from sklearn.model_selection import StratifiedKFold\n",
    "from sklearn.model_selection import cross_val_score\n",
    "from sklearn.metrics import confusion_matrix\n",
    "from sklearn.model_selection import GridSearchCV\n",
    "from sklearn.ensemble import RandomForestClassifier\n",
    "from sklearn.ensemble import GradientBoostingClassifier\n",
    "from sklearn.svm import SVC"
   ]
  },
  {
   "cell_type": "code",
   "execution_count": 2,
   "id": "489a1e80",
   "metadata": {
    "execution": {
     "iopub.execute_input": "2023-12-06T16:44:40.414994Z",
     "iopub.status.busy": "2023-12-06T16:44:40.414398Z",
     "iopub.status.idle": "2023-12-06T16:44:40.419136Z",
     "shell.execute_reply": "2023-12-06T16:44:40.418056Z"
    },
    "papermill": {
     "duration": 0.081143,
     "end_time": "2023-12-06T16:44:40.421557",
     "exception": false,
     "start_time": "2023-12-06T16:44:40.340414",
     "status": "completed"
    },
    "tags": []
   },
   "outputs": [],
   "source": [
    "#pip install imbalanced-learn"
   ]
  },
  {
   "cell_type": "code",
   "execution_count": 3,
   "id": "2562d28d",
   "metadata": {
    "execution": {
     "iopub.execute_input": "2023-12-06T16:44:40.576136Z",
     "iopub.status.busy": "2023-12-06T16:44:40.575727Z",
     "iopub.status.idle": "2023-12-06T16:44:43.482112Z",
     "shell.execute_reply": "2023-12-06T16:44:43.480904Z"
    },
    "papermill": {
     "duration": 2.985821,
     "end_time": "2023-12-06T16:44:43.485063",
     "exception": false,
     "start_time": "2023-12-06T16:44:40.499242",
     "status": "completed"
    },
    "tags": []
   },
   "outputs": [],
   "source": [
    "# read data\n",
    "churn = pd.read_csv(\"../input/telecom-churn-case-study-hackathon-c54/train.csv\")"
   ]
  },
  {
   "cell_type": "code",
   "execution_count": 4,
   "id": "96077413",
   "metadata": {
    "execution": {
     "iopub.execute_input": "2023-12-06T16:44:43.632682Z",
     "iopub.status.busy": "2023-12-06T16:44:43.631823Z",
     "iopub.status.idle": "2023-12-06T16:44:43.676974Z",
     "shell.execute_reply": "2023-12-06T16:44:43.675792Z"
    },
    "papermill": {
     "duration": 0.120709,
     "end_time": "2023-12-06T16:44:43.679746",
     "exception": false,
     "start_time": "2023-12-06T16:44:43.559037",
     "status": "completed"
    },
    "tags": []
   },
   "outputs": [
    {
     "data": {
      "text/html": [
       "<div>\n",
       "<style scoped>\n",
       "    .dataframe tbody tr th:only-of-type {\n",
       "        vertical-align: middle;\n",
       "    }\n",
       "\n",
       "    .dataframe tbody tr th {\n",
       "        vertical-align: top;\n",
       "    }\n",
       "\n",
       "    .dataframe thead th {\n",
       "        text-align: right;\n",
       "    }\n",
       "</style>\n",
       "<table border=\"1\" class=\"dataframe\">\n",
       "  <thead>\n",
       "    <tr style=\"text-align: right;\">\n",
       "      <th></th>\n",
       "      <th>id</th>\n",
       "      <th>circle_id</th>\n",
       "      <th>loc_og_t2o_mou</th>\n",
       "      <th>std_og_t2o_mou</th>\n",
       "      <th>loc_ic_t2o_mou</th>\n",
       "      <th>last_date_of_month_6</th>\n",
       "      <th>last_date_of_month_7</th>\n",
       "      <th>last_date_of_month_8</th>\n",
       "      <th>arpu_6</th>\n",
       "      <th>arpu_7</th>\n",
       "      <th>...</th>\n",
       "      <th>sachet_3g_7</th>\n",
       "      <th>sachet_3g_8</th>\n",
       "      <th>fb_user_6</th>\n",
       "      <th>fb_user_7</th>\n",
       "      <th>fb_user_8</th>\n",
       "      <th>aon</th>\n",
       "      <th>aug_vbc_3g</th>\n",
       "      <th>jul_vbc_3g</th>\n",
       "      <th>jun_vbc_3g</th>\n",
       "      <th>churn_probability</th>\n",
       "    </tr>\n",
       "  </thead>\n",
       "  <tbody>\n",
       "    <tr>\n",
       "      <th>0</th>\n",
       "      <td>0</td>\n",
       "      <td>109</td>\n",
       "      <td>0.0</td>\n",
       "      <td>0.0</td>\n",
       "      <td>0.0</td>\n",
       "      <td>6/30/2014</td>\n",
       "      <td>7/31/2014</td>\n",
       "      <td>8/31/2014</td>\n",
       "      <td>31.277</td>\n",
       "      <td>87.009</td>\n",
       "      <td>...</td>\n",
       "      <td>0</td>\n",
       "      <td>0</td>\n",
       "      <td>NaN</td>\n",
       "      <td>NaN</td>\n",
       "      <td>NaN</td>\n",
       "      <td>1958</td>\n",
       "      <td>0.0</td>\n",
       "      <td>0.0</td>\n",
       "      <td>0.0</td>\n",
       "      <td>0</td>\n",
       "    </tr>\n",
       "    <tr>\n",
       "      <th>1</th>\n",
       "      <td>1</td>\n",
       "      <td>109</td>\n",
       "      <td>0.0</td>\n",
       "      <td>0.0</td>\n",
       "      <td>0.0</td>\n",
       "      <td>6/30/2014</td>\n",
       "      <td>7/31/2014</td>\n",
       "      <td>8/31/2014</td>\n",
       "      <td>0.000</td>\n",
       "      <td>122.787</td>\n",
       "      <td>...</td>\n",
       "      <td>0</td>\n",
       "      <td>0</td>\n",
       "      <td>NaN</td>\n",
       "      <td>1.0</td>\n",
       "      <td>NaN</td>\n",
       "      <td>710</td>\n",
       "      <td>0.0</td>\n",
       "      <td>0.0</td>\n",
       "      <td>0.0</td>\n",
       "      <td>0</td>\n",
       "    </tr>\n",
       "    <tr>\n",
       "      <th>2</th>\n",
       "      <td>2</td>\n",
       "      <td>109</td>\n",
       "      <td>0.0</td>\n",
       "      <td>0.0</td>\n",
       "      <td>0.0</td>\n",
       "      <td>6/30/2014</td>\n",
       "      <td>7/31/2014</td>\n",
       "      <td>8/31/2014</td>\n",
       "      <td>60.806</td>\n",
       "      <td>103.176</td>\n",
       "      <td>...</td>\n",
       "      <td>0</td>\n",
       "      <td>0</td>\n",
       "      <td>NaN</td>\n",
       "      <td>NaN</td>\n",
       "      <td>NaN</td>\n",
       "      <td>882</td>\n",
       "      <td>0.0</td>\n",
       "      <td>0.0</td>\n",
       "      <td>0.0</td>\n",
       "      <td>0</td>\n",
       "    </tr>\n",
       "    <tr>\n",
       "      <th>3</th>\n",
       "      <td>3</td>\n",
       "      <td>109</td>\n",
       "      <td>0.0</td>\n",
       "      <td>0.0</td>\n",
       "      <td>0.0</td>\n",
       "      <td>6/30/2014</td>\n",
       "      <td>7/31/2014</td>\n",
       "      <td>8/31/2014</td>\n",
       "      <td>156.362</td>\n",
       "      <td>205.260</td>\n",
       "      <td>...</td>\n",
       "      <td>0</td>\n",
       "      <td>0</td>\n",
       "      <td>NaN</td>\n",
       "      <td>NaN</td>\n",
       "      <td>NaN</td>\n",
       "      <td>982</td>\n",
       "      <td>0.0</td>\n",
       "      <td>0.0</td>\n",
       "      <td>0.0</td>\n",
       "      <td>0</td>\n",
       "    </tr>\n",
       "    <tr>\n",
       "      <th>4</th>\n",
       "      <td>4</td>\n",
       "      <td>109</td>\n",
       "      <td>0.0</td>\n",
       "      <td>0.0</td>\n",
       "      <td>0.0</td>\n",
       "      <td>6/30/2014</td>\n",
       "      <td>7/31/2014</td>\n",
       "      <td>8/31/2014</td>\n",
       "      <td>240.708</td>\n",
       "      <td>128.191</td>\n",
       "      <td>...</td>\n",
       "      <td>1</td>\n",
       "      <td>0</td>\n",
       "      <td>1.0</td>\n",
       "      <td>1.0</td>\n",
       "      <td>1.0</td>\n",
       "      <td>647</td>\n",
       "      <td>0.0</td>\n",
       "      <td>0.0</td>\n",
       "      <td>0.0</td>\n",
       "      <td>0</td>\n",
       "    </tr>\n",
       "  </tbody>\n",
       "</table>\n",
       "<p>5 rows × 172 columns</p>\n",
       "</div>"
      ],
      "text/plain": [
       "   id  circle_id  loc_og_t2o_mou  std_og_t2o_mou  loc_ic_t2o_mou  \\\n",
       "0   0        109             0.0             0.0             0.0   \n",
       "1   1        109             0.0             0.0             0.0   \n",
       "2   2        109             0.0             0.0             0.0   \n",
       "3   3        109             0.0             0.0             0.0   \n",
       "4   4        109             0.0             0.0             0.0   \n",
       "\n",
       "  last_date_of_month_6 last_date_of_month_7 last_date_of_month_8   arpu_6  \\\n",
       "0            6/30/2014            7/31/2014            8/31/2014   31.277   \n",
       "1            6/30/2014            7/31/2014            8/31/2014    0.000   \n",
       "2            6/30/2014            7/31/2014            8/31/2014   60.806   \n",
       "3            6/30/2014            7/31/2014            8/31/2014  156.362   \n",
       "4            6/30/2014            7/31/2014            8/31/2014  240.708   \n",
       "\n",
       "    arpu_7  ...  sachet_3g_7  sachet_3g_8  fb_user_6  fb_user_7  fb_user_8  \\\n",
       "0   87.009  ...            0            0        NaN        NaN        NaN   \n",
       "1  122.787  ...            0            0        NaN        1.0        NaN   \n",
       "2  103.176  ...            0            0        NaN        NaN        NaN   \n",
       "3  205.260  ...            0            0        NaN        NaN        NaN   \n",
       "4  128.191  ...            1            0        1.0        1.0        1.0   \n",
       "\n",
       "    aon  aug_vbc_3g  jul_vbc_3g  jun_vbc_3g  churn_probability  \n",
       "0  1958         0.0         0.0         0.0                  0  \n",
       "1   710         0.0         0.0         0.0                  0  \n",
       "2   882         0.0         0.0         0.0                  0  \n",
       "3   982         0.0         0.0         0.0                  0  \n",
       "4   647         0.0         0.0         0.0                  0  \n",
       "\n",
       "[5 rows x 172 columns]"
      ]
     },
     "execution_count": 4,
     "metadata": {},
     "output_type": "execute_result"
    }
   ],
   "source": [
    "churn.head()"
   ]
  },
  {
   "cell_type": "code",
   "execution_count": 5,
   "id": "5bcfca59",
   "metadata": {
    "execution": {
     "iopub.execute_input": "2023-12-06T16:44:43.824073Z",
     "iopub.status.busy": "2023-12-06T16:44:43.823621Z",
     "iopub.status.idle": "2023-12-06T16:44:43.850922Z",
     "shell.execute_reply": "2023-12-06T16:44:43.849626Z"
    },
    "papermill": {
     "duration": 0.102609,
     "end_time": "2023-12-06T16:44:43.853755",
     "exception": false,
     "start_time": "2023-12-06T16:44:43.751146",
     "status": "completed"
    },
    "tags": []
   },
   "outputs": [],
   "source": [
    "# create backup of data\n",
    "original = churn.copy()"
   ]
  },
  {
   "cell_type": "code",
   "execution_count": 6,
   "id": "deaba6a9",
   "metadata": {
    "execution": {
     "iopub.execute_input": "2023-12-06T16:44:44.000399Z",
     "iopub.status.busy": "2023-12-06T16:44:43.999996Z",
     "iopub.status.idle": "2023-12-06T16:44:44.030345Z",
     "shell.execute_reply": "2023-12-06T16:44:44.029498Z"
    },
    "papermill": {
     "duration": 0.10708,
     "end_time": "2023-12-06T16:44:44.032792",
     "exception": false,
     "start_time": "2023-12-06T16:44:43.925712",
     "status": "completed"
    },
    "tags": []
   },
   "outputs": [
    {
     "data": {
      "text/html": [
       "<div>\n",
       "<style scoped>\n",
       "    .dataframe tbody tr th:only-of-type {\n",
       "        vertical-align: middle;\n",
       "    }\n",
       "\n",
       "    .dataframe tbody tr th {\n",
       "        vertical-align: top;\n",
       "    }\n",
       "\n",
       "    .dataframe thead th {\n",
       "        text-align: right;\n",
       "    }\n",
       "</style>\n",
       "<table border=\"1\" class=\"dataframe\">\n",
       "  <thead>\n",
       "    <tr style=\"text-align: right;\">\n",
       "      <th></th>\n",
       "      <th>id</th>\n",
       "      <th>circle_id</th>\n",
       "      <th>loc_og_t2o_mou</th>\n",
       "      <th>std_og_t2o_mou</th>\n",
       "      <th>loc_ic_t2o_mou</th>\n",
       "      <th>last_date_of_month_6</th>\n",
       "      <th>last_date_of_month_7</th>\n",
       "      <th>last_date_of_month_8</th>\n",
       "      <th>arpu_6</th>\n",
       "      <th>arpu_7</th>\n",
       "      <th>...</th>\n",
       "      <th>sachet_3g_7</th>\n",
       "      <th>sachet_3g_8</th>\n",
       "      <th>fb_user_6</th>\n",
       "      <th>fb_user_7</th>\n",
       "      <th>fb_user_8</th>\n",
       "      <th>aon</th>\n",
       "      <th>aug_vbc_3g</th>\n",
       "      <th>jul_vbc_3g</th>\n",
       "      <th>jun_vbc_3g</th>\n",
       "      <th>churn_probability</th>\n",
       "    </tr>\n",
       "  </thead>\n",
       "  <tbody>\n",
       "    <tr>\n",
       "      <th>69994</th>\n",
       "      <td>69994</td>\n",
       "      <td>109</td>\n",
       "      <td>0.0</td>\n",
       "      <td>0.0</td>\n",
       "      <td>0.0</td>\n",
       "      <td>6/30/2014</td>\n",
       "      <td>7/31/2014</td>\n",
       "      <td>8/31/2014</td>\n",
       "      <td>15.760</td>\n",
       "      <td>410.924</td>\n",
       "      <td>...</td>\n",
       "      <td>1</td>\n",
       "      <td>0</td>\n",
       "      <td>NaN</td>\n",
       "      <td>1.0</td>\n",
       "      <td>1.0</td>\n",
       "      <td>221</td>\n",
       "      <td>0.00</td>\n",
       "      <td>0.00</td>\n",
       "      <td>0.00</td>\n",
       "      <td>0</td>\n",
       "    </tr>\n",
       "    <tr>\n",
       "      <th>69995</th>\n",
       "      <td>69995</td>\n",
       "      <td>109</td>\n",
       "      <td>0.0</td>\n",
       "      <td>0.0</td>\n",
       "      <td>0.0</td>\n",
       "      <td>6/30/2014</td>\n",
       "      <td>7/31/2014</td>\n",
       "      <td>8/31/2014</td>\n",
       "      <td>160.083</td>\n",
       "      <td>289.129</td>\n",
       "      <td>...</td>\n",
       "      <td>0</td>\n",
       "      <td>0</td>\n",
       "      <td>NaN</td>\n",
       "      <td>NaN</td>\n",
       "      <td>NaN</td>\n",
       "      <td>712</td>\n",
       "      <td>0.00</td>\n",
       "      <td>0.00</td>\n",
       "      <td>0.00</td>\n",
       "      <td>0</td>\n",
       "    </tr>\n",
       "    <tr>\n",
       "      <th>69996</th>\n",
       "      <td>69996</td>\n",
       "      <td>109</td>\n",
       "      <td>0.0</td>\n",
       "      <td>0.0</td>\n",
       "      <td>0.0</td>\n",
       "      <td>6/30/2014</td>\n",
       "      <td>7/31/2014</td>\n",
       "      <td>8/31/2014</td>\n",
       "      <td>372.088</td>\n",
       "      <td>258.374</td>\n",
       "      <td>...</td>\n",
       "      <td>0</td>\n",
       "      <td>0</td>\n",
       "      <td>NaN</td>\n",
       "      <td>NaN</td>\n",
       "      <td>NaN</td>\n",
       "      <td>879</td>\n",
       "      <td>0.00</td>\n",
       "      <td>0.00</td>\n",
       "      <td>0.00</td>\n",
       "      <td>0</td>\n",
       "    </tr>\n",
       "    <tr>\n",
       "      <th>69997</th>\n",
       "      <td>69997</td>\n",
       "      <td>109</td>\n",
       "      <td>0.0</td>\n",
       "      <td>0.0</td>\n",
       "      <td>0.0</td>\n",
       "      <td>6/30/2014</td>\n",
       "      <td>7/31/2014</td>\n",
       "      <td>8/31/2014</td>\n",
       "      <td>238.575</td>\n",
       "      <td>245.414</td>\n",
       "      <td>...</td>\n",
       "      <td>0</td>\n",
       "      <td>0</td>\n",
       "      <td>1.0</td>\n",
       "      <td>1.0</td>\n",
       "      <td>1.0</td>\n",
       "      <td>277</td>\n",
       "      <td>664.25</td>\n",
       "      <td>1402.96</td>\n",
       "      <td>990.97</td>\n",
       "      <td>0</td>\n",
       "    </tr>\n",
       "    <tr>\n",
       "      <th>69998</th>\n",
       "      <td>69998</td>\n",
       "      <td>109</td>\n",
       "      <td>0.0</td>\n",
       "      <td>0.0</td>\n",
       "      <td>0.0</td>\n",
       "      <td>6/30/2014</td>\n",
       "      <td>7/31/2014</td>\n",
       "      <td>8/31/2014</td>\n",
       "      <td>168.269</td>\n",
       "      <td>42.815</td>\n",
       "      <td>...</td>\n",
       "      <td>0</td>\n",
       "      <td>0</td>\n",
       "      <td>1.0</td>\n",
       "      <td>NaN</td>\n",
       "      <td>1.0</td>\n",
       "      <td>1876</td>\n",
       "      <td>0.00</td>\n",
       "      <td>0.00</td>\n",
       "      <td>0.00</td>\n",
       "      <td>0</td>\n",
       "    </tr>\n",
       "  </tbody>\n",
       "</table>\n",
       "<p>5 rows × 172 columns</p>\n",
       "</div>"
      ],
      "text/plain": [
       "          id  circle_id  loc_og_t2o_mou  std_og_t2o_mou  loc_ic_t2o_mou  \\\n",
       "69994  69994        109             0.0             0.0             0.0   \n",
       "69995  69995        109             0.0             0.0             0.0   \n",
       "69996  69996        109             0.0             0.0             0.0   \n",
       "69997  69997        109             0.0             0.0             0.0   \n",
       "69998  69998        109             0.0             0.0             0.0   \n",
       "\n",
       "      last_date_of_month_6 last_date_of_month_7 last_date_of_month_8   arpu_6  \\\n",
       "69994            6/30/2014            7/31/2014            8/31/2014   15.760   \n",
       "69995            6/30/2014            7/31/2014            8/31/2014  160.083   \n",
       "69996            6/30/2014            7/31/2014            8/31/2014  372.088   \n",
       "69997            6/30/2014            7/31/2014            8/31/2014  238.575   \n",
       "69998            6/30/2014            7/31/2014            8/31/2014  168.269   \n",
       "\n",
       "        arpu_7  ...  sachet_3g_7  sachet_3g_8  fb_user_6  fb_user_7  \\\n",
       "69994  410.924  ...            1            0        NaN        1.0   \n",
       "69995  289.129  ...            0            0        NaN        NaN   \n",
       "69996  258.374  ...            0            0        NaN        NaN   \n",
       "69997  245.414  ...            0            0        1.0        1.0   \n",
       "69998   42.815  ...            0            0        1.0        NaN   \n",
       "\n",
       "       fb_user_8   aon  aug_vbc_3g  jul_vbc_3g  jun_vbc_3g  churn_probability  \n",
       "69994        1.0   221        0.00        0.00        0.00                  0  \n",
       "69995        NaN   712        0.00        0.00        0.00                  0  \n",
       "69996        NaN   879        0.00        0.00        0.00                  0  \n",
       "69997        1.0   277      664.25     1402.96      990.97                  0  \n",
       "69998        1.0  1876        0.00        0.00        0.00                  0  \n",
       "\n",
       "[5 rows x 172 columns]"
      ]
     },
     "execution_count": 6,
     "metadata": {},
     "output_type": "execute_result"
    }
   ],
   "source": [
    "#look at the last 5 rows\n",
    "churn.tail() "
   ]
  },
  {
   "cell_type": "code",
   "execution_count": 7,
   "id": "dae080ab",
   "metadata": {
    "execution": {
     "iopub.execute_input": "2023-12-06T16:44:44.181625Z",
     "iopub.status.busy": "2023-12-06T16:44:44.181222Z",
     "iopub.status.idle": "2023-12-06T16:44:44.189334Z",
     "shell.execute_reply": "2023-12-06T16:44:44.187924Z"
    },
    "papermill": {
     "duration": 0.083865,
     "end_time": "2023-12-06T16:44:44.191972",
     "exception": false,
     "start_time": "2023-12-06T16:44:44.108107",
     "status": "completed"
    },
    "tags": []
   },
   "outputs": [
    {
     "data": {
      "text/plain": [
       "Index(['id', 'circle_id', 'loc_og_t2o_mou', 'std_og_t2o_mou', 'loc_ic_t2o_mou',\n",
       "       'last_date_of_month_6', 'last_date_of_month_7', 'last_date_of_month_8',\n",
       "       'arpu_6', 'arpu_7',\n",
       "       ...\n",
       "       'sachet_3g_7', 'sachet_3g_8', 'fb_user_6', 'fb_user_7', 'fb_user_8',\n",
       "       'aon', 'aug_vbc_3g', 'jul_vbc_3g', 'jun_vbc_3g', 'churn_probability'],\n",
       "      dtype='object', length=172)"
      ]
     },
     "execution_count": 7,
     "metadata": {},
     "output_type": "execute_result"
    }
   ],
   "source": [
    "#check the columns of data\n",
    "churn.columns"
   ]
  },
  {
   "cell_type": "code",
   "execution_count": 8,
   "id": "7dab6acd",
   "metadata": {
    "execution": {
     "iopub.execute_input": "2023-12-06T16:44:44.338162Z",
     "iopub.status.busy": "2023-12-06T16:44:44.337740Z",
     "iopub.status.idle": "2023-12-06T16:44:45.248263Z",
     "shell.execute_reply": "2023-12-06T16:44:45.247014Z"
    },
    "papermill": {
     "duration": 0.98673,
     "end_time": "2023-12-06T16:44:45.250779",
     "exception": false,
     "start_time": "2023-12-06T16:44:44.264049",
     "status": "completed"
    },
    "tags": []
   },
   "outputs": [
    {
     "data": {
      "text/html": [
       "<div>\n",
       "<style scoped>\n",
       "    .dataframe tbody tr th:only-of-type {\n",
       "        vertical-align: middle;\n",
       "    }\n",
       "\n",
       "    .dataframe tbody tr th {\n",
       "        vertical-align: top;\n",
       "    }\n",
       "\n",
       "    .dataframe thead th {\n",
       "        text-align: right;\n",
       "    }\n",
       "</style>\n",
       "<table border=\"1\" class=\"dataframe\">\n",
       "  <thead>\n",
       "    <tr style=\"text-align: right;\">\n",
       "      <th></th>\n",
       "      <th>id</th>\n",
       "      <th>circle_id</th>\n",
       "      <th>loc_og_t2o_mou</th>\n",
       "      <th>std_og_t2o_mou</th>\n",
       "      <th>loc_ic_t2o_mou</th>\n",
       "      <th>arpu_6</th>\n",
       "      <th>arpu_7</th>\n",
       "      <th>arpu_8</th>\n",
       "      <th>onnet_mou_6</th>\n",
       "      <th>onnet_mou_7</th>\n",
       "      <th>...</th>\n",
       "      <th>sachet_3g_7</th>\n",
       "      <th>sachet_3g_8</th>\n",
       "      <th>fb_user_6</th>\n",
       "      <th>fb_user_7</th>\n",
       "      <th>fb_user_8</th>\n",
       "      <th>aon</th>\n",
       "      <th>aug_vbc_3g</th>\n",
       "      <th>jul_vbc_3g</th>\n",
       "      <th>jun_vbc_3g</th>\n",
       "      <th>churn_probability</th>\n",
       "    </tr>\n",
       "  </thead>\n",
       "  <tbody>\n",
       "    <tr>\n",
       "      <th>count</th>\n",
       "      <td>69999.000000</td>\n",
       "      <td>69999.0</td>\n",
       "      <td>69297.0</td>\n",
       "      <td>69297.0</td>\n",
       "      <td>69297.0</td>\n",
       "      <td>69999.000000</td>\n",
       "      <td>69999.000000</td>\n",
       "      <td>69999.000000</td>\n",
       "      <td>67231.000000</td>\n",
       "      <td>67312.000000</td>\n",
       "      <td>...</td>\n",
       "      <td>69999.000000</td>\n",
       "      <td>69999.000000</td>\n",
       "      <td>17568.000000</td>\n",
       "      <td>17865.000000</td>\n",
       "      <td>18417.000000</td>\n",
       "      <td>69999.000000</td>\n",
       "      <td>69999.000000</td>\n",
       "      <td>69999.000000</td>\n",
       "      <td>69999.00000</td>\n",
       "      <td>69999.000000</td>\n",
       "    </tr>\n",
       "    <tr>\n",
       "      <th>mean</th>\n",
       "      <td>34999.000000</td>\n",
       "      <td>109.0</td>\n",
       "      <td>0.0</td>\n",
       "      <td>0.0</td>\n",
       "      <td>0.0</td>\n",
       "      <td>283.134365</td>\n",
       "      <td>278.185912</td>\n",
       "      <td>278.858826</td>\n",
       "      <td>133.153275</td>\n",
       "      <td>133.894438</td>\n",
       "      <td>...</td>\n",
       "      <td>0.081444</td>\n",
       "      <td>0.085487</td>\n",
       "      <td>0.916325</td>\n",
       "      <td>0.909544</td>\n",
       "      <td>0.890319</td>\n",
       "      <td>1220.639709</td>\n",
       "      <td>68.108597</td>\n",
       "      <td>65.935830</td>\n",
       "      <td>60.07674</td>\n",
       "      <td>0.101887</td>\n",
       "    </tr>\n",
       "    <tr>\n",
       "      <th>std</th>\n",
       "      <td>20207.115084</td>\n",
       "      <td>0.0</td>\n",
       "      <td>0.0</td>\n",
       "      <td>0.0</td>\n",
       "      <td>0.0</td>\n",
       "      <td>334.213918</td>\n",
       "      <td>344.366927</td>\n",
       "      <td>351.924315</td>\n",
       "      <td>299.963093</td>\n",
       "      <td>311.277193</td>\n",
       "      <td>...</td>\n",
       "      <td>0.634547</td>\n",
       "      <td>0.680035</td>\n",
       "      <td>0.276907</td>\n",
       "      <td>0.286842</td>\n",
       "      <td>0.312501</td>\n",
       "      <td>952.426321</td>\n",
       "      <td>269.328659</td>\n",
       "      <td>267.899034</td>\n",
       "      <td>257.22681</td>\n",
       "      <td>0.302502</td>\n",
       "    </tr>\n",
       "    <tr>\n",
       "      <th>min</th>\n",
       "      <td>0.000000</td>\n",
       "      <td>109.0</td>\n",
       "      <td>0.0</td>\n",
       "      <td>0.0</td>\n",
       "      <td>0.0</td>\n",
       "      <td>-2258.709000</td>\n",
       "      <td>-1289.715000</td>\n",
       "      <td>-945.808000</td>\n",
       "      <td>0.000000</td>\n",
       "      <td>0.000000</td>\n",
       "      <td>...</td>\n",
       "      <td>0.000000</td>\n",
       "      <td>0.000000</td>\n",
       "      <td>0.000000</td>\n",
       "      <td>0.000000</td>\n",
       "      <td>0.000000</td>\n",
       "      <td>180.000000</td>\n",
       "      <td>0.000000</td>\n",
       "      <td>0.000000</td>\n",
       "      <td>0.00000</td>\n",
       "      <td>0.000000</td>\n",
       "    </tr>\n",
       "    <tr>\n",
       "      <th>25%</th>\n",
       "      <td>17499.500000</td>\n",
       "      <td>109.0</td>\n",
       "      <td>0.0</td>\n",
       "      <td>0.0</td>\n",
       "      <td>0.0</td>\n",
       "      <td>93.581000</td>\n",
       "      <td>86.714000</td>\n",
       "      <td>84.095000</td>\n",
       "      <td>7.410000</td>\n",
       "      <td>6.675000</td>\n",
       "      <td>...</td>\n",
       "      <td>0.000000</td>\n",
       "      <td>0.000000</td>\n",
       "      <td>1.000000</td>\n",
       "      <td>1.000000</td>\n",
       "      <td>1.000000</td>\n",
       "      <td>468.000000</td>\n",
       "      <td>0.000000</td>\n",
       "      <td>0.000000</td>\n",
       "      <td>0.00000</td>\n",
       "      <td>0.000000</td>\n",
       "    </tr>\n",
       "    <tr>\n",
       "      <th>50%</th>\n",
       "      <td>34999.000000</td>\n",
       "      <td>109.0</td>\n",
       "      <td>0.0</td>\n",
       "      <td>0.0</td>\n",
       "      <td>0.0</td>\n",
       "      <td>197.484000</td>\n",
       "      <td>191.588000</td>\n",
       "      <td>192.234000</td>\n",
       "      <td>34.110000</td>\n",
       "      <td>32.280000</td>\n",
       "      <td>...</td>\n",
       "      <td>0.000000</td>\n",
       "      <td>0.000000</td>\n",
       "      <td>1.000000</td>\n",
       "      <td>1.000000</td>\n",
       "      <td>1.000000</td>\n",
       "      <td>868.000000</td>\n",
       "      <td>0.000000</td>\n",
       "      <td>0.000000</td>\n",
       "      <td>0.00000</td>\n",
       "      <td>0.000000</td>\n",
       "    </tr>\n",
       "    <tr>\n",
       "      <th>75%</th>\n",
       "      <td>52498.500000</td>\n",
       "      <td>109.0</td>\n",
       "      <td>0.0</td>\n",
       "      <td>0.0</td>\n",
       "      <td>0.0</td>\n",
       "      <td>370.791000</td>\n",
       "      <td>365.369500</td>\n",
       "      <td>369.909000</td>\n",
       "      <td>119.390000</td>\n",
       "      <td>115.837500</td>\n",
       "      <td>...</td>\n",
       "      <td>0.000000</td>\n",
       "      <td>0.000000</td>\n",
       "      <td>1.000000</td>\n",
       "      <td>1.000000</td>\n",
       "      <td>1.000000</td>\n",
       "      <td>1813.000000</td>\n",
       "      <td>0.000000</td>\n",
       "      <td>0.000000</td>\n",
       "      <td>0.00000</td>\n",
       "      <td>0.000000</td>\n",
       "    </tr>\n",
       "    <tr>\n",
       "      <th>max</th>\n",
       "      <td>69998.000000</td>\n",
       "      <td>109.0</td>\n",
       "      <td>0.0</td>\n",
       "      <td>0.0</td>\n",
       "      <td>0.0</td>\n",
       "      <td>27731.088000</td>\n",
       "      <td>35145.834000</td>\n",
       "      <td>33543.624000</td>\n",
       "      <td>7376.710000</td>\n",
       "      <td>8157.780000</td>\n",
       "      <td>...</td>\n",
       "      <td>33.000000</td>\n",
       "      <td>41.000000</td>\n",
       "      <td>1.000000</td>\n",
       "      <td>1.000000</td>\n",
       "      <td>1.000000</td>\n",
       "      <td>4337.000000</td>\n",
       "      <td>12916.220000</td>\n",
       "      <td>9165.600000</td>\n",
       "      <td>11166.21000</td>\n",
       "      <td>1.000000</td>\n",
       "    </tr>\n",
       "  </tbody>\n",
       "</table>\n",
       "<p>8 rows × 163 columns</p>\n",
       "</div>"
      ],
      "text/plain": [
       "                 id  circle_id  loc_og_t2o_mou  std_og_t2o_mou  \\\n",
       "count  69999.000000    69999.0         69297.0         69297.0   \n",
       "mean   34999.000000      109.0             0.0             0.0   \n",
       "std    20207.115084        0.0             0.0             0.0   \n",
       "min        0.000000      109.0             0.0             0.0   \n",
       "25%    17499.500000      109.0             0.0             0.0   \n",
       "50%    34999.000000      109.0             0.0             0.0   \n",
       "75%    52498.500000      109.0             0.0             0.0   \n",
       "max    69998.000000      109.0             0.0             0.0   \n",
       "\n",
       "       loc_ic_t2o_mou        arpu_6        arpu_7        arpu_8   onnet_mou_6  \\\n",
       "count         69297.0  69999.000000  69999.000000  69999.000000  67231.000000   \n",
       "mean              0.0    283.134365    278.185912    278.858826    133.153275   \n",
       "std               0.0    334.213918    344.366927    351.924315    299.963093   \n",
       "min               0.0  -2258.709000  -1289.715000   -945.808000      0.000000   \n",
       "25%               0.0     93.581000     86.714000     84.095000      7.410000   \n",
       "50%               0.0    197.484000    191.588000    192.234000     34.110000   \n",
       "75%               0.0    370.791000    365.369500    369.909000    119.390000   \n",
       "max               0.0  27731.088000  35145.834000  33543.624000   7376.710000   \n",
       "\n",
       "        onnet_mou_7  ...   sachet_3g_7   sachet_3g_8     fb_user_6  \\\n",
       "count  67312.000000  ...  69999.000000  69999.000000  17568.000000   \n",
       "mean     133.894438  ...      0.081444      0.085487      0.916325   \n",
       "std      311.277193  ...      0.634547      0.680035      0.276907   \n",
       "min        0.000000  ...      0.000000      0.000000      0.000000   \n",
       "25%        6.675000  ...      0.000000      0.000000      1.000000   \n",
       "50%       32.280000  ...      0.000000      0.000000      1.000000   \n",
       "75%      115.837500  ...      0.000000      0.000000      1.000000   \n",
       "max     8157.780000  ...     33.000000     41.000000      1.000000   \n",
       "\n",
       "          fb_user_7     fb_user_8           aon    aug_vbc_3g    jul_vbc_3g  \\\n",
       "count  17865.000000  18417.000000  69999.000000  69999.000000  69999.000000   \n",
       "mean       0.909544      0.890319   1220.639709     68.108597     65.935830   \n",
       "std        0.286842      0.312501    952.426321    269.328659    267.899034   \n",
       "min        0.000000      0.000000    180.000000      0.000000      0.000000   \n",
       "25%        1.000000      1.000000    468.000000      0.000000      0.000000   \n",
       "50%        1.000000      1.000000    868.000000      0.000000      0.000000   \n",
       "75%        1.000000      1.000000   1813.000000      0.000000      0.000000   \n",
       "max        1.000000      1.000000   4337.000000  12916.220000   9165.600000   \n",
       "\n",
       "        jun_vbc_3g  churn_probability  \n",
       "count  69999.00000       69999.000000  \n",
       "mean      60.07674           0.101887  \n",
       "std      257.22681           0.302502  \n",
       "min        0.00000           0.000000  \n",
       "25%        0.00000           0.000000  \n",
       "50%        0.00000           0.000000  \n",
       "75%        0.00000           0.000000  \n",
       "max    11166.21000           1.000000  \n",
       "\n",
       "[8 rows x 163 columns]"
      ]
     },
     "execution_count": 8,
     "metadata": {},
     "output_type": "execute_result"
    }
   ],
   "source": [
    "#Checking the numerical columns data distribution statistics\n",
    "churn.describe()"
   ]
  },
  {
   "cell_type": "code",
   "execution_count": 9,
   "id": "1b29a045",
   "metadata": {
    "execution": {
     "iopub.execute_input": "2023-12-06T16:44:45.401669Z",
     "iopub.status.busy": "2023-12-06T16:44:45.401264Z",
     "iopub.status.idle": "2023-12-06T16:44:45.437871Z",
     "shell.execute_reply": "2023-12-06T16:44:45.436404Z"
    },
    "papermill": {
     "duration": 0.116162,
     "end_time": "2023-12-06T16:44:45.440314",
     "exception": false,
     "start_time": "2023-12-06T16:44:45.324152",
     "status": "completed"
    },
    "tags": []
   },
   "outputs": [
    {
     "name": "stdout",
     "output_type": "stream",
     "text": [
      "<class 'pandas.core.frame.DataFrame'>\n",
      "RangeIndex: 69999 entries, 0 to 69998\n",
      "Columns: 172 entries, id to churn_probability\n",
      "dtypes: float64(135), int64(28), object(9)\n",
      "memory usage: 91.9+ MB\n"
     ]
    }
   ],
   "source": [
    "#check dataframe for null and datatype \n",
    "churn.info()"
   ]
  },
  {
   "cell_type": "code",
   "execution_count": 10,
   "id": "0fcc4897",
   "metadata": {
    "execution": {
     "iopub.execute_input": "2023-12-06T16:44:45.589322Z",
     "iopub.status.busy": "2023-12-06T16:44:45.588886Z",
     "iopub.status.idle": "2023-12-06T16:44:45.605981Z",
     "shell.execute_reply": "2023-12-06T16:44:45.605083Z"
    },
    "papermill": {
     "duration": 0.096768,
     "end_time": "2023-12-06T16:44:45.609478",
     "exception": false,
     "start_time": "2023-12-06T16:44:45.512710",
     "status": "completed"
    },
    "tags": []
   },
   "outputs": [
    {
     "name": "stdout",
     "output_type": "stream",
     "text": [
      "<class 'pandas.core.frame.DataFrame'>\n",
      "RangeIndex: 69999 entries, 0 to 69998\n",
      "Data columns (total 172 columns):\n",
      " #    Column                    Dtype  \n",
      "---   ------                    -----  \n",
      " 0    id                        int64  \n",
      " 1    circle_id                 int64  \n",
      " 2    loc_og_t2o_mou            float64\n",
      " 3    std_og_t2o_mou            float64\n",
      " 4    loc_ic_t2o_mou            float64\n",
      " 5    last_date_of_month_6      object \n",
      " 6    last_date_of_month_7      object \n",
      " 7    last_date_of_month_8      object \n",
      " 8    arpu_6                    float64\n",
      " 9    arpu_7                    float64\n",
      " 10   arpu_8                    float64\n",
      " 11   onnet_mou_6               float64\n",
      " 12   onnet_mou_7               float64\n",
      " 13   onnet_mou_8               float64\n",
      " 14   offnet_mou_6              float64\n",
      " 15   offnet_mou_7              float64\n",
      " 16   offnet_mou_8              float64\n",
      " 17   roam_ic_mou_6             float64\n",
      " 18   roam_ic_mou_7             float64\n",
      " 19   roam_ic_mou_8             float64\n",
      " 20   roam_og_mou_6             float64\n",
      " 21   roam_og_mou_7             float64\n",
      " 22   roam_og_mou_8             float64\n",
      " 23   loc_og_t2t_mou_6          float64\n",
      " 24   loc_og_t2t_mou_7          float64\n",
      " 25   loc_og_t2t_mou_8          float64\n",
      " 26   loc_og_t2m_mou_6          float64\n",
      " 27   loc_og_t2m_mou_7          float64\n",
      " 28   loc_og_t2m_mou_8          float64\n",
      " 29   loc_og_t2f_mou_6          float64\n",
      " 30   loc_og_t2f_mou_7          float64\n",
      " 31   loc_og_t2f_mou_8          float64\n",
      " 32   loc_og_t2c_mou_6          float64\n",
      " 33   loc_og_t2c_mou_7          float64\n",
      " 34   loc_og_t2c_mou_8          float64\n",
      " 35   loc_og_mou_6              float64\n",
      " 36   loc_og_mou_7              float64\n",
      " 37   loc_og_mou_8              float64\n",
      " 38   std_og_t2t_mou_6          float64\n",
      " 39   std_og_t2t_mou_7          float64\n",
      " 40   std_og_t2t_mou_8          float64\n",
      " 41   std_og_t2m_mou_6          float64\n",
      " 42   std_og_t2m_mou_7          float64\n",
      " 43   std_og_t2m_mou_8          float64\n",
      " 44   std_og_t2f_mou_6          float64\n",
      " 45   std_og_t2f_mou_7          float64\n",
      " 46   std_og_t2f_mou_8          float64\n",
      " 47   std_og_t2c_mou_6          float64\n",
      " 48   std_og_t2c_mou_7          float64\n",
      " 49   std_og_t2c_mou_8          float64\n",
      " 50   std_og_mou_6              float64\n",
      " 51   std_og_mou_7              float64\n",
      " 52   std_og_mou_8              float64\n",
      " 53   isd_og_mou_6              float64\n",
      " 54   isd_og_mou_7              float64\n",
      " 55   isd_og_mou_8              float64\n",
      " 56   spl_og_mou_6              float64\n",
      " 57   spl_og_mou_7              float64\n",
      " 58   spl_og_mou_8              float64\n",
      " 59   og_others_6               float64\n",
      " 60   og_others_7               float64\n",
      " 61   og_others_8               float64\n",
      " 62   total_og_mou_6            float64\n",
      " 63   total_og_mou_7            float64\n",
      " 64   total_og_mou_8            float64\n",
      " 65   loc_ic_t2t_mou_6          float64\n",
      " 66   loc_ic_t2t_mou_7          float64\n",
      " 67   loc_ic_t2t_mou_8          float64\n",
      " 68   loc_ic_t2m_mou_6          float64\n",
      " 69   loc_ic_t2m_mou_7          float64\n",
      " 70   loc_ic_t2m_mou_8          float64\n",
      " 71   loc_ic_t2f_mou_6          float64\n",
      " 72   loc_ic_t2f_mou_7          float64\n",
      " 73   loc_ic_t2f_mou_8          float64\n",
      " 74   loc_ic_mou_6              float64\n",
      " 75   loc_ic_mou_7              float64\n",
      " 76   loc_ic_mou_8              float64\n",
      " 77   std_ic_t2t_mou_6          float64\n",
      " 78   std_ic_t2t_mou_7          float64\n",
      " 79   std_ic_t2t_mou_8          float64\n",
      " 80   std_ic_t2m_mou_6          float64\n",
      " 81   std_ic_t2m_mou_7          float64\n",
      " 82   std_ic_t2m_mou_8          float64\n",
      " 83   std_ic_t2f_mou_6          float64\n",
      " 84   std_ic_t2f_mou_7          float64\n",
      " 85   std_ic_t2f_mou_8          float64\n",
      " 86   std_ic_t2o_mou_6          float64\n",
      " 87   std_ic_t2o_mou_7          float64\n",
      " 88   std_ic_t2o_mou_8          float64\n",
      " 89   std_ic_mou_6              float64\n",
      " 90   std_ic_mou_7              float64\n",
      " 91   std_ic_mou_8              float64\n",
      " 92   total_ic_mou_6            float64\n",
      " 93   total_ic_mou_7            float64\n",
      " 94   total_ic_mou_8            float64\n",
      " 95   spl_ic_mou_6              float64\n",
      " 96   spl_ic_mou_7              float64\n",
      " 97   spl_ic_mou_8              float64\n",
      " 98   isd_ic_mou_6              float64\n",
      " 99   isd_ic_mou_7              float64\n",
      " 100  isd_ic_mou_8              float64\n",
      " 101  ic_others_6               float64\n",
      " 102  ic_others_7               float64\n",
      " 103  ic_others_8               float64\n",
      " 104  total_rech_num_6          int64  \n",
      " 105  total_rech_num_7          int64  \n",
      " 106  total_rech_num_8          int64  \n",
      " 107  total_rech_amt_6          int64  \n",
      " 108  total_rech_amt_7          int64  \n",
      " 109  total_rech_amt_8          int64  \n",
      " 110  max_rech_amt_6            int64  \n",
      " 111  max_rech_amt_7            int64  \n",
      " 112  max_rech_amt_8            int64  \n",
      " 113  date_of_last_rech_6       object \n",
      " 114  date_of_last_rech_7       object \n",
      " 115  date_of_last_rech_8       object \n",
      " 116  last_day_rch_amt_6        int64  \n",
      " 117  last_day_rch_amt_7        int64  \n",
      " 118  last_day_rch_amt_8        int64  \n",
      " 119  date_of_last_rech_data_6  object \n",
      " 120  date_of_last_rech_data_7  object \n",
      " 121  date_of_last_rech_data_8  object \n",
      " 122  total_rech_data_6         float64\n",
      " 123  total_rech_data_7         float64\n",
      " 124  total_rech_data_8         float64\n",
      " 125  max_rech_data_6           float64\n",
      " 126  max_rech_data_7           float64\n",
      " 127  max_rech_data_8           float64\n",
      " 128  count_rech_2g_6           float64\n",
      " 129  count_rech_2g_7           float64\n",
      " 130  count_rech_2g_8           float64\n",
      " 131  count_rech_3g_6           float64\n",
      " 132  count_rech_3g_7           float64\n",
      " 133  count_rech_3g_8           float64\n",
      " 134  av_rech_amt_data_6        float64\n",
      " 135  av_rech_amt_data_7        float64\n",
      " 136  av_rech_amt_data_8        float64\n",
      " 137  vol_2g_mb_6               float64\n",
      " 138  vol_2g_mb_7               float64\n",
      " 139  vol_2g_mb_8               float64\n",
      " 140  vol_3g_mb_6               float64\n",
      " 141  vol_3g_mb_7               float64\n",
      " 142  vol_3g_mb_8               float64\n",
      " 143  arpu_3g_6                 float64\n",
      " 144  arpu_3g_7                 float64\n",
      " 145  arpu_3g_8                 float64\n",
      " 146  arpu_2g_6                 float64\n",
      " 147  arpu_2g_7                 float64\n",
      " 148  arpu_2g_8                 float64\n",
      " 149  night_pck_user_6          float64\n",
      " 150  night_pck_user_7          float64\n",
      " 151  night_pck_user_8          float64\n",
      " 152  monthly_2g_6              int64  \n",
      " 153  monthly_2g_7              int64  \n",
      " 154  monthly_2g_8              int64  \n",
      " 155  sachet_2g_6               int64  \n",
      " 156  sachet_2g_7               int64  \n",
      " 157  sachet_2g_8               int64  \n",
      " 158  monthly_3g_6              int64  \n",
      " 159  monthly_3g_7              int64  \n",
      " 160  monthly_3g_8              int64  \n",
      " 161  sachet_3g_6               int64  \n",
      " 162  sachet_3g_7               int64  \n",
      " 163  sachet_3g_8               int64  \n",
      " 164  fb_user_6                 float64\n",
      " 165  fb_user_7                 float64\n",
      " 166  fb_user_8                 float64\n",
      " 167  aon                       int64  \n",
      " 168  aug_vbc_3g                float64\n",
      " 169  jul_vbc_3g                float64\n",
      " 170  jun_vbc_3g                float64\n",
      " 171  churn_probability         int64  \n",
      "dtypes: float64(135), int64(28), object(9)\n",
      "memory usage: 91.9+ MB\n"
     ]
    }
   ],
   "source": [
    "# feature type summary\n",
    "churn.info(verbose=1)"
   ]
  },
  {
   "cell_type": "code",
   "execution_count": 11,
   "id": "f0eb568f",
   "metadata": {
    "execution": {
     "iopub.execute_input": "2023-12-06T16:44:45.758876Z",
     "iopub.status.busy": "2023-12-06T16:44:45.758429Z",
     "iopub.status.idle": "2023-12-06T16:44:45.839214Z",
     "shell.execute_reply": "2023-12-06T16:44:45.838043Z"
    },
    "papermill": {
     "duration": 0.158818,
     "end_time": "2023-12-06T16:44:45.842030",
     "exception": false,
     "start_time": "2023-12-06T16:44:45.683212",
     "status": "completed"
    },
    "tags": []
   },
   "outputs": [
    {
     "data": {
      "text/plain": [
       "id                     0\n",
       "circle_id              0\n",
       "loc_og_t2o_mou       702\n",
       "std_og_t2o_mou       702\n",
       "loc_ic_t2o_mou       702\n",
       "                    ... \n",
       "aon                    0\n",
       "aug_vbc_3g             0\n",
       "jul_vbc_3g             0\n",
       "jun_vbc_3g             0\n",
       "churn_probability      0\n",
       "Length: 172, dtype: int64"
      ]
     },
     "execution_count": 11,
     "metadata": {},
     "output_type": "execute_result"
    }
   ],
   "source": [
    "# Checking for null values\n",
    "churn.isnull().sum()"
   ]
  },
  {
   "cell_type": "code",
   "execution_count": 12,
   "id": "c5235e4a",
   "metadata": {
    "execution": {
     "iopub.execute_input": "2023-12-06T16:44:45.990346Z",
     "iopub.status.busy": "2023-12-06T16:44:45.989953Z",
     "iopub.status.idle": "2023-12-06T16:44:46.150710Z",
     "shell.execute_reply": "2023-12-06T16:44:46.149556Z"
    },
    "papermill": {
     "duration": 0.237249,
     "end_time": "2023-12-06T16:44:46.153356",
     "exception": false,
     "start_time": "2023-12-06T16:44:45.916107",
     "status": "completed"
    },
    "tags": []
   },
   "outputs": [
    {
     "data": {
      "text/plain": [
       "id                   0.000000\n",
       "circle_id            0.000000\n",
       "loc_og_t2o_mou       1.002871\n",
       "std_og_t2o_mou       1.002871\n",
       "loc_ic_t2o_mou       1.002871\n",
       "                       ...   \n",
       "aon                  0.000000\n",
       "aug_vbc_3g           0.000000\n",
       "jul_vbc_3g           0.000000\n",
       "jun_vbc_3g           0.000000\n",
       "churn_probability    0.000000\n",
       "Length: 172, dtype: float64"
      ]
     },
     "execution_count": 12,
     "metadata": {},
     "output_type": "execute_result"
    }
   ],
   "source": [
    "# Checking the null value percentage\n",
    "churn.isna().sum()/churn.isna().count()*100"
   ]
  },
  {
   "cell_type": "code",
   "execution_count": 13,
   "id": "75caccc6",
   "metadata": {
    "execution": {
     "iopub.execute_input": "2023-12-06T16:44:46.302298Z",
     "iopub.status.busy": "2023-12-06T16:44:46.301892Z",
     "iopub.status.idle": "2023-12-06T16:44:46.309154Z",
     "shell.execute_reply": "2023-12-06T16:44:46.307919Z"
    },
    "papermill": {
     "duration": 0.084848,
     "end_time": "2023-12-06T16:44:46.311542",
     "exception": false,
     "start_time": "2023-12-06T16:44:46.226694",
     "status": "completed"
    },
    "tags": []
   },
   "outputs": [
    {
     "data": {
      "text/plain": [
       "(69999, 172)"
      ]
     },
     "execution_count": 13,
     "metadata": {},
     "output_type": "execute_result"
    }
   ],
   "source": [
    "# Checking for shape of a data set\n",
    "churn.shape"
   ]
  },
  {
   "cell_type": "code",
   "execution_count": 14,
   "id": "ac015c50",
   "metadata": {
    "execution": {
     "iopub.execute_input": "2023-12-06T16:44:46.460421Z",
     "iopub.status.busy": "2023-12-06T16:44:46.459967Z",
     "iopub.status.idle": "2023-12-06T16:44:47.112552Z",
     "shell.execute_reply": "2023-12-06T16:44:47.111346Z"
    },
    "papermill": {
     "duration": 0.730218,
     "end_time": "2023-12-06T16:44:47.115170",
     "exception": false,
     "start_time": "2023-12-06T16:44:46.384952",
     "status": "completed"
    },
    "tags": []
   },
   "outputs": [
    {
     "data": {
      "text/plain": [
       "(69999, 172)"
      ]
     },
     "execution_count": 14,
     "metadata": {},
     "output_type": "execute_result"
    }
   ],
   "source": [
    "# Checking for the duplicates\n",
    "churn.drop_duplicates(subset=None, inplace=True)\n",
    "churn.shape"
   ]
  },
  {
   "cell_type": "code",
   "execution_count": 15,
   "id": "798835ee",
   "metadata": {
    "execution": {
     "iopub.execute_input": "2023-12-06T16:44:47.264045Z",
     "iopub.status.busy": "2023-12-06T16:44:47.263601Z",
     "iopub.status.idle": "2023-12-06T16:44:47.269879Z",
     "shell.execute_reply": "2023-12-06T16:44:47.269077Z"
    },
    "papermill": {
     "duration": 0.083112,
     "end_time": "2023-12-06T16:44:47.272095",
     "exception": false,
     "start_time": "2023-12-06T16:44:47.188983",
     "status": "completed"
    },
    "tags": []
   },
   "outputs": [
    {
     "data": {
      "text/plain": [
       "12039828"
      ]
     },
     "execution_count": 15,
     "metadata": {},
     "output_type": "execute_result"
    }
   ],
   "source": [
    "#check the size of data\n",
    "churn.size"
   ]
  },
  {
   "cell_type": "code",
   "execution_count": 16,
   "id": "71b69148",
   "metadata": {
    "execution": {
     "iopub.execute_input": "2023-12-06T16:44:47.421449Z",
     "iopub.status.busy": "2023-12-06T16:44:47.420764Z",
     "iopub.status.idle": "2023-12-06T16:44:47.427648Z",
     "shell.execute_reply": "2023-12-06T16:44:47.426444Z"
    },
    "papermill": {
     "duration": 0.084563,
     "end_time": "2023-12-06T16:44:47.430198",
     "exception": false,
     "start_time": "2023-12-06T16:44:47.345635",
     "status": "completed"
    },
    "tags": []
   },
   "outputs": [
    {
     "data": {
      "text/plain": [
       "[RangeIndex(start=0, stop=69999, step=1),\n",
       " Index(['id', 'circle_id', 'loc_og_t2o_mou', 'std_og_t2o_mou', 'loc_ic_t2o_mou',\n",
       "        'last_date_of_month_6', 'last_date_of_month_7', 'last_date_of_month_8',\n",
       "        'arpu_6', 'arpu_7',\n",
       "        ...\n",
       "        'sachet_3g_7', 'sachet_3g_8', 'fb_user_6', 'fb_user_7', 'fb_user_8',\n",
       "        'aon', 'aug_vbc_3g', 'jul_vbc_3g', 'jun_vbc_3g', 'churn_probability'],\n",
       "       dtype='object', length=172)]"
      ]
     },
     "execution_count": 16,
     "metadata": {},
     "output_type": "execute_result"
    }
   ],
   "source": [
    "#check the axes of data\n",
    "churn.axes"
   ]
  },
  {
   "cell_type": "code",
   "execution_count": 17,
   "id": "0a1b8ae3",
   "metadata": {
    "execution": {
     "iopub.execute_input": "2023-12-06T16:44:47.580730Z",
     "iopub.status.busy": "2023-12-06T16:44:47.580298Z",
     "iopub.status.idle": "2023-12-06T16:44:47.586528Z",
     "shell.execute_reply": "2023-12-06T16:44:47.585724Z"
    },
    "papermill": {
     "duration": 0.084275,
     "end_time": "2023-12-06T16:44:47.588920",
     "exception": false,
     "start_time": "2023-12-06T16:44:47.504645",
     "status": "completed"
    },
    "tags": []
   },
   "outputs": [
    {
     "data": {
      "text/plain": [
       "2"
      ]
     },
     "execution_count": 17,
     "metadata": {},
     "output_type": "execute_result"
    }
   ],
   "source": [
    "#check the dimensions of data\n",
    "churn.ndim"
   ]
  },
  {
   "cell_type": "code",
   "execution_count": 18,
   "id": "e8d91464",
   "metadata": {
    "execution": {
     "iopub.execute_input": "2023-12-06T16:44:47.739653Z",
     "iopub.status.busy": "2023-12-06T16:44:47.738394Z",
     "iopub.status.idle": "2023-12-06T16:44:48.886257Z",
     "shell.execute_reply": "2023-12-06T16:44:48.885077Z"
    },
    "papermill": {
     "duration": 1.226215,
     "end_time": "2023-12-06T16:44:48.889476",
     "exception": false,
     "start_time": "2023-12-06T16:44:47.663261",
     "status": "completed"
    },
    "tags": []
   },
   "outputs": [
    {
     "data": {
      "text/plain": [
       "array([[0, 109, 0.0, ..., 0.0, 0.0, 0],\n",
       "       [1, 109, 0.0, ..., 0.0, 0.0, 0],\n",
       "       [2, 109, 0.0, ..., 0.0, 0.0, 0],\n",
       "       ...,\n",
       "       [69996, 109, 0.0, ..., 0.0, 0.0, 0],\n",
       "       [69997, 109, 0.0, ..., 1402.96, 990.97, 0],\n",
       "       [69998, 109, 0.0, ..., 0.0, 0.0, 0]], dtype=object)"
      ]
     },
     "execution_count": 18,
     "metadata": {},
     "output_type": "execute_result"
    }
   ],
   "source": [
    "#check the values of data\n",
    "churn.values"
   ]
  },
  {
   "cell_type": "code",
   "execution_count": 19,
   "id": "287244a6",
   "metadata": {
    "execution": {
     "iopub.execute_input": "2023-12-06T16:44:49.043481Z",
     "iopub.status.busy": "2023-12-06T16:44:49.042999Z",
     "iopub.status.idle": "2023-12-06T16:44:49.059007Z",
     "shell.execute_reply": "2023-12-06T16:44:49.057337Z"
    },
    "papermill": {
     "duration": 0.096508,
     "end_time": "2023-12-06T16:44:49.061586",
     "exception": false,
     "start_time": "2023-12-06T16:44:48.965078",
     "status": "completed"
    },
    "tags": []
   },
   "outputs": [
    {
     "data": {
      "text/html": [
       "<div>\n",
       "<style scoped>\n",
       "    .dataframe tbody tr th:only-of-type {\n",
       "        vertical-align: middle;\n",
       "    }\n",
       "\n",
       "    .dataframe tbody tr th {\n",
       "        vertical-align: top;\n",
       "    }\n",
       "\n",
       "    .dataframe thead th {\n",
       "        text-align: right;\n",
       "    }\n",
       "</style>\n",
       "<table border=\"1\" class=\"dataframe\">\n",
       "  <thead>\n",
       "    <tr style=\"text-align: right;\">\n",
       "      <th></th>\n",
       "      <th>0</th>\n",
       "    </tr>\n",
       "  </thead>\n",
       "  <tbody>\n",
       "    <tr>\n",
       "      <th>0</th>\n",
       "      <td>id</td>\n",
       "    </tr>\n",
       "    <tr>\n",
       "      <th>1</th>\n",
       "      <td>circle_id</td>\n",
       "    </tr>\n",
       "    <tr>\n",
       "      <th>2</th>\n",
       "      <td>loc_og_t2o_mou</td>\n",
       "    </tr>\n",
       "    <tr>\n",
       "      <th>3</th>\n",
       "      <td>std_og_t2o_mou</td>\n",
       "    </tr>\n",
       "    <tr>\n",
       "      <th>4</th>\n",
       "      <td>loc_ic_t2o_mou</td>\n",
       "    </tr>\n",
       "    <tr>\n",
       "      <th>...</th>\n",
       "      <td>...</td>\n",
       "    </tr>\n",
       "    <tr>\n",
       "      <th>167</th>\n",
       "      <td>aon</td>\n",
       "    </tr>\n",
       "    <tr>\n",
       "      <th>168</th>\n",
       "      <td>aug_vbc_3g</td>\n",
       "    </tr>\n",
       "    <tr>\n",
       "      <th>169</th>\n",
       "      <td>jul_vbc_3g</td>\n",
       "    </tr>\n",
       "    <tr>\n",
       "      <th>170</th>\n",
       "      <td>jun_vbc_3g</td>\n",
       "    </tr>\n",
       "    <tr>\n",
       "      <th>171</th>\n",
       "      <td>churn_probability</td>\n",
       "    </tr>\n",
       "  </tbody>\n",
       "</table>\n",
       "<p>172 rows × 1 columns</p>\n",
       "</div>"
      ],
      "text/plain": [
       "                     0\n",
       "0                   id\n",
       "1            circle_id\n",
       "2       loc_og_t2o_mou\n",
       "3       std_og_t2o_mou\n",
       "4       loc_ic_t2o_mou\n",
       "..                 ...\n",
       "167                aon\n",
       "168         aug_vbc_3g\n",
       "169         jul_vbc_3g\n",
       "170         jun_vbc_3g\n",
       "171  churn_probability\n",
       "\n",
       "[172 rows x 1 columns]"
      ]
     },
     "execution_count": 19,
     "metadata": {},
     "output_type": "execute_result"
    }
   ],
   "source": [
    "#list of columns\n",
    "pd.DataFrame(churn.columns)"
   ]
  },
  {
   "cell_type": "code",
   "execution_count": 20,
   "id": "96efc5bf",
   "metadata": {
    "execution": {
     "iopub.execute_input": "2023-12-06T16:44:49.217059Z",
     "iopub.status.busy": "2023-12-06T16:44:49.215783Z",
     "iopub.status.idle": "2023-12-06T16:44:49.303873Z",
     "shell.execute_reply": "2023-12-06T16:44:49.302239Z"
    },
    "papermill": {
     "duration": 0.167693,
     "end_time": "2023-12-06T16:44:49.306652",
     "exception": false,
     "start_time": "2023-12-06T16:44:49.138959",
     "status": "completed"
    },
    "tags": []
   },
   "outputs": [
    {
     "data": {
      "text/plain": [
       "id                   0.000000\n",
       "circle_id            0.000000\n",
       "loc_og_t2o_mou       1.002871\n",
       "std_og_t2o_mou       1.002871\n",
       "loc_ic_t2o_mou       1.002871\n",
       "                       ...   \n",
       "aon                  0.000000\n",
       "aug_vbc_3g           0.000000\n",
       "jul_vbc_3g           0.000000\n",
       "jun_vbc_3g           0.000000\n",
       "churn_probability    0.000000\n",
       "Length: 172, dtype: float64"
      ]
     },
     "execution_count": 20,
     "metadata": {},
     "output_type": "execute_result"
    }
   ],
   "source": [
    "# look at missing value ratio in each column\n",
    "churn.isnull().sum()*100/churn.shape[0]"
   ]
  },
  {
   "cell_type": "code",
   "execution_count": 21,
   "id": "b55f5cec",
   "metadata": {
    "execution": {
     "iopub.execute_input": "2023-12-06T16:44:49.459354Z",
     "iopub.status.busy": "2023-12-06T16:44:49.458429Z",
     "iopub.status.idle": "2023-12-06T16:44:49.614087Z",
     "shell.execute_reply": "2023-12-06T16:44:49.612852Z"
    },
    "papermill": {
     "duration": 0.235319,
     "end_time": "2023-12-06T16:44:49.616866",
     "exception": false,
     "start_time": "2023-12-06T16:44:49.381547",
     "status": "completed"
    },
    "tags": []
   },
   "outputs": [
    {
     "data": {
      "text/html": [
       "<div>\n",
       "<style scoped>\n",
       "    .dataframe tbody tr th:only-of-type {\n",
       "        vertical-align: middle;\n",
       "    }\n",
       "\n",
       "    .dataframe tbody tr th {\n",
       "        vertical-align: top;\n",
       "    }\n",
       "\n",
       "    .dataframe thead th {\n",
       "        text-align: right;\n",
       "    }\n",
       "</style>\n",
       "<table border=\"1\" class=\"dataframe\">\n",
       "  <thead>\n",
       "    <tr style=\"text-align: right;\">\n",
       "      <th></th>\n",
       "      <th>total_rech_data_6</th>\n",
       "      <th>total_rech_data_7</th>\n",
       "      <th>total_rech_data_8</th>\n",
       "      <th>count_rech_2g_6</th>\n",
       "      <th>count_rech_2g_7</th>\n",
       "      <th>count_rech_2g_8</th>\n",
       "      <th>count_rech_3g_6</th>\n",
       "      <th>count_rech_3g_7</th>\n",
       "      <th>count_rech_3g_8</th>\n",
       "      <th>max_rech_data_6</th>\n",
       "      <th>max_rech_data_7</th>\n",
       "      <th>max_rech_data_8</th>\n",
       "      <th>av_rech_amt_data_6</th>\n",
       "      <th>av_rech_amt_data_7</th>\n",
       "      <th>av_rech_amt_data_8</th>\n",
       "    </tr>\n",
       "  </thead>\n",
       "  <tbody>\n",
       "    <tr>\n",
       "      <th>count</th>\n",
       "      <td>17568.000000</td>\n",
       "      <td>17865.000000</td>\n",
       "      <td>18417.000000</td>\n",
       "      <td>17568.000000</td>\n",
       "      <td>17865.000000</td>\n",
       "      <td>18417.000000</td>\n",
       "      <td>17568.000000</td>\n",
       "      <td>17865.000000</td>\n",
       "      <td>18417.000000</td>\n",
       "      <td>17568.000000</td>\n",
       "      <td>17865.000000</td>\n",
       "      <td>18417.000000</td>\n",
       "      <td>17568.000000</td>\n",
       "      <td>17865.000000</td>\n",
       "      <td>18417.000000</td>\n",
       "    </tr>\n",
       "    <tr>\n",
       "      <th>mean</th>\n",
       "      <td>2.467612</td>\n",
       "      <td>2.679989</td>\n",
       "      <td>2.652441</td>\n",
       "      <td>1.865323</td>\n",
       "      <td>2.056311</td>\n",
       "      <td>2.016018</td>\n",
       "      <td>0.602288</td>\n",
       "      <td>0.623678</td>\n",
       "      <td>0.636423</td>\n",
       "      <td>126.500000</td>\n",
       "      <td>126.402071</td>\n",
       "      <td>125.374925</td>\n",
       "      <td>192.831096</td>\n",
       "      <td>201.455940</td>\n",
       "      <td>196.815792</td>\n",
       "    </tr>\n",
       "    <tr>\n",
       "      <th>std</th>\n",
       "      <td>2.794610</td>\n",
       "      <td>3.073472</td>\n",
       "      <td>3.101265</td>\n",
       "      <td>2.566377</td>\n",
       "      <td>2.799916</td>\n",
       "      <td>2.728246</td>\n",
       "      <td>1.279297</td>\n",
       "      <td>1.401230</td>\n",
       "      <td>1.457058</td>\n",
       "      <td>109.352573</td>\n",
       "      <td>109.459266</td>\n",
       "      <td>109.648799</td>\n",
       "      <td>190.623115</td>\n",
       "      <td>198.346141</td>\n",
       "      <td>192.280532</td>\n",
       "    </tr>\n",
       "    <tr>\n",
       "      <th>min</th>\n",
       "      <td>1.000000</td>\n",
       "      <td>1.000000</td>\n",
       "      <td>1.000000</td>\n",
       "      <td>0.000000</td>\n",
       "      <td>0.000000</td>\n",
       "      <td>0.000000</td>\n",
       "      <td>0.000000</td>\n",
       "      <td>0.000000</td>\n",
       "      <td>0.000000</td>\n",
       "      <td>1.000000</td>\n",
       "      <td>1.000000</td>\n",
       "      <td>1.000000</td>\n",
       "      <td>1.000000</td>\n",
       "      <td>1.000000</td>\n",
       "      <td>1.000000</td>\n",
       "    </tr>\n",
       "    <tr>\n",
       "      <th>25%</th>\n",
       "      <td>1.000000</td>\n",
       "      <td>1.000000</td>\n",
       "      <td>1.000000</td>\n",
       "      <td>1.000000</td>\n",
       "      <td>1.000000</td>\n",
       "      <td>1.000000</td>\n",
       "      <td>0.000000</td>\n",
       "      <td>0.000000</td>\n",
       "      <td>0.000000</td>\n",
       "      <td>25.000000</td>\n",
       "      <td>25.000000</td>\n",
       "      <td>25.000000</td>\n",
       "      <td>82.000000</td>\n",
       "      <td>92.000000</td>\n",
       "      <td>84.000000</td>\n",
       "    </tr>\n",
       "    <tr>\n",
       "      <th>50%</th>\n",
       "      <td>1.000000</td>\n",
       "      <td>2.000000</td>\n",
       "      <td>1.000000</td>\n",
       "      <td>1.000000</td>\n",
       "      <td>1.000000</td>\n",
       "      <td>1.000000</td>\n",
       "      <td>0.000000</td>\n",
       "      <td>0.000000</td>\n",
       "      <td>0.000000</td>\n",
       "      <td>145.000000</td>\n",
       "      <td>145.000000</td>\n",
       "      <td>145.000000</td>\n",
       "      <td>154.000000</td>\n",
       "      <td>154.000000</td>\n",
       "      <td>154.000000</td>\n",
       "    </tr>\n",
       "    <tr>\n",
       "      <th>75%</th>\n",
       "      <td>3.000000</td>\n",
       "      <td>3.000000</td>\n",
       "      <td>3.000000</td>\n",
       "      <td>2.000000</td>\n",
       "      <td>2.000000</td>\n",
       "      <td>2.000000</td>\n",
       "      <td>1.000000</td>\n",
       "      <td>1.000000</td>\n",
       "      <td>1.000000</td>\n",
       "      <td>177.000000</td>\n",
       "      <td>177.000000</td>\n",
       "      <td>179.000000</td>\n",
       "      <td>252.000000</td>\n",
       "      <td>252.000000</td>\n",
       "      <td>252.000000</td>\n",
       "    </tr>\n",
       "    <tr>\n",
       "      <th>max</th>\n",
       "      <td>61.000000</td>\n",
       "      <td>54.000000</td>\n",
       "      <td>60.000000</td>\n",
       "      <td>42.000000</td>\n",
       "      <td>48.000000</td>\n",
       "      <td>44.000000</td>\n",
       "      <td>29.000000</td>\n",
       "      <td>34.000000</td>\n",
       "      <td>45.000000</td>\n",
       "      <td>1555.000000</td>\n",
       "      <td>1555.000000</td>\n",
       "      <td>1555.000000</td>\n",
       "      <td>5920.000000</td>\n",
       "      <td>4365.000000</td>\n",
       "      <td>4076.000000</td>\n",
       "    </tr>\n",
       "  </tbody>\n",
       "</table>\n",
       "</div>"
      ],
      "text/plain": [
       "       total_rech_data_6  total_rech_data_7  total_rech_data_8  \\\n",
       "count       17568.000000       17865.000000       18417.000000   \n",
       "mean            2.467612           2.679989           2.652441   \n",
       "std             2.794610           3.073472           3.101265   \n",
       "min             1.000000           1.000000           1.000000   \n",
       "25%             1.000000           1.000000           1.000000   \n",
       "50%             1.000000           2.000000           1.000000   \n",
       "75%             3.000000           3.000000           3.000000   \n",
       "max            61.000000          54.000000          60.000000   \n",
       "\n",
       "       count_rech_2g_6  count_rech_2g_7  count_rech_2g_8  count_rech_3g_6  \\\n",
       "count     17568.000000     17865.000000     18417.000000     17568.000000   \n",
       "mean          1.865323         2.056311         2.016018         0.602288   \n",
       "std           2.566377         2.799916         2.728246         1.279297   \n",
       "min           0.000000         0.000000         0.000000         0.000000   \n",
       "25%           1.000000         1.000000         1.000000         0.000000   \n",
       "50%           1.000000         1.000000         1.000000         0.000000   \n",
       "75%           2.000000         2.000000         2.000000         1.000000   \n",
       "max          42.000000        48.000000        44.000000        29.000000   \n",
       "\n",
       "       count_rech_3g_7  count_rech_3g_8  max_rech_data_6  max_rech_data_7  \\\n",
       "count     17865.000000     18417.000000     17568.000000     17865.000000   \n",
       "mean          0.623678         0.636423       126.500000       126.402071   \n",
       "std           1.401230         1.457058       109.352573       109.459266   \n",
       "min           0.000000         0.000000         1.000000         1.000000   \n",
       "25%           0.000000         0.000000        25.000000        25.000000   \n",
       "50%           0.000000         0.000000       145.000000       145.000000   \n",
       "75%           1.000000         1.000000       177.000000       177.000000   \n",
       "max          34.000000        45.000000      1555.000000      1555.000000   \n",
       "\n",
       "       max_rech_data_8  av_rech_amt_data_6  av_rech_amt_data_7  \\\n",
       "count     18417.000000        17568.000000        17865.000000   \n",
       "mean        125.374925          192.831096          201.455940   \n",
       "std         109.648799          190.623115          198.346141   \n",
       "min           1.000000            1.000000            1.000000   \n",
       "25%          25.000000           82.000000           92.000000   \n",
       "50%         145.000000          154.000000          154.000000   \n",
       "75%         179.000000          252.000000          252.000000   \n",
       "max        1555.000000         5920.000000         4365.000000   \n",
       "\n",
       "       av_rech_amt_data_8  \n",
       "count        18417.000000  \n",
       "mean           196.815792  \n",
       "std            192.280532  \n",
       "min              1.000000  \n",
       "25%             84.000000  \n",
       "50%            154.000000  \n",
       "75%            252.000000  \n",
       "max           4076.000000  "
      ]
     },
     "execution_count": 21,
     "metadata": {},
     "output_type": "execute_result"
    }
   ],
   "source": [
    "# some recharge columns have minimum value of 1 while some don't have\n",
    "recharge_cols = ['total_rech_data_6', 'total_rech_data_7', 'total_rech_data_8', \n",
    "                 'count_rech_2g_6', 'count_rech_2g_7', 'count_rech_2g_8', \n",
    "                 'count_rech_3g_6', 'count_rech_3g_7', 'count_rech_3g_8', \n",
    "                 'max_rech_data_6', 'max_rech_data_7', 'max_rech_data_8', \n",
    "                 'av_rech_amt_data_6', 'av_rech_amt_data_7', 'av_rech_amt_data_8', \n",
    "                 ]\n",
    "\n",
    "churn[recharge_cols].describe(include='all')"
   ]
  },
  {
   "cell_type": "markdown",
   "id": "2ecca97b",
   "metadata": {
    "papermill": {
     "duration": 0.076699,
     "end_time": "2023-12-06T16:44:49.769479",
     "exception": false,
     "start_time": "2023-12-06T16:44:49.692780",
     "status": "completed"
    },
    "tags": []
   },
   "source": [
    " We can create new feature as total_rech_amt_data using total_rech_data and av_rech_amt_data to capture amount utilized by customer for data.\n",
    "\n",
    " Also as the minimum value is 1 we can impute the NA values by 0, Considering there were no recharges done by the customer."
   ]
  },
  {
   "cell_type": "code",
   "execution_count": 22,
   "id": "cc5c8196",
   "metadata": {
    "execution": {
     "iopub.execute_input": "2023-12-06T16:44:49.924399Z",
     "iopub.status.busy": "2023-12-06T16:44:49.923834Z",
     "iopub.status.idle": "2023-12-06T16:44:49.986507Z",
     "shell.execute_reply": "2023-12-06T16:44:49.985569Z"
    },
    "papermill": {
     "duration": 0.141866,
     "end_time": "2023-12-06T16:44:49.988951",
     "exception": false,
     "start_time": "2023-12-06T16:44:49.847085",
     "status": "completed"
    },
    "tags": []
   },
   "outputs": [
    {
     "data": {
      "text/html": [
       "<div>\n",
       "<style scoped>\n",
       "    .dataframe tbody tr th:only-of-type {\n",
       "        vertical-align: middle;\n",
       "    }\n",
       "\n",
       "    .dataframe tbody tr th {\n",
       "        vertical-align: top;\n",
       "    }\n",
       "\n",
       "    .dataframe thead th {\n",
       "        text-align: right;\n",
       "    }\n",
       "</style>\n",
       "<table border=\"1\" class=\"dataframe\">\n",
       "  <thead>\n",
       "    <tr style=\"text-align: right;\">\n",
       "      <th></th>\n",
       "      <th>total_rech_data_6</th>\n",
       "      <th>date_of_last_rech_data_6</th>\n",
       "    </tr>\n",
       "  </thead>\n",
       "  <tbody>\n",
       "    <tr>\n",
       "      <th>0</th>\n",
       "      <td>NaN</td>\n",
       "      <td>NaN</td>\n",
       "    </tr>\n",
       "    <tr>\n",
       "      <th>1</th>\n",
       "      <td>NaN</td>\n",
       "      <td>NaN</td>\n",
       "    </tr>\n",
       "    <tr>\n",
       "      <th>2</th>\n",
       "      <td>NaN</td>\n",
       "      <td>NaN</td>\n",
       "    </tr>\n",
       "    <tr>\n",
       "      <th>3</th>\n",
       "      <td>NaN</td>\n",
       "      <td>NaN</td>\n",
       "    </tr>\n",
       "    <tr>\n",
       "      <th>5</th>\n",
       "      <td>NaN</td>\n",
       "      <td>NaN</td>\n",
       "    </tr>\n",
       "    <tr>\n",
       "      <th>6</th>\n",
       "      <td>NaN</td>\n",
       "      <td>NaN</td>\n",
       "    </tr>\n",
       "    <tr>\n",
       "      <th>8</th>\n",
       "      <td>NaN</td>\n",
       "      <td>NaN</td>\n",
       "    </tr>\n",
       "    <tr>\n",
       "      <th>9</th>\n",
       "      <td>NaN</td>\n",
       "      <td>NaN</td>\n",
       "    </tr>\n",
       "    <tr>\n",
       "      <th>11</th>\n",
       "      <td>NaN</td>\n",
       "      <td>NaN</td>\n",
       "    </tr>\n",
       "    <tr>\n",
       "      <th>12</th>\n",
       "      <td>NaN</td>\n",
       "      <td>NaN</td>\n",
       "    </tr>\n",
       "    <tr>\n",
       "      <th>13</th>\n",
       "      <td>NaN</td>\n",
       "      <td>NaN</td>\n",
       "    </tr>\n",
       "    <tr>\n",
       "      <th>14</th>\n",
       "      <td>NaN</td>\n",
       "      <td>NaN</td>\n",
       "    </tr>\n",
       "    <tr>\n",
       "      <th>17</th>\n",
       "      <td>NaN</td>\n",
       "      <td>NaN</td>\n",
       "    </tr>\n",
       "    <tr>\n",
       "      <th>18</th>\n",
       "      <td>NaN</td>\n",
       "      <td>NaN</td>\n",
       "    </tr>\n",
       "    <tr>\n",
       "      <th>19</th>\n",
       "      <td>NaN</td>\n",
       "      <td>NaN</td>\n",
       "    </tr>\n",
       "    <tr>\n",
       "      <th>20</th>\n",
       "      <td>NaN</td>\n",
       "      <td>NaN</td>\n",
       "    </tr>\n",
       "    <tr>\n",
       "      <th>21</th>\n",
       "      <td>NaN</td>\n",
       "      <td>NaN</td>\n",
       "    </tr>\n",
       "    <tr>\n",
       "      <th>22</th>\n",
       "      <td>NaN</td>\n",
       "      <td>NaN</td>\n",
       "    </tr>\n",
       "    <tr>\n",
       "      <th>23</th>\n",
       "      <td>NaN</td>\n",
       "      <td>NaN</td>\n",
       "    </tr>\n",
       "    <tr>\n",
       "      <th>25</th>\n",
       "      <td>NaN</td>\n",
       "      <td>NaN</td>\n",
       "    </tr>\n",
       "  </tbody>\n",
       "</table>\n",
       "</div>"
      ],
      "text/plain": [
       "    total_rech_data_6 date_of_last_rech_data_6\n",
       "0                 NaN                      NaN\n",
       "1                 NaN                      NaN\n",
       "2                 NaN                      NaN\n",
       "3                 NaN                      NaN\n",
       "5                 NaN                      NaN\n",
       "6                 NaN                      NaN\n",
       "8                 NaN                      NaN\n",
       "9                 NaN                      NaN\n",
       "11                NaN                      NaN\n",
       "12                NaN                      NaN\n",
       "13                NaN                      NaN\n",
       "14                NaN                      NaN\n",
       "17                NaN                      NaN\n",
       "18                NaN                      NaN\n",
       "19                NaN                      NaN\n",
       "20                NaN                      NaN\n",
       "21                NaN                      NaN\n",
       "22                NaN                      NaN\n",
       "23                NaN                      NaN\n",
       "25                NaN                      NaN"
      ]
     },
     "execution_count": 22,
     "metadata": {},
     "output_type": "execute_result"
    }
   ],
   "source": [
    "# It is also observed that the recharge date and the recharge value are missing together which means the customer didn't recharge\n",
    "churn.loc[churn.total_rech_data_6.isnull() & churn.date_of_last_rech_data_6.isnull(), [\"total_rech_data_6\", \"date_of_last_rech_data_6\"]].head(20)"
   ]
  },
  {
   "cell_type": "markdown",
   "id": "523e82af",
   "metadata": {
    "papermill": {
     "duration": 0.087661,
     "end_time": "2023-12-06T16:44:50.155059",
     "exception": false,
     "start_time": "2023-12-06T16:44:50.067398",
     "status": "completed"
    },
    "tags": []
   },
   "source": [
    "In the recharge variables where minumum value is 1, we can impute missing values with zeroes since it means customer didn't recharge their numbers that month."
   ]
  },
  {
   "cell_type": "code",
   "execution_count": 23,
   "id": "5c6f7991",
   "metadata": {
    "execution": {
     "iopub.execute_input": "2023-12-06T16:44:50.316815Z",
     "iopub.status.busy": "2023-12-06T16:44:50.315572Z",
     "iopub.status.idle": "2023-12-06T16:44:50.321767Z",
     "shell.execute_reply": "2023-12-06T16:44:50.320629Z"
    },
    "papermill": {
     "duration": 0.085257,
     "end_time": "2023-12-06T16:44:50.324294",
     "exception": false,
     "start_time": "2023-12-06T16:44:50.239037",
     "status": "completed"
    },
    "tags": []
   },
   "outputs": [],
   "source": [
    "# create a list of recharge columns where we will impute missing values with zeroes\n",
    "zero_impute = ['total_rech_data_6', 'total_rech_data_7', 'total_rech_data_8', \n",
    "        'av_rech_amt_data_6', 'av_rech_amt_data_7', 'av_rech_amt_data_8', \n",
    "        'max_rech_data_6', 'max_rech_data_7', 'max_rech_data_8'\n",
    "       ]"
   ]
  },
  {
   "cell_type": "code",
   "execution_count": 24,
   "id": "caf02d86",
   "metadata": {
    "execution": {
     "iopub.execute_input": "2023-12-06T16:44:50.479139Z",
     "iopub.status.busy": "2023-12-06T16:44:50.478711Z",
     "iopub.status.idle": "2023-12-06T16:44:50.499623Z",
     "shell.execute_reply": "2023-12-06T16:44:50.498371Z"
    },
    "papermill": {
     "duration": 0.101714,
     "end_time": "2023-12-06T16:44:50.502395",
     "exception": false,
     "start_time": "2023-12-06T16:44:50.400681",
     "status": "completed"
    },
    "tags": []
   },
   "outputs": [],
   "source": [
    "# impute missing values with 0\n",
    "churn[zero_impute] = churn[zero_impute].apply(lambda x: x.fillna(0))"
   ]
  },
  {
   "cell_type": "code",
   "execution_count": 25,
   "id": "56a88ed4",
   "metadata": {
    "execution": {
     "iopub.execute_input": "2023-12-06T16:44:50.656386Z",
     "iopub.status.busy": "2023-12-06T16:44:50.655987Z",
     "iopub.status.idle": "2023-12-06T16:44:50.673732Z",
     "shell.execute_reply": "2023-12-06T16:44:50.672437Z"
    },
    "papermill": {
     "duration": 0.097778,
     "end_time": "2023-12-06T16:44:50.676539",
     "exception": false,
     "start_time": "2023-12-06T16:44:50.578761",
     "status": "completed"
    },
    "tags": []
   },
   "outputs": [
    {
     "data": {
      "text/plain": [
       "total_rech_data_6     0.0\n",
       "total_rech_data_7     0.0\n",
       "total_rech_data_8     0.0\n",
       "av_rech_amt_data_6    0.0\n",
       "av_rech_amt_data_7    0.0\n",
       "av_rech_amt_data_8    0.0\n",
       "max_rech_data_6       0.0\n",
       "max_rech_data_7       0.0\n",
       "max_rech_data_8       0.0\n",
       "dtype: float64"
      ]
     },
     "execution_count": 25,
     "metadata": {},
     "output_type": "execute_result"
    }
   ],
   "source": [
    "# now we have to  make sure the values are imputed correctly for that we can check \"Missing value ratio\"\n",
    "churn[zero_impute].isnull().sum()*100/churn.shape[1]"
   ]
  },
  {
   "cell_type": "code",
   "execution_count": 26,
   "id": "5b149b22",
   "metadata": {
    "execution": {
     "iopub.execute_input": "2023-12-06T16:44:50.830686Z",
     "iopub.status.busy": "2023-12-06T16:44:50.830288Z",
     "iopub.status.idle": "2023-12-06T16:44:50.894010Z",
     "shell.execute_reply": "2023-12-06T16:44:50.892883Z"
    },
    "papermill": {
     "duration": 0.143043,
     "end_time": "2023-12-06T16:44:50.896624",
     "exception": false,
     "start_time": "2023-12-06T16:44:50.753581",
     "status": "completed"
    },
    "tags": []
   },
   "outputs": [
    {
     "data": {
      "text/html": [
       "<div>\n",
       "<style scoped>\n",
       "    .dataframe tbody tr th:only-of-type {\n",
       "        vertical-align: middle;\n",
       "    }\n",
       "\n",
       "    .dataframe tbody tr th {\n",
       "        vertical-align: top;\n",
       "    }\n",
       "\n",
       "    .dataframe thead th {\n",
       "        text-align: right;\n",
       "    }\n",
       "</style>\n",
       "<table border=\"1\" class=\"dataframe\">\n",
       "  <thead>\n",
       "    <tr style=\"text-align: right;\">\n",
       "      <th></th>\n",
       "      <th>total_rech_data_6</th>\n",
       "      <th>total_rech_data_7</th>\n",
       "      <th>total_rech_data_8</th>\n",
       "      <th>av_rech_amt_data_6</th>\n",
       "      <th>av_rech_amt_data_7</th>\n",
       "      <th>av_rech_amt_data_8</th>\n",
       "      <th>max_rech_data_6</th>\n",
       "      <th>max_rech_data_7</th>\n",
       "      <th>max_rech_data_8</th>\n",
       "    </tr>\n",
       "  </thead>\n",
       "  <tbody>\n",
       "    <tr>\n",
       "      <th>count</th>\n",
       "      <td>69999.000000</td>\n",
       "      <td>69999.000000</td>\n",
       "      <td>69999.000000</td>\n",
       "      <td>69999.000000</td>\n",
       "      <td>69999.000000</td>\n",
       "      <td>69999.000000</td>\n",
       "      <td>69999.000000</td>\n",
       "      <td>69999.000000</td>\n",
       "      <td>69999.000000</td>\n",
       "    </tr>\n",
       "    <tr>\n",
       "      <th>mean</th>\n",
       "      <td>0.619309</td>\n",
       "      <td>0.683981</td>\n",
       "      <td>0.697867</td>\n",
       "      <td>48.395787</td>\n",
       "      <td>51.415168</td>\n",
       "      <td>51.782975</td>\n",
       "      <td>31.748339</td>\n",
       "      <td>32.260075</td>\n",
       "      <td>32.986614</td>\n",
       "    </tr>\n",
       "    <tr>\n",
       "      <th>std</th>\n",
       "      <td>1.762010</td>\n",
       "      <td>1.943193</td>\n",
       "      <td>1.973434</td>\n",
       "      <td>126.923180</td>\n",
       "      <td>133.246541</td>\n",
       "      <td>131.291162</td>\n",
       "      <td>77.519536</td>\n",
       "      <td>78.069163</td>\n",
       "      <td>78.808337</td>\n",
       "    </tr>\n",
       "    <tr>\n",
       "      <th>min</th>\n",
       "      <td>0.000000</td>\n",
       "      <td>0.000000</td>\n",
       "      <td>0.000000</td>\n",
       "      <td>0.000000</td>\n",
       "      <td>0.000000</td>\n",
       "      <td>0.000000</td>\n",
       "      <td>0.000000</td>\n",
       "      <td>0.000000</td>\n",
       "      <td>0.000000</td>\n",
       "    </tr>\n",
       "    <tr>\n",
       "      <th>25%</th>\n",
       "      <td>0.000000</td>\n",
       "      <td>0.000000</td>\n",
       "      <td>0.000000</td>\n",
       "      <td>0.000000</td>\n",
       "      <td>0.000000</td>\n",
       "      <td>0.000000</td>\n",
       "      <td>0.000000</td>\n",
       "      <td>0.000000</td>\n",
       "      <td>0.000000</td>\n",
       "    </tr>\n",
       "    <tr>\n",
       "      <th>50%</th>\n",
       "      <td>0.000000</td>\n",
       "      <td>0.000000</td>\n",
       "      <td>0.000000</td>\n",
       "      <td>0.000000</td>\n",
       "      <td>0.000000</td>\n",
       "      <td>0.000000</td>\n",
       "      <td>0.000000</td>\n",
       "      <td>0.000000</td>\n",
       "      <td>0.000000</td>\n",
       "    </tr>\n",
       "    <tr>\n",
       "      <th>75%</th>\n",
       "      <td>1.000000</td>\n",
       "      <td>1.000000</td>\n",
       "      <td>1.000000</td>\n",
       "      <td>8.000000</td>\n",
       "      <td>17.000000</td>\n",
       "      <td>23.000000</td>\n",
       "      <td>8.000000</td>\n",
       "      <td>14.000000</td>\n",
       "      <td>17.000000</td>\n",
       "    </tr>\n",
       "    <tr>\n",
       "      <th>max</th>\n",
       "      <td>61.000000</td>\n",
       "      <td>54.000000</td>\n",
       "      <td>60.000000</td>\n",
       "      <td>5920.000000</td>\n",
       "      <td>4365.000000</td>\n",
       "      <td>4076.000000</td>\n",
       "      <td>1555.000000</td>\n",
       "      <td>1555.000000</td>\n",
       "      <td>1555.000000</td>\n",
       "    </tr>\n",
       "  </tbody>\n",
       "</table>\n",
       "</div>"
      ],
      "text/plain": [
       "       total_rech_data_6  total_rech_data_7  total_rech_data_8  \\\n",
       "count       69999.000000       69999.000000       69999.000000   \n",
       "mean            0.619309           0.683981           0.697867   \n",
       "std             1.762010           1.943193           1.973434   \n",
       "min             0.000000           0.000000           0.000000   \n",
       "25%             0.000000           0.000000           0.000000   \n",
       "50%             0.000000           0.000000           0.000000   \n",
       "75%             1.000000           1.000000           1.000000   \n",
       "max            61.000000          54.000000          60.000000   \n",
       "\n",
       "       av_rech_amt_data_6  av_rech_amt_data_7  av_rech_amt_data_8  \\\n",
       "count        69999.000000        69999.000000        69999.000000   \n",
       "mean            48.395787           51.415168           51.782975   \n",
       "std            126.923180          133.246541          131.291162   \n",
       "min              0.000000            0.000000            0.000000   \n",
       "25%              0.000000            0.000000            0.000000   \n",
       "50%              0.000000            0.000000            0.000000   \n",
       "75%              8.000000           17.000000           23.000000   \n",
       "max           5920.000000         4365.000000         4076.000000   \n",
       "\n",
       "       max_rech_data_6  max_rech_data_7  max_rech_data_8  \n",
       "count     69999.000000     69999.000000     69999.000000  \n",
       "mean         31.748339        32.260075        32.986614  \n",
       "std          77.519536        78.069163        78.808337  \n",
       "min           0.000000         0.000000         0.000000  \n",
       "25%           0.000000         0.000000         0.000000  \n",
       "50%           0.000000         0.000000         0.000000  \n",
       "75%           8.000000        14.000000        17.000000  \n",
       "max        1555.000000      1555.000000      1555.000000  "
      ]
     },
     "execution_count": 26,
     "metadata": {},
     "output_type": "execute_result"
    }
   ],
   "source": [
    "# now we can check the \"statistics Summary\"\n",
    "churn[zero_impute].describe(include='all')"
   ]
  },
  {
   "cell_type": "code",
   "execution_count": 27,
   "id": "2bb96791",
   "metadata": {
    "execution": {
     "iopub.execute_input": "2023-12-06T16:44:51.052353Z",
     "iopub.status.busy": "2023-12-06T16:44:51.051521Z",
     "iopub.status.idle": "2023-12-06T16:44:51.061435Z",
     "shell.execute_reply": "2023-12-06T16:44:51.060287Z"
    },
    "papermill": {
     "duration": 0.090703,
     "end_time": "2023-12-06T16:44:51.063991",
     "exception": false,
     "start_time": "2023-12-06T16:44:50.973288",
     "status": "completed"
    },
    "tags": []
   },
   "outputs": [
    {
     "name": "stdout",
     "output_type": "stream",
     "text": [
      "#ID cols: 2\n",
      "#Date cols:9\n",
      "#Numeric cols:155\n",
      "#Category cols:6\n",
      "True\n"
     ]
    }
   ],
   "source": [
    "# now we can create some column name list by there types using description of columns\n",
    "id_cols = ['id', 'circle_id']\n",
    "\n",
    "date_cols = ['last_date_of_month_6',\n",
    "             'last_date_of_month_7',\n",
    "             'last_date_of_month_8',             \n",
    "             'date_of_last_rech_6',\n",
    "             'date_of_last_rech_7',\n",
    "             'date_of_last_rech_8',             \n",
    "             'date_of_last_rech_data_6',\n",
    "             'date_of_last_rech_data_7',\n",
    "             'date_of_last_rech_data_8'             \n",
    "            ]\n",
    "\n",
    "cat_cols =  ['night_pck_user_6',\n",
    "             'night_pck_user_7',\n",
    "             'night_pck_user_8',             \n",
    "             'fb_user_6',\n",
    "             'fb_user_7',\n",
    "             'fb_user_8'             \n",
    "            ]\n",
    "\n",
    "num_cols = [column for column in churn.columns if column not in id_cols + date_cols + cat_cols]\n",
    "\n",
    "# print the number of columns in each list\n",
    "print(\"#ID cols: %d\\n#Date cols:%d\\n#Numeric cols:%d\\n#Category cols:%d\" % (len(id_cols), len(date_cols), len(num_cols), len(cat_cols)))\n",
    "\n",
    "# check if we have missed any column or not\n",
    "print(len(id_cols) + len(date_cols) + len(num_cols) + len(cat_cols) == churn.shape[1])"
   ]
  },
  {
   "cell_type": "code",
   "execution_count": 28,
   "id": "f1764ce0",
   "metadata": {
    "execution": {
     "iopub.execute_input": "2023-12-06T16:44:51.222482Z",
     "iopub.status.busy": "2023-12-06T16:44:51.221769Z",
     "iopub.status.idle": "2023-12-06T16:44:51.270007Z",
     "shell.execute_reply": "2023-12-06T16:44:51.269043Z"
    },
    "papermill": {
     "duration": 0.129816,
     "end_time": "2023-12-06T16:44:51.272356",
     "exception": false,
     "start_time": "2023-12-06T16:44:51.142540",
     "status": "completed"
    },
    "tags": []
   },
   "outputs": [
    {
     "data": {
      "text/plain": [
       "(69999, 161)"
      ]
     },
     "execution_count": 28,
     "metadata": {},
     "output_type": "execute_result"
    }
   ],
   "source": [
    "# drop id and date columns\n",
    "churn = churn.drop(id_cols + date_cols, axis=1)\n",
    "#check the shape again\n",
    "churn.shape"
   ]
  },
  {
   "cell_type": "code",
   "execution_count": 29,
   "id": "1f8692c8",
   "metadata": {
    "execution": {
     "iopub.execute_input": "2023-12-06T16:44:51.428308Z",
     "iopub.status.busy": "2023-12-06T16:44:51.427024Z",
     "iopub.status.idle": "2023-12-06T16:44:51.442992Z",
     "shell.execute_reply": "2023-12-06T16:44:51.441854Z"
    },
    "papermill": {
     "duration": 0.097744,
     "end_time": "2023-12-06T16:44:51.446121",
     "exception": false,
     "start_time": "2023-12-06T16:44:51.348377",
     "status": "completed"
    },
    "tags": []
   },
   "outputs": [],
   "source": [
    "# replace missing values with '-1' in categorical columns\n",
    "churn[cat_cols] = churn[cat_cols].apply(lambda x: x.fillna(-1))"
   ]
  },
  {
   "cell_type": "code",
   "execution_count": 30,
   "id": "a0341811",
   "metadata": {
    "execution": {
     "iopub.execute_input": "2023-12-06T16:44:51.602758Z",
     "iopub.status.busy": "2023-12-06T16:44:51.602358Z",
     "iopub.status.idle": "2023-12-06T16:44:51.616368Z",
     "shell.execute_reply": "2023-12-06T16:44:51.615214Z"
    },
    "papermill": {
     "duration": 0.096147,
     "end_time": "2023-12-06T16:44:51.618930",
     "exception": false,
     "start_time": "2023-12-06T16:44:51.522783",
     "status": "completed"
    },
    "tags": []
   },
   "outputs": [
    {
     "data": {
      "text/plain": [
       "night_pck_user_6    0.0\n",
       "night_pck_user_7    0.0\n",
       "night_pck_user_8    0.0\n",
       "fb_user_6           0.0\n",
       "fb_user_7           0.0\n",
       "fb_user_8           0.0\n",
       "dtype: float64"
      ]
     },
     "execution_count": 30,
     "metadata": {},
     "output_type": "execute_result"
    }
   ],
   "source": [
    "# missing value ratio\n",
    "churn[cat_cols].isnull().sum()*100/churn.shape[0]"
   ]
  },
  {
   "cell_type": "markdown",
   "id": "b049d9ab",
   "metadata": {
    "papermill": {
     "duration": 0.081416,
     "end_time": "2023-12-06T16:44:51.777334",
     "exception": false,
     "start_time": "2023-12-06T16:44:51.695918",
     "status": "completed"
    },
    "tags": []
   },
   "source": [
    "Droping variables with more than 70% of missing values (we can call it as threshold )"
   ]
  },
  {
   "cell_type": "code",
   "execution_count": 31,
   "id": "99c58068",
   "metadata": {
    "execution": {
     "iopub.execute_input": "2023-12-06T16:44:51.936250Z",
     "iopub.status.busy": "2023-12-06T16:44:51.935060Z",
     "iopub.status.idle": "2023-12-06T16:44:52.002794Z",
     "shell.execute_reply": "2023-12-06T16:44:52.001518Z"
    },
    "papermill": {
     "duration": 0.150352,
     "end_time": "2023-12-06T16:44:52.006487",
     "exception": false,
     "start_time": "2023-12-06T16:44:51.856135",
     "status": "completed"
    },
    "tags": []
   },
   "outputs": [
    {
     "data": {
      "text/html": [
       "<div>\n",
       "<style scoped>\n",
       "    .dataframe tbody tr th:only-of-type {\n",
       "        vertical-align: middle;\n",
       "    }\n",
       "\n",
       "    .dataframe tbody tr th {\n",
       "        vertical-align: top;\n",
       "    }\n",
       "\n",
       "    .dataframe thead th {\n",
       "        text-align: right;\n",
       "    }\n",
       "</style>\n",
       "<table border=\"1\" class=\"dataframe\">\n",
       "  <thead>\n",
       "    <tr style=\"text-align: right;\">\n",
       "      <th></th>\n",
       "      <th>features</th>\n",
       "      <th>include</th>\n",
       "    </tr>\n",
       "  </thead>\n",
       "  <tbody>\n",
       "    <tr>\n",
       "      <th>0</th>\n",
       "      <td>loc_og_t2o_mou</td>\n",
       "      <td>True</td>\n",
       "    </tr>\n",
       "    <tr>\n",
       "      <th>1</th>\n",
       "      <td>std_og_t2o_mou</td>\n",
       "      <td>True</td>\n",
       "    </tr>\n",
       "    <tr>\n",
       "      <th>2</th>\n",
       "      <td>loc_ic_t2o_mou</td>\n",
       "      <td>True</td>\n",
       "    </tr>\n",
       "    <tr>\n",
       "      <th>3</th>\n",
       "      <td>arpu_6</td>\n",
       "      <td>True</td>\n",
       "    </tr>\n",
       "    <tr>\n",
       "      <th>4</th>\n",
       "      <td>arpu_7</td>\n",
       "      <td>True</td>\n",
       "    </tr>\n",
       "    <tr>\n",
       "      <th>...</th>\n",
       "      <td>...</td>\n",
       "      <td>...</td>\n",
       "    </tr>\n",
       "    <tr>\n",
       "      <th>156</th>\n",
       "      <td>aon</td>\n",
       "      <td>True</td>\n",
       "    </tr>\n",
       "    <tr>\n",
       "      <th>157</th>\n",
       "      <td>aug_vbc_3g</td>\n",
       "      <td>True</td>\n",
       "    </tr>\n",
       "    <tr>\n",
       "      <th>158</th>\n",
       "      <td>jul_vbc_3g</td>\n",
       "      <td>True</td>\n",
       "    </tr>\n",
       "    <tr>\n",
       "      <th>159</th>\n",
       "      <td>jun_vbc_3g</td>\n",
       "      <td>True</td>\n",
       "    </tr>\n",
       "    <tr>\n",
       "      <th>160</th>\n",
       "      <td>churn_probability</td>\n",
       "      <td>True</td>\n",
       "    </tr>\n",
       "  </tbody>\n",
       "</table>\n",
       "<p>149 rows × 2 columns</p>\n",
       "</div>"
      ],
      "text/plain": [
       "              features  include\n",
       "0       loc_og_t2o_mou     True\n",
       "1       std_og_t2o_mou     True\n",
       "2       loc_ic_t2o_mou     True\n",
       "3               arpu_6     True\n",
       "4               arpu_7     True\n",
       "..                 ...      ...\n",
       "156                aon     True\n",
       "157         aug_vbc_3g     True\n",
       "158         jul_vbc_3g     True\n",
       "159         jun_vbc_3g     True\n",
       "160  churn_probability     True\n",
       "\n",
       "[149 rows x 2 columns]"
      ]
     },
     "execution_count": 31,
     "metadata": {},
     "output_type": "execute_result"
    }
   ],
   "source": [
    "initial_cols = churn.shape[1]\n",
    "\n",
    "MISSING_THRESHOLD = 0.7\n",
    "\n",
    "include_cols = list(churn.apply(lambda column: True if column.isnull().sum()/churn.shape[0] < MISSING_THRESHOLD else False))\n",
    "\n",
    "drop_missing = pd.DataFrame({'features':churn.columns , 'include': include_cols})\n",
    "drop_missing.loc[drop_missing.include == True,:]"
   ]
  },
  {
   "cell_type": "code",
   "execution_count": 32,
   "id": "dddcc471",
   "metadata": {
    "execution": {
     "iopub.execute_input": "2023-12-06T16:44:52.172684Z",
     "iopub.status.busy": "2023-12-06T16:44:52.171870Z",
     "iopub.status.idle": "2023-12-06T16:44:52.214527Z",
     "shell.execute_reply": "2023-12-06T16:44:52.213080Z"
    },
    "papermill": {
     "duration": 0.13109,
     "end_time": "2023-12-06T16:44:52.217708",
     "exception": false,
     "start_time": "2023-12-06T16:44:52.086618",
     "status": "completed"
    },
    "tags": []
   },
   "outputs": [
    {
     "data": {
      "text/plain": [
       "-12"
      ]
     },
     "execution_count": 32,
     "metadata": {},
     "output_type": "execute_result"
    }
   ],
   "source": [
    "# now we can drop  some more columns\n",
    "churn = churn.loc[:, include_cols]\n",
    "\n",
    "dropped_cols = churn.shape[1] - initial_cols\n",
    "dropped_cols"
   ]
  },
  {
   "cell_type": "code",
   "execution_count": 33,
   "id": "ad3a0100",
   "metadata": {
    "execution": {
     "iopub.execute_input": "2023-12-06T16:44:52.450655Z",
     "iopub.status.busy": "2023-12-06T16:44:52.450260Z",
     "iopub.status.idle": "2023-12-06T16:44:52.458281Z",
     "shell.execute_reply": "2023-12-06T16:44:52.456927Z"
    },
    "papermill": {
     "duration": 0.088878,
     "end_time": "2023-12-06T16:44:52.460526",
     "exception": false,
     "start_time": "2023-12-06T16:44:52.371648",
     "status": "completed"
    },
    "tags": []
   },
   "outputs": [
    {
     "data": {
      "text/plain": [
       "(69999, 149)"
      ]
     },
     "execution_count": 33,
     "metadata": {},
     "output_type": "execute_result"
    }
   ],
   "source": [
    "#rechecking the shape of a dataframe\n",
    "churn.shape"
   ]
  },
  {
   "cell_type": "code",
   "execution_count": 34,
   "id": "8b3a30a0",
   "metadata": {
    "execution": {
     "iopub.execute_input": "2023-12-06T16:44:52.619000Z",
     "iopub.status.busy": "2023-12-06T16:44:52.618534Z",
     "iopub.status.idle": "2023-12-06T16:44:52.652426Z",
     "shell.execute_reply": "2023-12-06T16:44:52.651085Z"
    },
    "papermill": {
     "duration": 0.117497,
     "end_time": "2023-12-06T16:44:52.655177",
     "exception": false,
     "start_time": "2023-12-06T16:44:52.537680",
     "status": "completed"
    },
    "tags": []
   },
   "outputs": [
    {
     "data": {
      "text/plain": [
       "loc_og_t2o_mou       1.002871\n",
       "std_og_t2o_mou       1.002871\n",
       "loc_ic_t2o_mou       1.002871\n",
       "arpu_6               0.000000\n",
       "arpu_7               0.000000\n",
       "                       ...   \n",
       "aon                  0.000000\n",
       "aug_vbc_3g           0.000000\n",
       "jul_vbc_3g           0.000000\n",
       "jun_vbc_3g           0.000000\n",
       "churn_probability    0.000000\n",
       "Length: 149, dtype: float64"
      ]
     },
     "execution_count": 34,
     "metadata": {},
     "output_type": "execute_result"
    }
   ],
   "source": [
    "# rechecking the missing values for how many missing values has left\n",
    "churn.isnull().sum()*100/churn.shape[0]"
   ]
  },
  {
   "cell_type": "code",
   "execution_count": 35,
   "id": "706fcc2e",
   "metadata": {
    "execution": {
     "iopub.execute_input": "2023-12-06T16:44:52.813160Z",
     "iopub.status.busy": "2023-12-06T16:44:52.812650Z",
     "iopub.status.idle": "2023-12-06T16:44:52.824617Z",
     "shell.execute_reply": "2023-12-06T16:44:52.823300Z"
    },
    "papermill": {
     "duration": 0.094202,
     "end_time": "2023-12-06T16:44:52.827141",
     "exception": false,
     "start_time": "2023-12-06T16:44:52.732939",
     "status": "completed"
    },
    "tags": []
   },
   "outputs": [
    {
     "data": {
      "text/plain": [
       "['loc_og_t2o_mou',\n",
       " 'std_og_t2o_mou',\n",
       " 'loc_ic_t2o_mou',\n",
       " 'arpu_6',\n",
       " 'arpu_7',\n",
       " 'arpu_8',\n",
       " 'onnet_mou_6',\n",
       " 'onnet_mou_7',\n",
       " 'onnet_mou_8',\n",
       " 'offnet_mou_6',\n",
       " 'offnet_mou_7',\n",
       " 'offnet_mou_8',\n",
       " 'roam_ic_mou_6',\n",
       " 'roam_ic_mou_7',\n",
       " 'roam_ic_mou_8',\n",
       " 'roam_og_mou_6',\n",
       " 'roam_og_mou_7',\n",
       " 'roam_og_mou_8',\n",
       " 'loc_og_t2t_mou_6',\n",
       " 'loc_og_t2t_mou_7',\n",
       " 'loc_og_t2t_mou_8',\n",
       " 'loc_og_t2m_mou_6',\n",
       " 'loc_og_t2m_mou_7',\n",
       " 'loc_og_t2m_mou_8',\n",
       " 'loc_og_t2f_mou_6',\n",
       " 'loc_og_t2f_mou_7',\n",
       " 'loc_og_t2f_mou_8',\n",
       " 'loc_og_t2c_mou_6',\n",
       " 'loc_og_t2c_mou_7',\n",
       " 'loc_og_t2c_mou_8',\n",
       " 'loc_og_mou_6',\n",
       " 'loc_og_mou_7',\n",
       " 'loc_og_mou_8',\n",
       " 'std_og_t2t_mou_6',\n",
       " 'std_og_t2t_mou_7',\n",
       " 'std_og_t2t_mou_8',\n",
       " 'std_og_t2m_mou_6',\n",
       " 'std_og_t2m_mou_7',\n",
       " 'std_og_t2m_mou_8',\n",
       " 'std_og_t2f_mou_6',\n",
       " 'std_og_t2f_mou_7',\n",
       " 'std_og_t2f_mou_8',\n",
       " 'std_og_t2c_mou_6',\n",
       " 'std_og_t2c_mou_7',\n",
       " 'std_og_t2c_mou_8',\n",
       " 'std_og_mou_6',\n",
       " 'std_og_mou_7',\n",
       " 'std_og_mou_8',\n",
       " 'isd_og_mou_6',\n",
       " 'isd_og_mou_7',\n",
       " 'isd_og_mou_8',\n",
       " 'spl_og_mou_6',\n",
       " 'spl_og_mou_7',\n",
       " 'spl_og_mou_8',\n",
       " 'og_others_6',\n",
       " 'og_others_7',\n",
       " 'og_others_8',\n",
       " 'total_og_mou_6',\n",
       " 'total_og_mou_7',\n",
       " 'total_og_mou_8',\n",
       " 'loc_ic_t2t_mou_6',\n",
       " 'loc_ic_t2t_mou_7',\n",
       " 'loc_ic_t2t_mou_8',\n",
       " 'loc_ic_t2m_mou_6',\n",
       " 'loc_ic_t2m_mou_7',\n",
       " 'loc_ic_t2m_mou_8',\n",
       " 'loc_ic_t2f_mou_6',\n",
       " 'loc_ic_t2f_mou_7',\n",
       " 'loc_ic_t2f_mou_8',\n",
       " 'loc_ic_mou_6',\n",
       " 'loc_ic_mou_7',\n",
       " 'loc_ic_mou_8',\n",
       " 'std_ic_t2t_mou_6',\n",
       " 'std_ic_t2t_mou_7',\n",
       " 'std_ic_t2t_mou_8',\n",
       " 'std_ic_t2m_mou_6',\n",
       " 'std_ic_t2m_mou_7',\n",
       " 'std_ic_t2m_mou_8',\n",
       " 'std_ic_t2f_mou_6',\n",
       " 'std_ic_t2f_mou_7',\n",
       " 'std_ic_t2f_mou_8',\n",
       " 'std_ic_t2o_mou_6',\n",
       " 'std_ic_t2o_mou_7',\n",
       " 'std_ic_t2o_mou_8',\n",
       " 'std_ic_mou_6',\n",
       " 'std_ic_mou_7',\n",
       " 'std_ic_mou_8',\n",
       " 'total_ic_mou_6',\n",
       " 'total_ic_mou_7',\n",
       " 'total_ic_mou_8',\n",
       " 'spl_ic_mou_6',\n",
       " 'spl_ic_mou_7',\n",
       " 'spl_ic_mou_8',\n",
       " 'isd_ic_mou_6',\n",
       " 'isd_ic_mou_7',\n",
       " 'isd_ic_mou_8',\n",
       " 'ic_others_6',\n",
       " 'ic_others_7',\n",
       " 'ic_others_8',\n",
       " 'total_rech_num_6',\n",
       " 'total_rech_num_7',\n",
       " 'total_rech_num_8',\n",
       " 'total_rech_amt_6',\n",
       " 'total_rech_amt_7',\n",
       " 'total_rech_amt_8',\n",
       " 'max_rech_amt_6',\n",
       " 'max_rech_amt_7',\n",
       " 'max_rech_amt_8',\n",
       " 'last_day_rch_amt_6',\n",
       " 'last_day_rch_amt_7',\n",
       " 'last_day_rch_amt_8',\n",
       " 'total_rech_data_6',\n",
       " 'total_rech_data_7',\n",
       " 'total_rech_data_8',\n",
       " 'max_rech_data_6',\n",
       " 'max_rech_data_7',\n",
       " 'max_rech_data_8',\n",
       " 'av_rech_amt_data_6',\n",
       " 'av_rech_amt_data_7',\n",
       " 'av_rech_amt_data_8',\n",
       " 'vol_2g_mb_6',\n",
       " 'vol_2g_mb_7',\n",
       " 'vol_2g_mb_8',\n",
       " 'vol_3g_mb_6',\n",
       " 'vol_3g_mb_7',\n",
       " 'vol_3g_mb_8',\n",
       " 'monthly_2g_6',\n",
       " 'monthly_2g_7',\n",
       " 'monthly_2g_8',\n",
       " 'sachet_2g_6',\n",
       " 'sachet_2g_7',\n",
       " 'sachet_2g_8',\n",
       " 'monthly_3g_6',\n",
       " 'monthly_3g_7',\n",
       " 'monthly_3g_8',\n",
       " 'sachet_3g_6',\n",
       " 'sachet_3g_7',\n",
       " 'sachet_3g_8',\n",
       " 'aon',\n",
       " 'aug_vbc_3g',\n",
       " 'jul_vbc_3g',\n",
       " 'jun_vbc_3g',\n",
       " 'churn_probability']"
      ]
     },
     "execution_count": 35,
     "metadata": {},
     "output_type": "execute_result"
    }
   ],
   "source": [
    "num_cols = [column for column in churn.columns if column not in id_cols + date_cols + cat_cols]\n",
    "num_cols"
   ]
  },
  {
   "cell_type": "code",
   "execution_count": 36,
   "id": "94e3588c",
   "metadata": {
    "execution": {
     "iopub.execute_input": "2023-12-06T16:44:52.985581Z",
     "iopub.status.busy": "2023-12-06T16:44:52.985115Z",
     "iopub.status.idle": "2023-12-06T16:44:53.719470Z",
     "shell.execute_reply": "2023-12-06T16:44:53.718182Z"
    },
    "papermill": {
     "duration": 0.817221,
     "end_time": "2023-12-06T16:44:53.722513",
     "exception": false,
     "start_time": "2023-12-06T16:44:52.905292",
     "status": "completed"
    },
    "tags": []
   },
   "outputs": [],
   "source": [
    "#imputing with meadian for num_cols\n",
    "churn[num_cols] = churn[num_cols].apply(lambda x: x.fillna(x.median()))"
   ]
  },
  {
   "cell_type": "code",
   "execution_count": 37,
   "id": "316c8bde",
   "metadata": {
    "execution": {
     "iopub.execute_input": "2023-12-06T16:44:53.882877Z",
     "iopub.status.busy": "2023-12-06T16:44:53.882445Z",
     "iopub.status.idle": "2023-12-06T16:44:54.027853Z",
     "shell.execute_reply": "2023-12-06T16:44:54.026358Z"
    },
    "papermill": {
     "duration": 0.229356,
     "end_time": "2023-12-06T16:44:54.030831",
     "exception": false,
     "start_time": "2023-12-06T16:44:53.801475",
     "status": "completed"
    },
    "tags": []
   },
   "outputs": [
    {
     "data": {
      "text/plain": [
       "loc_og_t2o_mou       0.0\n",
       "std_og_t2o_mou       0.0\n",
       "loc_ic_t2o_mou       0.0\n",
       "arpu_6               0.0\n",
       "arpu_7               0.0\n",
       "                    ... \n",
       "aon                  0.0\n",
       "aug_vbc_3g           0.0\n",
       "jul_vbc_3g           0.0\n",
       "jun_vbc_3g           0.0\n",
       "churn_probability    0.0\n",
       "Length: 149, dtype: float64"
      ]
     },
     "execution_count": 37,
     "metadata": {},
     "output_type": "execute_result"
    }
   ],
   "source": [
    "#again checking for the missing values\n",
    "churn.isnull().sum()*100/churn.shape[0]"
   ]
  },
  {
   "cell_type": "markdown",
   "id": "345e6c05",
   "metadata": {
    "papermill": {
     "duration": 0.083337,
     "end_time": "2023-12-06T16:44:54.193320",
     "exception": false,
     "start_time": "2023-12-06T16:44:54.109983",
     "status": "completed"
    },
    "tags": []
   },
   "source": [
    "In churn prediction, we assume that there are three phases of customer lifecycle :\n",
    "\n",
    "- The ‘good & action’ phase [Month 6 & 7]\n",
    "- The ‘churn’ phase [Month 8]\n",
    "In this case, since we are working over a three-month window, the first two months are the ‘good & action’ phase, the third month is the ‘churn’ phase."
   ]
  },
  {
   "cell_type": "markdown",
   "id": "4d035165",
   "metadata": {
    "papermill": {
     "duration": 0.077648,
     "end_time": "2023-12-06T16:44:54.349321",
     "exception": false,
     "start_time": "2023-12-06T16:44:54.271673",
     "status": "completed"
    },
    "tags": []
   },
   "source": [
    "# Step 2:\n",
    "\n",
    "# Filter high-value customers"
   ]
  },
  {
   "cell_type": "markdown",
   "id": "0e86ac9e",
   "metadata": {
    "papermill": {
     "duration": 0.076851,
     "end_time": "2023-12-06T16:44:54.503280",
     "exception": false,
     "start_time": "2023-12-06T16:44:54.426429",
     "status": "completed"
    },
    "tags": []
   },
   "source": [
    "Here we can take good phase ( it means month 6 and 7) data to get high value customers"
   ]
  },
  {
   "cell_type": "code",
   "execution_count": 38,
   "id": "4584cf8c",
   "metadata": {
    "execution": {
     "iopub.execute_input": "2023-12-06T16:44:54.660314Z",
     "iopub.status.busy": "2023-12-06T16:44:54.659892Z",
     "iopub.status.idle": "2023-12-06T16:44:54.667921Z",
     "shell.execute_reply": "2023-12-06T16:44:54.667068Z"
    },
    "papermill": {
     "duration": 0.090211,
     "end_time": "2023-12-06T16:44:54.670229",
     "exception": false,
     "start_time": "2023-12-06T16:44:54.580018",
     "status": "completed"
    },
    "tags": []
   },
   "outputs": [],
   "source": [
    "# calculate the total data recharge amount for June and July --> number of recharges * average recharge amount\n",
    "churn['total_data_rech_6'] = churn.total_rech_data_6 * churn.av_rech_amt_data_6\n",
    "churn['total_data_rech_7'] = churn.total_rech_data_7 * churn.av_rech_amt_data_7"
   ]
  },
  {
   "cell_type": "markdown",
   "id": "e6bc3d8d",
   "metadata": {
    "papermill": {
     "duration": 0.078635,
     "end_time": "2023-12-06T16:44:54.827785",
     "exception": false,
     "start_time": "2023-12-06T16:44:54.749150",
     "status": "completed"
    },
    "tags": []
   },
   "source": [
    "add total data recharge and total recharge to get total combined recharge amount for a month"
   ]
  },
  {
   "cell_type": "code",
   "execution_count": 39,
   "id": "a2218612",
   "metadata": {
    "execution": {
     "iopub.execute_input": "2023-12-06T16:44:54.987656Z",
     "iopub.status.busy": "2023-12-06T16:44:54.987269Z",
     "iopub.status.idle": "2023-12-06T16:44:54.995672Z",
     "shell.execute_reply": "2023-12-06T16:44:54.994403Z"
    },
    "papermill": {
     "duration": 0.09018,
     "end_time": "2023-12-06T16:44:54.997811",
     "exception": false,
     "start_time": "2023-12-06T16:44:54.907631",
     "status": "completed"
    },
    "tags": []
   },
   "outputs": [],
   "source": [
    "# calculate total recharge amount for June and July --> call recharge amount + data recharge amount\n",
    "churn['amt_data_6'] = churn.total_rech_amt_6 + churn.total_data_rech_6\n",
    "churn['amt_data_7'] = churn.total_rech_amt_7 + churn.total_data_rech_7"
   ]
  },
  {
   "cell_type": "code",
   "execution_count": 40,
   "id": "22c24682",
   "metadata": {
    "execution": {
     "iopub.execute_input": "2023-12-06T16:44:55.158010Z",
     "iopub.status.busy": "2023-12-06T16:44:55.157580Z",
     "iopub.status.idle": "2023-12-06T16:44:55.164429Z",
     "shell.execute_reply": "2023-12-06T16:44:55.163586Z"
    },
    "papermill": {
     "duration": 0.090128,
     "end_time": "2023-12-06T16:44:55.166585",
     "exception": false,
     "start_time": "2023-12-06T16:44:55.076457",
     "status": "completed"
    },
    "tags": []
   },
   "outputs": [],
   "source": [
    "# calculate average recharge done by customer in June and July\n",
    "churn['av_amt_data_6_7'] = (churn.amt_data_6 + churn.amt_data_7)/2"
   ]
  },
  {
   "cell_type": "code",
   "execution_count": 41,
   "id": "612a00fc",
   "metadata": {
    "execution": {
     "iopub.execute_input": "2023-12-06T16:44:55.324047Z",
     "iopub.status.busy": "2023-12-06T16:44:55.323599Z",
     "iopub.status.idle": "2023-12-06T16:44:55.333239Z",
     "shell.execute_reply": "2023-12-06T16:44:55.331830Z"
    },
    "papermill": {
     "duration": 0.090929,
     "end_time": "2023-12-06T16:44:55.335754",
     "exception": false,
     "start_time": "2023-12-06T16:44:55.244825",
     "status": "completed"
    },
    "tags": []
   },
   "outputs": [
    {
     "name": "stdout",
     "output_type": "stream",
     "text": [
      "Recharge amount at 70th percentile: 477.5\n"
     ]
    }
   ],
   "source": [
    "# look at the 70th percentile recharge amount\n",
    "print(\"Recharge amount at 70th percentile: {0}\".format(churn.av_amt_data_6_7.quantile(0.7)))\n"
   ]
  },
  {
   "cell_type": "code",
   "execution_count": 42,
   "id": "93fff0db",
   "metadata": {
    "execution": {
     "iopub.execute_input": "2023-12-06T16:44:55.497032Z",
     "iopub.status.busy": "2023-12-06T16:44:55.496594Z",
     "iopub.status.idle": "2023-12-06T16:44:55.532543Z",
     "shell.execute_reply": "2023-12-06T16:44:55.531492Z"
    },
    "papermill": {
     "duration": 0.120226,
     "end_time": "2023-12-06T16:44:55.534829",
     "exception": false,
     "start_time": "2023-12-06T16:44:55.414603",
     "status": "completed"
    },
    "tags": []
   },
   "outputs": [
    {
     "data": {
      "text/html": [
       "<div>\n",
       "<style scoped>\n",
       "    .dataframe tbody tr th:only-of-type {\n",
       "        vertical-align: middle;\n",
       "    }\n",
       "\n",
       "    .dataframe tbody tr th {\n",
       "        vertical-align: top;\n",
       "    }\n",
       "\n",
       "    .dataframe thead th {\n",
       "        text-align: right;\n",
       "    }\n",
       "</style>\n",
       "<table border=\"1\" class=\"dataframe\">\n",
       "  <thead>\n",
       "    <tr style=\"text-align: right;\">\n",
       "      <th></th>\n",
       "      <th>loc_og_t2o_mou</th>\n",
       "      <th>std_og_t2o_mou</th>\n",
       "      <th>loc_ic_t2o_mou</th>\n",
       "      <th>arpu_6</th>\n",
       "      <th>arpu_7</th>\n",
       "      <th>arpu_8</th>\n",
       "      <th>onnet_mou_6</th>\n",
       "      <th>onnet_mou_7</th>\n",
       "      <th>onnet_mou_8</th>\n",
       "      <th>offnet_mou_6</th>\n",
       "      <th>...</th>\n",
       "      <th>aon</th>\n",
       "      <th>aug_vbc_3g</th>\n",
       "      <th>jul_vbc_3g</th>\n",
       "      <th>jun_vbc_3g</th>\n",
       "      <th>churn_probability</th>\n",
       "      <th>total_data_rech_6</th>\n",
       "      <th>total_data_rech_7</th>\n",
       "      <th>amt_data_6</th>\n",
       "      <th>amt_data_7</th>\n",
       "      <th>av_amt_data_6_7</th>\n",
       "    </tr>\n",
       "  </thead>\n",
       "  <tbody>\n",
       "    <tr>\n",
       "      <th>0</th>\n",
       "      <td>0.0</td>\n",
       "      <td>0.0</td>\n",
       "      <td>0.0</td>\n",
       "      <td>31.277</td>\n",
       "      <td>87.009</td>\n",
       "      <td>7.527</td>\n",
       "      <td>48.58</td>\n",
       "      <td>124.38</td>\n",
       "      <td>1.29</td>\n",
       "      <td>32.24</td>\n",
       "      <td>...</td>\n",
       "      <td>1958</td>\n",
       "      <td>0.0</td>\n",
       "      <td>0.0</td>\n",
       "      <td>0.0</td>\n",
       "      <td>0</td>\n",
       "      <td>0.0</td>\n",
       "      <td>0.0</td>\n",
       "      <td>77.0</td>\n",
       "      <td>65.0</td>\n",
       "      <td>71.0</td>\n",
       "    </tr>\n",
       "    <tr>\n",
       "      <th>1</th>\n",
       "      <td>0.0</td>\n",
       "      <td>0.0</td>\n",
       "      <td>0.0</td>\n",
       "      <td>0.000</td>\n",
       "      <td>122.787</td>\n",
       "      <td>42.953</td>\n",
       "      <td>0.00</td>\n",
       "      <td>0.00</td>\n",
       "      <td>0.00</td>\n",
       "      <td>0.00</td>\n",
       "      <td>...</td>\n",
       "      <td>710</td>\n",
       "      <td>0.0</td>\n",
       "      <td>0.0</td>\n",
       "      <td>0.0</td>\n",
       "      <td>0</td>\n",
       "      <td>0.0</td>\n",
       "      <td>145.0</td>\n",
       "      <td>0.0</td>\n",
       "      <td>290.0</td>\n",
       "      <td>145.0</td>\n",
       "    </tr>\n",
       "    <tr>\n",
       "      <th>2</th>\n",
       "      <td>0.0</td>\n",
       "      <td>0.0</td>\n",
       "      <td>0.0</td>\n",
       "      <td>60.806</td>\n",
       "      <td>103.176</td>\n",
       "      <td>0.000</td>\n",
       "      <td>0.53</td>\n",
       "      <td>15.93</td>\n",
       "      <td>0.00</td>\n",
       "      <td>53.99</td>\n",
       "      <td>...</td>\n",
       "      <td>882</td>\n",
       "      <td>0.0</td>\n",
       "      <td>0.0</td>\n",
       "      <td>0.0</td>\n",
       "      <td>0</td>\n",
       "      <td>0.0</td>\n",
       "      <td>0.0</td>\n",
       "      <td>70.0</td>\n",
       "      <td>120.0</td>\n",
       "      <td>95.0</td>\n",
       "    </tr>\n",
       "    <tr>\n",
       "      <th>3</th>\n",
       "      <td>0.0</td>\n",
       "      <td>0.0</td>\n",
       "      <td>0.0</td>\n",
       "      <td>156.362</td>\n",
       "      <td>205.260</td>\n",
       "      <td>111.095</td>\n",
       "      <td>7.26</td>\n",
       "      <td>16.01</td>\n",
       "      <td>0.00</td>\n",
       "      <td>68.76</td>\n",
       "      <td>...</td>\n",
       "      <td>982</td>\n",
       "      <td>0.0</td>\n",
       "      <td>0.0</td>\n",
       "      <td>0.0</td>\n",
       "      <td>0</td>\n",
       "      <td>0.0</td>\n",
       "      <td>0.0</td>\n",
       "      <td>160.0</td>\n",
       "      <td>240.0</td>\n",
       "      <td>200.0</td>\n",
       "    </tr>\n",
       "    <tr>\n",
       "      <th>4</th>\n",
       "      <td>0.0</td>\n",
       "      <td>0.0</td>\n",
       "      <td>0.0</td>\n",
       "      <td>240.708</td>\n",
       "      <td>128.191</td>\n",
       "      <td>101.565</td>\n",
       "      <td>21.28</td>\n",
       "      <td>4.83</td>\n",
       "      <td>6.13</td>\n",
       "      <td>56.99</td>\n",
       "      <td>...</td>\n",
       "      <td>647</td>\n",
       "      <td>0.0</td>\n",
       "      <td>0.0</td>\n",
       "      <td>0.0</td>\n",
       "      <td>0</td>\n",
       "      <td>1225.0</td>\n",
       "      <td>1337.0</td>\n",
       "      <td>1515.0</td>\n",
       "      <td>1473.0</td>\n",
       "      <td>1494.0</td>\n",
       "    </tr>\n",
       "  </tbody>\n",
       "</table>\n",
       "<p>5 rows × 154 columns</p>\n",
       "</div>"
      ],
      "text/plain": [
       "   loc_og_t2o_mou  std_og_t2o_mou  loc_ic_t2o_mou   arpu_6   arpu_7   arpu_8  \\\n",
       "0             0.0             0.0             0.0   31.277   87.009    7.527   \n",
       "1             0.0             0.0             0.0    0.000  122.787   42.953   \n",
       "2             0.0             0.0             0.0   60.806  103.176    0.000   \n",
       "3             0.0             0.0             0.0  156.362  205.260  111.095   \n",
       "4             0.0             0.0             0.0  240.708  128.191  101.565   \n",
       "\n",
       "   onnet_mou_6  onnet_mou_7  onnet_mou_8  offnet_mou_6  ...   aon  aug_vbc_3g  \\\n",
       "0        48.58       124.38         1.29         32.24  ...  1958         0.0   \n",
       "1         0.00         0.00         0.00          0.00  ...   710         0.0   \n",
       "2         0.53        15.93         0.00         53.99  ...   882         0.0   \n",
       "3         7.26        16.01         0.00         68.76  ...   982         0.0   \n",
       "4        21.28         4.83         6.13         56.99  ...   647         0.0   \n",
       "\n",
       "   jul_vbc_3g  jun_vbc_3g  churn_probability  total_data_rech_6  \\\n",
       "0         0.0         0.0                  0                0.0   \n",
       "1         0.0         0.0                  0                0.0   \n",
       "2         0.0         0.0                  0                0.0   \n",
       "3         0.0         0.0                  0                0.0   \n",
       "4         0.0         0.0                  0             1225.0   \n",
       "\n",
       "   total_data_rech_7  amt_data_6  amt_data_7  av_amt_data_6_7  \n",
       "0                0.0        77.0        65.0             71.0  \n",
       "1              145.0         0.0       290.0            145.0  \n",
       "2                0.0        70.0       120.0             95.0  \n",
       "3                0.0       160.0       240.0            200.0  \n",
       "4             1337.0      1515.0      1473.0           1494.0  \n",
       "\n",
       "[5 rows x 154 columns]"
      ]
     },
     "execution_count": 42,
     "metadata": {},
     "output_type": "execute_result"
    }
   ],
   "source": [
    "churn.head()"
   ]
  },
  {
   "cell_type": "code",
   "execution_count": 43,
   "id": "9a1d863b",
   "metadata": {
    "execution": {
     "iopub.execute_input": "2023-12-06T16:44:55.697223Z",
     "iopub.status.busy": "2023-12-06T16:44:55.696777Z",
     "iopub.status.idle": "2023-12-06T16:44:55.786602Z",
     "shell.execute_reply": "2023-12-06T16:44:55.785514Z"
    },
    "papermill": {
     "duration": 0.173501,
     "end_time": "2023-12-06T16:44:55.789480",
     "exception": false,
     "start_time": "2023-12-06T16:44:55.615979",
     "status": "completed"
    },
    "tags": []
   },
   "outputs": [],
   "source": [
    "# retain only those customers who have recharged their mobiles with more than or equal to 70th percentile amount\n",
    "churn_filtered = churn.loc[churn.av_amt_data_6_7 >= churn.av_amt_data_6_7.quantile(0.7), :]\n",
    "churn_filtered = churn_filtered.reset_index(drop=True)\n"
   ]
  },
  {
   "cell_type": "code",
   "execution_count": 44,
   "id": "ef10cc5e",
   "metadata": {
    "execution": {
     "iopub.execute_input": "2023-12-06T16:44:55.948201Z",
     "iopub.status.busy": "2023-12-06T16:44:55.947796Z",
     "iopub.status.idle": "2023-12-06T16:44:55.954961Z",
     "shell.execute_reply": "2023-12-06T16:44:55.953886Z"
    },
    "papermill": {
     "duration": 0.089441,
     "end_time": "2023-12-06T16:44:55.957479",
     "exception": false,
     "start_time": "2023-12-06T16:44:55.868038",
     "status": "completed"
    },
    "tags": []
   },
   "outputs": [
    {
     "data": {
      "text/plain": [
       "(21013, 154)"
      ]
     },
     "execution_count": 44,
     "metadata": {},
     "output_type": "execute_result"
    }
   ],
   "source": [
    "churn_filtered.shape"
   ]
  },
  {
   "cell_type": "code",
   "execution_count": 45,
   "id": "17b47bfe",
   "metadata": {
    "execution": {
     "iopub.execute_input": "2023-12-06T16:44:56.117045Z",
     "iopub.status.busy": "2023-12-06T16:44:56.116620Z",
     "iopub.status.idle": "2023-12-06T16:44:56.129500Z",
     "shell.execute_reply": "2023-12-06T16:44:56.128265Z"
    },
    "papermill": {
     "duration": 0.095931,
     "end_time": "2023-12-06T16:44:56.132245",
     "exception": false,
     "start_time": "2023-12-06T16:44:56.036314",
     "status": "completed"
    },
    "tags": []
   },
   "outputs": [],
   "source": [
    "# delete variables created to filter high-value customers\n",
    "churn_filtered = churn_filtered.drop(['total_data_rech_6', 'total_data_rech_7',\n",
    "                                      'amt_data_6', 'amt_data_7', 'av_amt_data_6_7'], axis=1)\n"
   ]
  },
  {
   "cell_type": "code",
   "execution_count": 46,
   "id": "f2f342bb",
   "metadata": {
    "execution": {
     "iopub.execute_input": "2023-12-06T16:44:56.292339Z",
     "iopub.status.busy": "2023-12-06T16:44:56.291633Z",
     "iopub.status.idle": "2023-12-06T16:44:56.298734Z",
     "shell.execute_reply": "2023-12-06T16:44:56.297631Z"
    },
    "papermill": {
     "duration": 0.088767,
     "end_time": "2023-12-06T16:44:56.301025",
     "exception": false,
     "start_time": "2023-12-06T16:44:56.212258",
     "status": "completed"
    },
    "tags": []
   },
   "outputs": [
    {
     "data": {
      "text/plain": [
       "(21013, 149)"
      ]
     },
     "execution_count": 46,
     "metadata": {},
     "output_type": "execute_result"
    }
   ],
   "source": [
    "churn_filtered.shape"
   ]
  },
  {
   "cell_type": "markdown",
   "id": "9eeee394",
   "metadata": {
    "papermill": {
     "duration": 0.077842,
     "end_time": "2023-12-06T16:44:56.456714",
     "exception": false,
     "start_time": "2023-12-06T16:44:56.378872",
     "status": "completed"
    },
    "tags": []
   },
   "source": [
    " hear we're left with 21,013 rows  and 149 columns after selecting the customers who have provided recharge value of more than or equal to the recharge value of the 70th percentile customer."
   ]
  },
  {
   "cell_type": "markdown",
   "id": "636e2e50",
   "metadata": {
    "papermill": {
     "duration": 0.078275,
     "end_time": "2023-12-06T16:44:56.613158",
     "exception": false,
     "start_time": "2023-12-06T16:44:56.534883",
     "status": "completed"
    },
    "tags": []
   },
   "source": [
    "# Step 3:\n",
    "\n",
    "# Derive churn\n",
    "\n",
    "Derive churn means hear we are using 8 month(The ‘churn’ phase) data , To get the target variable(In this case stydy they did not provide any target variable we have to derive it from churn phase data)\n",
    "For that, we need to find the derive churn variable using total_ic_mou_8,total_og_mou_8,vol_2g_mb_8 and vol_3g_mb_8 attributes"
   ]
  },
  {
   "cell_type": "code",
   "execution_count": 47,
   "id": "772a6e59",
   "metadata": {
    "execution": {
     "iopub.execute_input": "2023-12-06T16:44:56.772676Z",
     "iopub.status.busy": "2023-12-06T16:44:56.772285Z",
     "iopub.status.idle": "2023-12-06T16:44:56.786216Z",
     "shell.execute_reply": "2023-12-06T16:44:56.784831Z"
    },
    "papermill": {
     "duration": 0.097921,
     "end_time": "2023-12-06T16:44:56.789615",
     "exception": false,
     "start_time": "2023-12-06T16:44:56.691694",
     "status": "completed"
    },
    "tags": []
   },
   "outputs": [
    {
     "name": "stdout",
     "output_type": "stream",
     "text": [
      "<class 'pandas.core.frame.DataFrame'>\n",
      "RangeIndex: 21013 entries, 0 to 21012\n",
      "Data columns (total 4 columns):\n",
      " #   Column          Non-Null Count  Dtype  \n",
      "---  ------          --------------  -----  \n",
      " 0   total_ic_mou_8  21013 non-null  float64\n",
      " 1   total_og_mou_8  21013 non-null  float64\n",
      " 2   vol_2g_mb_8     21013 non-null  float64\n",
      " 3   vol_3g_mb_8     21013 non-null  float64\n",
      "dtypes: float64(4)\n",
      "memory usage: 656.8 KB\n"
     ]
    }
   ],
   "source": [
    "# Selecting the columns to define churn variable (i.e. TARGET Variable)\n",
    "churn_col=['total_ic_mou_8','total_og_mou_8','vol_2g_mb_8','vol_3g_mb_8']\n",
    "churn_filtered[churn_col].info()"
   ]
  },
  {
   "cell_type": "code",
   "execution_count": 48,
   "id": "279ef8e6",
   "metadata": {
    "execution": {
     "iopub.execute_input": "2023-12-06T16:44:56.950508Z",
     "iopub.status.busy": "2023-12-06T16:44:56.950119Z",
     "iopub.status.idle": "2023-12-06T16:44:57.159714Z",
     "shell.execute_reply": "2023-12-06T16:44:57.157945Z"
    },
    "papermill": {
     "duration": 0.293901,
     "end_time": "2023-12-06T16:44:57.163860",
     "exception": false,
     "start_time": "2023-12-06T16:44:56.869959",
     "status": "completed"
    },
    "tags": []
   },
   "outputs": [
    {
     "name": "stdout",
     "output_type": "stream",
     "text": [
      "churn_probability\n",
      "0    27.534679\n",
      "1     2.484321\n",
      "Name: count, dtype: float64\n"
     ]
    },
    {
     "data": {
      "image/png": "[encoded data removed]",
      "text/plain": [
       "<Figure size 640x480 with 1 Axes>"
      ]
     },
     "metadata": {},
     "output_type": "display_data"
    }
   ],
   "source": [
    "# lets find out churn/non churn percentage\n",
    "print((churn_filtered['churn_probability'].value_counts()/len(churn))*100)\n",
    "((churn_filtered['churn_probability'].value_counts()/len(churn))*100).plot(kind=\"pie\")\n",
    "plt.show()"
   ]
  },
  {
   "cell_type": "markdown",
   "id": "4a221ddd",
   "metadata": {
    "papermill": {
     "duration": 0.078714,
     "end_time": "2023-12-06T16:44:57.349044",
     "exception": false,
     "start_time": "2023-12-06T16:44:57.270330",
     "status": "completed"
    },
    "tags": []
   },
   "source": [
    "#### ***As we can see that 90% of the customers do not churn, there is a possibility of class imbalance*** \n",
    "Since this variable churn is the target variable, all the columns relating to this variable(i.e. all columns with suffix _8) can be dropped forn the dataset.\n"
   ]
  },
  {
   "cell_type": "markdown",
   "id": "a02bc15d",
   "metadata": {
    "papermill": {
     "duration": 0.078309,
     "end_time": "2023-12-06T16:44:57.505801",
     "exception": false,
     "start_time": "2023-12-06T16:44:57.427492",
     "status": "completed"
    },
    "tags": []
   },
   "source": [
    "We can still clean the data by few possible columns relating to the good phase.\n",
    "\n",
    "As we derived few columns in the good phase earlier, we can drop those related columns during creation."
   ]
  },
  {
   "cell_type": "code",
   "execution_count": 49,
   "id": "edb269bc",
   "metadata": {
    "execution": {
     "iopub.execute_input": "2023-12-06T16:44:57.666811Z",
     "iopub.status.busy": "2023-12-06T16:44:57.666420Z",
     "iopub.status.idle": "2023-12-06T16:44:57.679328Z",
     "shell.execute_reply": "2023-12-06T16:44:57.678082Z"
    },
    "papermill": {
     "duration": 0.097705,
     "end_time": "2023-12-06T16:44:57.681894",
     "exception": false,
     "start_time": "2023-12-06T16:44:57.584189",
     "status": "completed"
    },
    "tags": []
   },
   "outputs": [],
   "source": [
    "#churn['total_rech_amt_data_6']=churn['av_rech_amt_data_6'] * churn['total_rech_data_6']\n",
    "# churn['total_rech_amt_data_7']=churn['av_rech_amt_data_7'] * churn['total_rech_data_7']\n",
    "\n",
    "# # Calculating the overall recharge amount for the months 6,7 and 8\n",
    "\n",
    "# churn['overall_rech_amt_6'] = churn['total_rech_amt_data_6'] + churn['total_rech_amt_6']\n",
    "# churn['overall_rech_amt_7'] = churn['total_rech_amt_data_7'] + churn['total_rech_amt_7']\n",
    "\n",
    "churn_filtered.drop(['av_rech_amt_data_6',\n",
    "                   'total_rech_data_6','total_rech_amt_6',\n",
    "                  'av_rech_amt_data_7',\n",
    "                   'total_rech_data_7','total_rech_amt_7'], axis=1, inplace=True)"
   ]
  },
  {
   "cell_type": "markdown",
   "id": "2154b580",
   "metadata": {
    "papermill": {
     "duration": 0.146223,
     "end_time": "2023-12-06T16:44:57.908408",
     "exception": false,
     "start_time": "2023-12-06T16:44:57.762185",
     "status": "completed"
    },
    "tags": []
   },
   "source": [
    "We can also create new columns for the defining the good phase variables and drop the seperate 6th and 7 month variables.\n",
    "\n",
    "Before proceding to check the remaining missing value handling, let us check the collineartity of the indepedent variables and try to understand their dependencies."
   ]
  },
  {
   "cell_type": "code",
   "execution_count": 50,
   "id": "9e1493dc",
   "metadata": {
    "execution": {
     "iopub.execute_input": "2023-12-06T16:44:58.069968Z",
     "iopub.status.busy": "2023-12-06T16:44:58.069533Z",
     "iopub.status.idle": "2023-12-06T16:44:58.075525Z",
     "shell.execute_reply": "2023-12-06T16:44:58.074259Z"
    },
    "papermill": {
     "duration": 0.090763,
     "end_time": "2023-12-06T16:44:58.078248",
     "exception": false,
     "start_time": "2023-12-06T16:44:57.987485",
     "status": "completed"
    },
    "tags": []
   },
   "outputs": [],
   "source": [
    "# creating a list of column names for each month\n",
    "mon_6_cols = [col for col in churn_filtered.columns if '_6' in col]\n",
    "mon_7_cols = [col for col in churn_filtered.columns if '_7' in col]\n",
    "mon_8_cols = [col for col in churn_filtered.columns if '_8' in col]"
   ]
  },
  {
   "cell_type": "code",
   "execution_count": 51,
   "id": "f025346e",
   "metadata": {
    "execution": {
     "iopub.execute_input": "2023-12-06T16:44:58.243334Z",
     "iopub.status.busy": "2023-12-06T16:44:58.242538Z",
     "iopub.status.idle": "2023-12-06T16:44:58.250787Z",
     "shell.execute_reply": "2023-12-06T16:44:58.249596Z"
    },
    "papermill": {
     "duration": 0.093424,
     "end_time": "2023-12-06T16:44:58.253164",
     "exception": false,
     "start_time": "2023-12-06T16:44:58.159740",
     "status": "completed"
    },
    "tags": []
   },
   "outputs": [
    {
     "data": {
      "text/plain": [
       "['arpu_7',\n",
       " 'onnet_mou_7',\n",
       " 'offnet_mou_7',\n",
       " 'roam_ic_mou_7',\n",
       " 'roam_og_mou_7',\n",
       " 'loc_og_t2t_mou_7',\n",
       " 'loc_og_t2m_mou_7',\n",
       " 'loc_og_t2f_mou_7',\n",
       " 'loc_og_t2c_mou_7',\n",
       " 'loc_og_mou_7',\n",
       " 'std_og_t2t_mou_7',\n",
       " 'std_og_t2m_mou_7',\n",
       " 'std_og_t2f_mou_7',\n",
       " 'std_og_t2c_mou_7',\n",
       " 'std_og_mou_7',\n",
       " 'isd_og_mou_7',\n",
       " 'spl_og_mou_7',\n",
       " 'og_others_7',\n",
       " 'total_og_mou_7',\n",
       " 'loc_ic_t2t_mou_7',\n",
       " 'loc_ic_t2m_mou_7',\n",
       " 'loc_ic_t2f_mou_7',\n",
       " 'loc_ic_mou_7',\n",
       " 'std_ic_t2t_mou_7',\n",
       " 'std_ic_t2m_mou_7',\n",
       " 'std_ic_t2f_mou_7',\n",
       " 'std_ic_t2o_mou_7',\n",
       " 'std_ic_mou_7',\n",
       " 'total_ic_mou_7',\n",
       " 'spl_ic_mou_7',\n",
       " 'isd_ic_mou_7',\n",
       " 'ic_others_7',\n",
       " 'total_rech_num_7',\n",
       " 'max_rech_amt_7',\n",
       " 'last_day_rch_amt_7',\n",
       " 'max_rech_data_7',\n",
       " 'vol_2g_mb_7',\n",
       " 'vol_3g_mb_7',\n",
       " 'night_pck_user_7',\n",
       " 'monthly_2g_7',\n",
       " 'sachet_2g_7',\n",
       " 'monthly_3g_7',\n",
       " 'sachet_3g_7',\n",
       " 'fb_user_7']"
      ]
     },
     "execution_count": 51,
     "metadata": {},
     "output_type": "execute_result"
    }
   ],
   "source": [
    "mon_7_cols"
   ]
  },
  {
   "cell_type": "code",
   "execution_count": 52,
   "id": "61ea066e",
   "metadata": {
    "execution": {
     "iopub.execute_input": "2023-12-06T16:44:58.416886Z",
     "iopub.status.busy": "2023-12-06T16:44:58.416061Z",
     "iopub.status.idle": "2023-12-06T16:44:59.613859Z",
     "shell.execute_reply": "2023-12-06T16:44:59.612602Z"
    },
    "papermill": {
     "duration": 1.283184,
     "end_time": "2023-12-06T16:44:59.616643",
     "exception": false,
     "start_time": "2023-12-06T16:44:58.333459",
     "status": "completed"
    },
    "tags": []
   },
   "outputs": [
    {
     "data": {
      "text/plain": [
       "total_rech_amt_8    arpu_8               0.958953\n",
       "fb_user_6           night_pck_user_6     0.957744\n",
       "isd_og_mou_8        isd_og_mou_7         0.956635\n",
       "fb_user_7           night_pck_user_7     0.955499\n",
       "fb_user_8           night_pck_user_8     0.954382\n",
       "isd_og_mou_7        isd_og_mou_6         0.936012\n",
       "isd_og_mou_8        isd_og_mou_6         0.934200\n",
       "total_ic_mou_6      loc_ic_mou_6         0.901348\n",
       "total_ic_mou_8      loc_ic_mou_8         0.898511\n",
       "sachet_2g_8         total_rech_data_8    0.897476\n",
       "total_ic_mou_7      loc_ic_mou_7         0.883143\n",
       "std_og_t2t_mou_7    onnet_mou_7          0.861786\n",
       "std_og_t2t_mou_6    onnet_mou_6          0.860921\n",
       "std_og_t2t_mou_8    onnet_mou_8          0.858635\n",
       "std_og_t2m_mou_7    offnet_mou_7         0.857958\n",
       "std_og_t2m_mou_8    offnet_mou_8         0.855066\n",
       "total_og_mou_8      std_og_mou_8         0.850737\n",
       "total_og_mou_7      std_og_mou_7         0.850341\n",
       "loc_ic_mou_6        loc_ic_t2m_mou_6     0.846101\n",
       "loc_og_mou_8        loc_og_mou_7         0.842607\n",
       "loc_ic_mou_8        loc_ic_mou_7         0.839992\n",
       "std_ic_mou_8        std_ic_t2m_mou_8     0.839133\n",
       "loc_ic_mou_8        loc_ic_t2m_mou_8     0.836650\n",
       "loc_og_t2t_mou_8    loc_og_t2t_mou_7     0.834762\n",
       "total_og_mou_6      std_og_mou_6         0.833844\n",
       "loc_ic_mou_7        loc_ic_t2m_mou_7     0.831464\n",
       "std_og_t2m_mou_6    offnet_mou_6         0.831034\n",
       "std_ic_mou_6        std_ic_t2m_mou_6     0.825362\n",
       "std_ic_mou_7        std_ic_t2m_mou_7     0.824086\n",
       "total_ic_mou_8      total_ic_mou_7       0.822121\n",
       "loc_og_t2f_mou_8    loc_og_t2f_mou_7     0.820043\n",
       "loc_og_t2m_mou_8    loc_og_t2m_mou_7     0.819438\n",
       "loc_ic_t2m_mou_8    loc_ic_t2m_mou_7     0.817867\n",
       "loc_og_t2f_mou_7    loc_og_t2f_mou_6     0.815065\n",
       "loc_ic_mou_7        loc_ic_mou_6         0.811202\n",
       "loc_og_mou_7        loc_og_mou_6         0.810898\n",
       "onnet_mou_8         onnet_mou_7          0.806500\n",
       "loc_og_mou_6        loc_og_t2m_mou_6     0.805732\n",
       "av_rech_amt_data_8  max_rech_data_8      0.803734\n",
       "loc_ic_t2t_mou_8    loc_ic_t2t_mou_7     0.803401\n",
       "std_og_t2t_mou_8    std_og_t2t_mou_7     0.802714\n",
       "loc_og_t2t_mou_7    loc_og_t2t_mou_6     0.802305\n",
       "dtype: float64"
      ]
     },
     "execution_count": 52,
     "metadata": {},
     "output_type": "execute_result"
    }
   ],
   "source": [
    "# lets check the correlation amongst the independent variables, drop the highly correlated ones\n",
    "churn_corr = churn_filtered.corr()\n",
    "churn_corr.loc[:,:] = np.tril(churn_corr, k=-1)\n",
    "churn_corr = churn_corr.stack()\n",
    "churn_corr\n",
    "churn_corr[(churn_corr > 0.80) | (churn_corr < -0.80)].sort_values(ascending=False)"
   ]
  },
  {
   "cell_type": "code",
   "execution_count": 53,
   "id": "fea9b684",
   "metadata": {
    "execution": {
     "iopub.execute_input": "2023-12-06T16:44:59.782801Z",
     "iopub.status.busy": "2023-12-06T16:44:59.782375Z",
     "iopub.status.idle": "2023-12-06T16:44:59.795330Z",
     "shell.execute_reply": "2023-12-06T16:44:59.794042Z"
    },
    "papermill": {
     "duration": 0.099925,
     "end_time": "2023-12-06T16:44:59.798009",
     "exception": false,
     "start_time": "2023-12-06T16:44:59.698084",
     "status": "completed"
    },
    "tags": []
   },
   "outputs": [],
   "source": [
    "col_to_drop=['fb_user_6','fb_user_7','total_ic_mou_6','total_ic_mou_7',               \n",
    "               'std_og_t2t_mou_7','std_og_t2t_mou_6' ,'std_og_t2m_mou_7','std_ic_mou_7',]\n",
    "\n",
    "# These columns can be dropped as they are highly collinered with other predictor variables.\n",
    "# criteria set is for collinearity of 85%\n",
    "\n",
    "#  dropping these column\n",
    "churn_filtered.drop(col_to_drop, axis=1, inplace=True)"
   ]
  },
  {
   "cell_type": "code",
   "execution_count": 54,
   "id": "a0ba1252",
   "metadata": {
    "execution": {
     "iopub.execute_input": "2023-12-06T16:44:59.960237Z",
     "iopub.status.busy": "2023-12-06T16:44:59.959799Z",
     "iopub.status.idle": "2023-12-06T16:44:59.966533Z",
     "shell.execute_reply": "2023-12-06T16:44:59.965441Z"
    },
    "papermill": {
     "duration": 0.090114,
     "end_time": "2023-12-06T16:44:59.968817",
     "exception": false,
     "start_time": "2023-12-06T16:44:59.878703",
     "status": "completed"
    },
    "tags": []
   },
   "outputs": [
    {
     "data": {
      "text/plain": [
       "(21013, 135)"
      ]
     },
     "execution_count": 54,
     "metadata": {},
     "output_type": "execute_result"
    }
   ],
   "source": [
    "# The curent dimension of the dataset after dropping few unwanted columns\n",
    "churn_filtered.shape"
   ]
  },
  {
   "cell_type": "markdown",
   "id": "8f2d0f4a",
   "metadata": {
    "papermill": {
     "duration": 0.08941,
     "end_time": "2023-12-06T16:45:00.140271",
     "exception": false,
     "start_time": "2023-12-06T16:45:00.050861",
     "status": "completed"
    },
    "tags": []
   },
   "source": [
    "# Step 4:\n",
    "# Data preparation\n",
    "\n",
    "# i.Deriving new variables to understand the data \n",
    "\n",
    "# ii.EDA"
   ]
  },
  {
   "cell_type": "code",
   "execution_count": 55,
   "id": "39ac5a5d",
   "metadata": {
    "execution": {
     "iopub.execute_input": "2023-12-06T16:45:00.316033Z",
     "iopub.status.busy": "2023-12-06T16:45:00.315557Z",
     "iopub.status.idle": "2023-12-06T16:45:00.330191Z",
     "shell.execute_reply": "2023-12-06T16:45:00.328999Z"
    },
    "papermill": {
     "duration": 0.099929,
     "end_time": "2023-12-06T16:45:00.333187",
     "exception": false,
     "start_time": "2023-12-06T16:45:00.233258",
     "status": "completed"
    },
    "tags": []
   },
   "outputs": [],
   "source": [
    "# We have a column called 'aon'\n",
    "\n",
    "# we can derive new variables from this to explain the data w.r.t churn.\n",
    "\n",
    "# creating a new variable 'tenure'\n",
    "churn_filtered['tenure'] = (churn_filtered['aon']/30).round(0)\n",
    "\n",
    "# Since we derived a new column from 'aon', we can drop it\n",
    "churn_filtered.drop('aon',axis=1, inplace=True)"
   ]
  },
  {
   "cell_type": "code",
   "execution_count": 56,
   "id": "4a76c28e",
   "metadata": {
    "execution": {
     "iopub.execute_input": "2023-12-06T16:45:00.495494Z",
     "iopub.status.busy": "2023-12-06T16:45:00.495069Z",
     "iopub.status.idle": "2023-12-06T16:45:01.018489Z",
     "shell.execute_reply": "2023-12-06T16:45:01.017472Z"
    },
    "papermill": {
     "duration": 0.607653,
     "end_time": "2023-12-06T16:45:01.020739",
     "exception": false,
     "start_time": "2023-12-06T16:45:00.413086",
     "status": "completed"
    },
    "tags": []
   },
   "outputs": [
    {
     "data": {
      "image/png": "[encoded data removed]",
      "text/plain": [
       "<Figure size 640x480 with 1 Axes>"
      ]
     },
     "metadata": {},
     "output_type": "display_data"
    }
   ],
   "source": [
    "# Checking the distribution of he tenure variable\n",
    "\n",
    "sns.distplot(churn_filtered['tenure'],bins=30)\n",
    "plt.show()"
   ]
  },
  {
   "cell_type": "code",
   "execution_count": 57,
   "id": "0b3cdf0c",
   "metadata": {
    "execution": {
     "iopub.execute_input": "2023-12-06T16:45:01.186431Z",
     "iopub.status.busy": "2023-12-06T16:45:01.185932Z",
     "iopub.status.idle": "2023-12-06T16:45:01.200447Z",
     "shell.execute_reply": "2023-12-06T16:45:01.199298Z"
    },
    "papermill": {
     "duration": 0.101545,
     "end_time": "2023-12-06T16:45:01.203053",
     "exception": false,
     "start_time": "2023-12-06T16:45:01.101508",
     "status": "completed"
    },
    "tags": []
   },
   "outputs": [
    {
     "data": {
      "text/plain": [
       "0    1-2 Yrs\n",
       "1    1-2 Yrs\n",
       "2    1-2 Yrs\n",
       "3    2-5 Yrs\n",
       "4    1-2 Yrs\n",
       "Name: tenure_range, dtype: category\n",
       "Categories (5, object): ['0-6 Months' < '6-12 Months' < '1-2 Yrs' < '2-5 Yrs' < '5 Yrs and above']"
      ]
     },
     "execution_count": 57,
     "metadata": {},
     "output_type": "execute_result"
    }
   ],
   "source": [
    "tn_range = [0, 6, 12, 24, 60, 61]\n",
    "tn_label = [ '0-6 Months', '6-12 Months', '1-2 Yrs', '2-5 Yrs', '5 Yrs and above']\n",
    "churn_filtered['tenure_range'] = pd.cut(churn_filtered['tenure'], tn_range, labels=tn_label)\n",
    "churn_filtered['tenure_range'].head()"
   ]
  },
  {
   "cell_type": "code",
   "execution_count": 58,
   "id": "04ab7e2d",
   "metadata": {
    "execution": {
     "iopub.execute_input": "2023-12-06T16:45:01.368522Z",
     "iopub.status.busy": "2023-12-06T16:45:01.368100Z",
     "iopub.status.idle": "2023-12-06T16:45:01.375466Z",
     "shell.execute_reply": "2023-12-06T16:45:01.374066Z"
    },
    "papermill": {
     "duration": 0.092459,
     "end_time": "2023-12-06T16:45:01.377018",
     "exception": true,
     "start_time": "2023-12-06T16:45:01.284559",
     "status": "failed"
    },
    "tags": []
   },
   "outputs": [
    {
     "ename": "SyntaxError",
     "evalue": "unterminated string literal (detected at line 3) (1103998206.py, line 3)",
     "output_type": "error",
     "traceback": [
      "\u001b[0;36m  Cell \u001b[0;32mIn[58], line 3\u001b[0;36m\u001b[0m\n\u001b[0;31m    sns.barplot(x='tenure_range',y='churn_probability\u001b[0m\n\u001b[0m                                   ^\u001b[0m\n\u001b[0;31mSyntaxError\u001b[0m\u001b[0;31m:\u001b[0m unterminated string literal (detected at line 3)\n"
     ]
    }
   ],
   "source": [
    "# Plotting a bar plot for tenure range\n",
    "plt.figure(figsize=[12,7])\n",
    "sns.barplot(x='tenure_range',y='churn_probability\n",
    "            ', data=churn_filtered)\n",
    "plt.show()"
   ]
  },
  {
   "cell_type": "markdown",
   "id": "5ac001e4",
   "metadata": {
    "papermill": {
     "duration": null,
     "end_time": null,
     "exception": null,
     "start_time": null,
     "status": "pending"
    },
    "tags": []
   },
   "source": [
    "It can be seen that the maximum churn rate happens within 0-6 month, but it gradually decreases as the customer retains in the network.\n",
    "\n",
    "The average revenue per user is good phase of customer is given by arpu_6 and arpu_7. since we have two separate averages, lets take an average to these two and drop the other columns"
   ]
  },
  {
   "cell_type": "code",
   "execution_count": null,
   "id": "161cbc04",
   "metadata": {
    "execution": {
     "iopub.execute_input": "2023-12-06T14:16:59.755928Z",
     "iopub.status.busy": "2023-12-06T14:16:59.755297Z",
     "iopub.status.idle": "2023-12-06T14:16:59.766914Z",
     "shell.execute_reply": "2023-12-06T14:16:59.765724Z",
     "shell.execute_reply.started": "2023-12-06T14:16:59.755894Z"
    },
    "papermill": {
     "duration": null,
     "end_time": null,
     "exception": null,
     "start_time": null,
     "status": "pending"
    },
    "tags": []
   },
   "outputs": [],
   "source": [
    "churn_filtered[\"avg_arpu_6_7\"]= (churn_filtered['arpu_6']+churn_filtered['arpu_7'])/2\n",
    "churn_filtered['avg_arpu_6_7'].head()"
   ]
  },
  {
   "cell_type": "code",
   "execution_count": null,
   "id": "b7fe4327",
   "metadata": {
    "execution": {
     "iopub.execute_input": "2023-12-06T14:17:04.202001Z",
     "iopub.status.busy": "2023-12-06T14:17:04.201595Z",
     "iopub.status.idle": "2023-12-06T14:17:04.219536Z",
     "shell.execute_reply": "2023-12-06T14:17:04.218312Z",
     "shell.execute_reply.started": "2023-12-06T14:17:04.201968Z"
    },
    "papermill": {
     "duration": null,
     "end_time": null,
     "exception": null,
     "start_time": null,
     "status": "pending"
    },
    "tags": []
   },
   "outputs": [],
   "source": [
    "# Lets drop the original columns as they are derived to a new column for better understanding of the data\n",
    "\n",
    "churn_filtered.drop(['arpu_6','arpu_7'], axis=1, inplace=True)\n",
    "\n",
    "\n",
    "# The curent dimension of the dataset after dropping few unwanted columns\n",
    "churn_filtered.shape"
   ]
  },
  {
   "cell_type": "code",
   "execution_count": null,
   "id": "48ba5fbc",
   "metadata": {
    "execution": {
     "iopub.execute_input": "2023-12-06T14:17:08.682468Z",
     "iopub.status.busy": "2023-12-06T14:17:08.682014Z",
     "iopub.status.idle": "2023-12-06T14:17:09.236623Z",
     "shell.execute_reply": "2023-12-06T14:17:09.235469Z",
     "shell.execute_reply.started": "2023-12-06T14:17:08.682433Z"
    },
    "papermill": {
     "duration": null,
     "end_time": null,
     "exception": null,
     "start_time": null,
     "status": "pending"
    },
    "tags": []
   },
   "outputs": [],
   "source": [
    "# Visualizing the column created\n",
    "sns.distplot(churn_filtered['avg_arpu_6_7'])\n",
    "plt.show()"
   ]
  },
  {
   "cell_type": "code",
   "execution_count": null,
   "id": "0b48790d",
   "metadata": {
    "execution": {
     "iopub.execute_input": "2023-12-06T14:17:15.868902Z",
     "iopub.status.busy": "2023-12-06T14:17:15.868434Z",
     "iopub.status.idle": "2023-12-06T14:17:17.536578Z",
     "shell.execute_reply": "2023-12-06T14:17:17.534003Z",
     "shell.execute_reply.started": "2023-12-06T14:17:15.868863Z"
    },
    "papermill": {
     "duration": null,
     "end_time": null,
     "exception": null,
     "start_time": null,
     "status": "pending"
    },
    "tags": []
   },
   "outputs": [],
   "source": [
    "# Checking Correlation between target variable(SalePrice) with the other variable in the dataset\n",
    "plt.figure(figsize=(10,50))\n",
    "heatmap_churn = sns.heatmap(churn_filtered.corr()[['churn_probability']].sort_values(ascending=False, by='churn_probability'),annot=True, \n",
    "                                cmap='summer')\n",
    "heatmap_churn.set_title(\"Features Correlating with Churn variable\", fontsize=15)"
   ]
  },
  {
   "cell_type": "code",
   "execution_count": null,
   "id": "f86642c9",
   "metadata": {
    "execution": {
     "iopub.execute_input": "2023-12-06T14:21:58.471295Z",
     "iopub.status.busy": "2023-12-06T14:21:58.470820Z",
     "iopub.status.idle": "2023-12-06T14:21:58.480344Z",
     "shell.execute_reply": "2023-12-06T14:21:58.479148Z",
     "shell.execute_reply.started": "2023-12-06T14:21:58.471262Z"
    },
    "papermill": {
     "duration": null,
     "end_time": null,
     "exception": null,
     "start_time": null,
     "status": "pending"
    },
    "tags": []
   },
   "outputs": [],
   "source": [
    "churn_filtered.columns"
   ]
  },
  {
   "cell_type": "markdown",
   "id": "1f382e7a",
   "metadata": {
    "papermill": {
     "duration": null,
     "end_time": null,
     "exception": null,
     "start_time": null,
     "status": "pending"
    },
    "tags": []
   },
   "source": [
    "- Avg Outgoing Calls & calls on roaming for 6th & 7th months are positively correlated with churn.\n",
    "- Avg Revenue, No. of Recharge for 8th month has negative correlation with churn."
   ]
  },
  {
   "cell_type": "code",
   "execution_count": null,
   "id": "effb5153",
   "metadata": {
    "execution": {
     "iopub.execute_input": "2023-12-06T14:22:02.870693Z",
     "iopub.status.busy": "2023-12-06T14:22:02.870037Z",
     "iopub.status.idle": "2023-12-06T14:22:03.186281Z",
     "shell.execute_reply": "2023-12-06T14:22:03.185162Z",
     "shell.execute_reply.started": "2023-12-06T14:22:02.870645Z"
    },
    "papermill": {
     "duration": null,
     "end_time": null,
     "exception": null,
     "start_time": null,
     "status": "pending"
    },
    "tags": []
   },
   "outputs": [],
   "source": [
    "# lets now draw a scatter plot between total recharge and avg revenue for the 8th month\n",
    "churn_filtered[['total_rech_num_8', 'arpu_8']].plot.scatter(x = 'total_rech_num_8',\n",
    "                                                              y='arpu_8')\n",
    "plt.show()"
   ]
  },
  {
   "cell_type": "code",
   "execution_count": null,
   "id": "fd29861e",
   "metadata": {
    "execution": {
     "iopub.execute_input": "2023-12-06T14:22:07.230551Z",
     "iopub.status.busy": "2023-12-06T14:22:07.229499Z",
     "iopub.status.idle": "2023-12-06T14:22:07.246132Z",
     "shell.execute_reply": "2023-12-06T14:22:07.244603Z",
     "shell.execute_reply.started": "2023-12-06T14:22:07.230515Z"
    },
    "papermill": {
     "duration": null,
     "end_time": null,
     "exception": null,
     "start_time": null,
     "status": "pending"
    },
    "tags": []
   },
   "outputs": [],
   "source": [
    "# Creating categories for month 8 column totalrecharge and their count\n",
    "churn_filtered['total_rech_data_group_8']=pd.cut(churn_filtered['total_rech_data_8'],[-1,0,10,25,100],labels=[\"No_Recharge\",\"<=10_Recharges\",\"10-25_Recharges\",\">25_Recharges\"])\n",
    "churn_filtered['total_rech_num_group_8']=pd.cut(churn_filtered['total_rech_num_8'],[-1,0,10,25,1000],labels=[\"No_Recharge\",\"<=10_Recharges\",\"10-25_Recharges\",\">25_Recharges\"])"
   ]
  },
  {
   "cell_type": "code",
   "execution_count": null,
   "id": "7b288451",
   "metadata": {
    "execution": {
     "iopub.execute_input": "2023-12-06T14:22:10.677930Z",
     "iopub.status.busy": "2023-12-06T14:22:10.677523Z",
     "iopub.status.idle": "2023-12-06T14:22:11.149438Z",
     "shell.execute_reply": "2023-12-06T14:22:11.148282Z",
     "shell.execute_reply.started": "2023-12-06T14:22:10.677900Z"
    },
    "papermill": {
     "duration": null,
     "end_time": null,
     "exception": null,
     "start_time": null,
     "status": "pending"
    },
    "tags": []
   },
   "outputs": [],
   "source": [
    "# Plotting the results\n",
    "\n",
    "plt.figure(figsize=[12,4])\n",
    "sns.countplot(data=churn_filtered,x=\"total_rech_data_group_8\",hue=\"churn_probability\")\n",
    "print(\"\\t\\t\\t\\t\\tDistribution of total_rech_data_8 variable\\n\",churn_filtered['total_rech_data_group_8'].value_counts())\n",
    "plt.show()\n",
    "plt.figure(figsize=[12,4])\n",
    "sns.countplot(data=churn_filtered,x=\"total_rech_num_group_8\",hue=\"churn_probability\")\n",
    "print(\"\\t\\t\\t\\t\\tDistribution of total_rech_num_8 variable\\n\",churn_filtered['total_rech_num_group_8'].value_counts())\n",
    "plt.show()"
   ]
  },
  {
   "cell_type": "markdown",
   "id": "8800bbd7",
   "metadata": {
    "papermill": {
     "duration": null,
     "end_time": null,
     "exception": null,
     "start_time": null,
     "status": "pending"
    },
    "tags": []
   },
   "source": [
    "As the number of recharge rate increases, the churn rate decreases clearly."
   ]
  },
  {
   "cell_type": "code",
   "execution_count": null,
   "id": "5967014b",
   "metadata": {
    "execution": {
     "iopub.execute_input": "2023-12-06T14:22:22.938471Z",
     "iopub.status.busy": "2023-12-06T14:22:22.938044Z",
     "iopub.status.idle": "2023-12-06T14:22:22.954407Z",
     "shell.execute_reply": "2023-12-06T14:22:22.953154Z",
     "shell.execute_reply.started": "2023-12-06T14:22:22.938439Z"
    },
    "papermill": {
     "duration": null,
     "end_time": null,
     "exception": null,
     "start_time": null,
     "status": "pending"
    },
    "tags": []
   },
   "outputs": [],
   "source": [
    "churn_filtered.drop(['av_rech_amt_data_8','total_rech_data_8','sachet_2g_6','sachet_2g_7','sachet_3g_6',\n",
    "              'sachet_3g_7','sachet_3g_8','last_day_rch_amt_6','last_day_rch_amt_7',\n",
    "              'last_day_rch_amt_8',], axis=1, inplace=True)"
   ]
  },
  {
   "cell_type": "code",
   "execution_count": null,
   "id": "109e989c",
   "metadata": {
    "execution": {
     "iopub.execute_input": "2023-12-06T14:22:28.018357Z",
     "iopub.status.busy": "2023-12-06T14:22:28.017904Z",
     "iopub.status.idle": "2023-12-06T14:22:28.034585Z",
     "shell.execute_reply": "2023-12-06T14:22:28.033409Z",
     "shell.execute_reply.started": "2023-12-06T14:22:28.018323Z"
    },
    "papermill": {
     "duration": null,
     "end_time": null,
     "exception": null,
     "start_time": null,
     "status": "pending"
    },
    "tags": []
   },
   "outputs": [],
   "source": [
    "churn_filtered.drop(['loc_og_t2o_mou', 'std_og_t2o_mou', 'loc_ic_t2o_mou','roam_ic_mou_6', 'roam_ic_mou_7', 'roam_ic_mou_8', \n",
    "         'roam_og_mou_6', 'roam_og_mou_7', 'roam_og_mou_8', 'loc_og_t2t_mou_6', 'loc_og_t2t_mou_7', 'loc_og_t2t_mou_8',\n",
    "         'loc_og_t2m_mou_6', 'loc_og_t2m_mou_7', 'loc_og_t2m_mou_8', 'loc_og_t2f_mou_6', 'loc_og_t2f_mou_7', 'loc_og_t2f_mou_8',\n",
    "         'loc_og_t2c_mou_6', 'loc_og_t2c_mou_7', 'loc_og_t2c_mou_8', 'loc_og_mou_6', 'loc_og_mou_7', 'loc_og_mou_8', \n",
    "         'std_og_t2m_mou_6', 'std_og_t2f_mou_6', 'std_og_t2f_mou_7', 'std_og_t2f_mou_8', 'std_og_t2c_mou_6', 'std_og_t2c_mou_7',\n",
    "         'std_og_t2c_mou_8', 'std_og_mou_6', 'std_og_mou_7', 'std_og_mou_8', 'isd_og_mou_6', 'isd_og_mou_7', 'spl_og_mou_6',\n",
    "         'spl_og_mou_7', 'spl_og_mou_8','total_og_mou_6', 'loc_ic_t2t_mou_6', 'loc_ic_t2t_mou_7', 'loc_ic_t2t_mou_8', \n",
    "         'loc_ic_t2m_mou_6', 'loc_ic_t2m_mou_7', 'loc_ic_t2m_mou_8', 'loc_ic_t2f_mou_6', 'loc_ic_t2f_mou_7', 'loc_ic_t2f_mou_8',\n",
    "         'loc_ic_mou_6', 'loc_ic_mou_7', 'loc_ic_mou_8', 'std_ic_t2t_mou_6', 'std_ic_t2t_mou_7', 'std_ic_t2t_mou_8', \n",
    "         'std_ic_t2m_mou_6', 'std_ic_t2m_mou_7', 'std_ic_t2m_mou_8', 'std_ic_t2f_mou_6', 'std_ic_t2f_mou_7', 'std_ic_t2f_mou_8',\n",
    "         'std_ic_t2o_mou_6', 'std_ic_t2o_mou_7', 'std_ic_t2o_mou_8', 'std_ic_mou_6', 'spl_ic_mou_6', 'spl_ic_mou_7',\n",
    "         'spl_ic_mou_8', 'isd_ic_mou_6', 'isd_ic_mou_7', 'isd_ic_mou_8',], axis=1, inplace=True)"
   ]
  },
  {
   "cell_type": "code",
   "execution_count": null,
   "id": "90b42613",
   "metadata": {
    "execution": {
     "iopub.execute_input": "2023-12-06T14:22:34.731639Z",
     "iopub.status.busy": "2023-12-06T14:22:34.731237Z",
     "iopub.status.idle": "2023-12-06T14:22:34.739690Z",
     "shell.execute_reply": "2023-12-06T14:22:34.738475Z",
     "shell.execute_reply.started": "2023-12-06T14:22:34.731609Z"
    },
    "papermill": {
     "duration": null,
     "end_time": null,
     "exception": null,
     "start_time": null,
     "status": "pending"
    },
    "tags": []
   },
   "outputs": [],
   "source": [
    "churn_filtered.shape"
   ]
  },
  {
   "cell_type": "code",
   "execution_count": null,
   "id": "89f793c1",
   "metadata": {
    "execution": {
     "iopub.execute_input": "2023-12-06T14:22:37.718513Z",
     "iopub.status.busy": "2023-12-06T14:22:37.718125Z",
     "iopub.status.idle": "2023-12-06T14:22:37.964851Z",
     "shell.execute_reply": "2023-12-06T14:22:37.963026Z",
     "shell.execute_reply.started": "2023-12-06T14:22:37.718483Z"
    },
    "papermill": {
     "duration": null,
     "end_time": null,
     "exception": null,
     "start_time": null,
     "status": "pending"
    },
    "tags": []
   },
   "outputs": [],
   "source": [
    "plt.figure(figsize = (50, 50))\n",
    "sns.heatmap(churn_filtered.corr())\n",
    "plt.show()"
   ]
  },
  {
   "cell_type": "code",
   "execution_count": null,
   "id": "fb227aad",
   "metadata": {
    "execution": {
     "iopub.execute_input": "2023-12-06T14:22:44.038477Z",
     "iopub.status.busy": "2023-12-06T14:22:44.038012Z",
     "iopub.status.idle": "2023-12-06T14:22:44.060238Z",
     "shell.execute_reply": "2023-12-06T14:22:44.059251Z",
     "shell.execute_reply.started": "2023-12-06T14:22:44.038443Z"
    },
    "papermill": {
     "duration": null,
     "end_time": null,
     "exception": null,
     "start_time": null,
     "status": "pending"
    },
    "tags": []
   },
   "outputs": [],
   "source": [
    "churn_filtered.info()"
   ]
  },
  {
   "cell_type": "code",
   "execution_count": null,
   "id": "83f56bc8",
   "metadata": {
    "execution": {
     "iopub.execute_input": "2023-12-06T14:22:49.393593Z",
     "iopub.status.busy": "2023-12-06T14:22:49.393151Z",
     "iopub.status.idle": "2023-12-06T14:22:49.403086Z",
     "shell.execute_reply": "2023-12-06T14:22:49.401845Z",
     "shell.execute_reply.started": "2023-12-06T14:22:49.393559Z"
    },
    "papermill": {
     "duration": null,
     "end_time": null,
     "exception": null,
     "start_time": null,
     "status": "pending"
    },
    "tags": []
   },
   "outputs": [],
   "source": [
    "churn_filtered.drop(['total_rech_data_group_8','total_rech_num_group_8',] , axis=1, inplace=True)"
   ]
  },
  {
   "cell_type": "code",
   "execution_count": null,
   "id": "e38fdbef",
   "metadata": {
    "execution": {
     "iopub.execute_input": "2023-12-06T14:22:53.569433Z",
     "iopub.status.busy": "2023-12-06T14:22:53.568969Z",
     "iopub.status.idle": "2023-12-06T14:22:53.576779Z",
     "shell.execute_reply": "2023-12-06T14:22:53.575556Z",
     "shell.execute_reply.started": "2023-12-06T14:22:53.569397Z"
    },
    "papermill": {
     "duration": null,
     "end_time": null,
     "exception": null,
     "start_time": null,
     "status": "pending"
    },
    "tags": []
   },
   "outputs": [],
   "source": [
    "churn_filtered.shape"
   ]
  },
  {
   "cell_type": "code",
   "execution_count": null,
   "id": "c28df7b9",
   "metadata": {
    "execution": {
     "iopub.execute_input": "2023-12-06T14:22:56.662426Z",
     "iopub.status.busy": "2023-12-06T14:22:56.661990Z",
     "iopub.status.idle": "2023-12-06T14:22:56.691021Z",
     "shell.execute_reply": "2023-12-06T14:22:56.689872Z",
     "shell.execute_reply.started": "2023-12-06T14:22:56.662392Z"
    },
    "papermill": {
     "duration": null,
     "end_time": null,
     "exception": null,
     "start_time": null,
     "status": "pending"
    },
    "tags": []
   },
   "outputs": [],
   "source": [
    "churn_filtered.info()"
   ]
  },
  {
   "cell_type": "code",
   "execution_count": null,
   "id": "031340f3",
   "metadata": {
    "execution": {
     "iopub.execute_input": "2023-12-06T14:23:03.939673Z",
     "iopub.status.busy": "2023-12-06T14:23:03.939276Z",
     "iopub.status.idle": "2023-12-06T14:23:03.952379Z",
     "shell.execute_reply": "2023-12-06T14:23:03.951154Z",
     "shell.execute_reply.started": "2023-12-06T14:23:03.939644Z"
    },
    "papermill": {
     "duration": null,
     "end_time": null,
     "exception": null,
     "start_time": null,
     "status": "pending"
    },
    "tags": []
   },
   "outputs": [],
   "source": [
    "churn_filtered.drop(['tenure_range'] , axis=1, inplace=True)"
   ]
  },
  {
   "cell_type": "code",
   "execution_count": null,
   "id": "74303bea",
   "metadata": {
    "execution": {
     "iopub.execute_input": "2023-12-06T14:23:08.245951Z",
     "iopub.status.busy": "2023-12-06T14:23:08.245523Z",
     "iopub.status.idle": "2023-12-06T14:23:08.265362Z",
     "shell.execute_reply": "2023-12-06T14:23:08.263925Z",
     "shell.execute_reply.started": "2023-12-06T14:23:08.245916Z"
    },
    "papermill": {
     "duration": null,
     "end_time": null,
     "exception": null,
     "start_time": null,
     "status": "pending"
    },
    "tags": []
   },
   "outputs": [],
   "source": [
    "churn_filtered.info()"
   ]
  },
  {
   "cell_type": "code",
   "execution_count": null,
   "id": "18075496",
   "metadata": {
    "execution": {
     "iopub.execute_input": "2023-12-06T14:23:14.344518Z",
     "iopub.status.busy": "2023-12-06T14:23:14.344130Z",
     "iopub.status.idle": "2023-12-06T14:23:14.354730Z",
     "shell.execute_reply": "2023-12-06T14:23:14.353794Z",
     "shell.execute_reply.started": "2023-12-06T14:23:14.344487Z"
    },
    "papermill": {
     "duration": null,
     "end_time": null,
     "exception": null,
     "start_time": null,
     "status": "pending"
    },
    "tags": []
   },
   "outputs": [],
   "source": [
    "churn_rate = (sum(churn_filtered[\"churn_probability\"])/len(churn_filtered[\"churn_probability\"].index))*100\n",
    "churn_rate"
   ]
  },
  {
   "cell_type": "markdown",
   "id": "f95d9f36",
   "metadata": {
    "papermill": {
     "duration": null,
     "end_time": null,
     "exception": null,
     "start_time": null,
     "status": "pending"
    },
    "tags": []
   },
   "source": [
    "# v.Split Data Into Train and Test Data"
   ]
  },
  {
   "cell_type": "code",
   "execution_count": null,
   "id": "706ee2a4",
   "metadata": {
    "execution": {
     "iopub.execute_input": "2023-12-06T14:23:21.039826Z",
     "iopub.status.busy": "2023-12-06T14:23:21.039387Z",
     "iopub.status.idle": "2023-12-06T14:23:21.047239Z",
     "shell.execute_reply": "2023-12-06T14:23:21.045894Z",
     "shell.execute_reply.started": "2023-12-06T14:23:21.039792Z"
    },
    "papermill": {
     "duration": null,
     "end_time": null,
     "exception": null,
     "start_time": null,
     "status": "pending"
    },
    "tags": []
   },
   "outputs": [],
   "source": [
    "churn_filtered.shape"
   ]
  },
  {
   "cell_type": "code",
   "execution_count": null,
   "id": "668f724d",
   "metadata": {
    "execution": {
     "iopub.execute_input": "2023-12-06T14:23:25.411443Z",
     "iopub.status.busy": "2023-12-06T14:23:25.411024Z",
     "iopub.status.idle": "2023-12-06T14:23:25.444318Z",
     "shell.execute_reply": "2023-12-06T14:23:25.442971Z",
     "shell.execute_reply.started": "2023-12-06T14:23:25.411413Z"
    },
    "papermill": {
     "duration": null,
     "end_time": null,
     "exception": null,
     "start_time": null,
     "status": "pending"
    },
    "tags": []
   },
   "outputs": [],
   "source": [
    "# divide data into train and test\n",
    "X = churn_filtered.drop(\"churn_probability\", axis = 1)\n",
    "y = churn_filtered.churn_probability\n",
    "X_train, X_test, y_train, y_test = train_test_split(X, y, test_size = 0.25, random_state = 4, stratify = y)"
   ]
  },
  {
   "cell_type": "code",
   "execution_count": null,
   "id": "e36879a7",
   "metadata": {
    "execution": {
     "iopub.execute_input": "2023-12-06T14:23:30.699139Z",
     "iopub.status.busy": "2023-12-06T14:23:30.698586Z",
     "iopub.status.idle": "2023-12-06T14:23:30.706820Z",
     "shell.execute_reply": "2023-12-06T14:23:30.705834Z",
     "shell.execute_reply.started": "2023-12-06T14:23:30.699092Z"
    },
    "papermill": {
     "duration": null,
     "end_time": null,
     "exception": null,
     "start_time": null,
     "status": "pending"
    },
    "tags": []
   },
   "outputs": [],
   "source": [
    "# print shapes of train and test sets\n",
    "X_train.shape"
   ]
  },
  {
   "cell_type": "code",
   "execution_count": null,
   "id": "94f8f452",
   "metadata": {
    "execution": {
     "iopub.execute_input": "2023-12-06T14:23:34.839015Z",
     "iopub.status.busy": "2023-12-06T14:23:34.838565Z",
     "iopub.status.idle": "2023-12-06T14:23:34.844663Z",
     "shell.execute_reply": "2023-12-06T14:23:34.843783Z",
     "shell.execute_reply.started": "2023-12-06T14:23:34.838983Z"
    },
    "papermill": {
     "duration": null,
     "end_time": null,
     "exception": null,
     "start_time": null,
     "status": "pending"
    },
    "tags": []
   },
   "outputs": [],
   "source": [
    "print(y_train.shape)\n",
    "print(X_test.shape)\n",
    "print(y_test.shape)"
   ]
  },
  {
   "cell_type": "markdown",
   "id": "059b9af7",
   "metadata": {
    "papermill": {
     "duration": null,
     "end_time": null,
     "exception": null,
     "start_time": null,
     "status": "pending"
    },
    "tags": []
   },
   "source": [
    "# vi.Perform Scaling"
   ]
  },
  {
   "cell_type": "code",
   "execution_count": null,
   "id": "599bf120",
   "metadata": {
    "execution": {
     "iopub.execute_input": "2023-12-06T14:23:39.542793Z",
     "iopub.status.busy": "2023-12-06T14:23:39.542361Z",
     "iopub.status.idle": "2023-12-06T14:23:39.603736Z",
     "shell.execute_reply": "2023-12-06T14:23:39.602791Z",
     "shell.execute_reply.started": "2023-12-06T14:23:39.542757Z"
    },
    "papermill": {
     "duration": null,
     "end_time": null,
     "exception": null,
     "start_time": null,
     "status": "pending"
    },
    "tags": []
   },
   "outputs": [],
   "source": [
    "X_train.head()"
   ]
  },
  {
   "cell_type": "code",
   "execution_count": null,
   "id": "09668330",
   "metadata": {
    "execution": {
     "iopub.execute_input": "2023-12-06T14:23:43.812704Z",
     "iopub.status.busy": "2023-12-06T14:23:43.812048Z",
     "iopub.status.idle": "2023-12-06T14:23:43.831444Z",
     "shell.execute_reply": "2023-12-06T14:23:43.830224Z",
     "shell.execute_reply.started": "2023-12-06T14:23:43.812668Z"
    },
    "papermill": {
     "duration": null,
     "end_time": null,
     "exception": null,
     "start_time": null,
     "status": "pending"
    },
    "tags": []
   },
   "outputs": [],
   "source": [
    "X_train.info()"
   ]
  },
  {
   "cell_type": "code",
   "execution_count": null,
   "id": "b5d4bfa2",
   "metadata": {
    "execution": {
     "iopub.execute_input": "2023-12-06T14:23:49.741177Z",
     "iopub.status.busy": "2023-12-06T14:23:49.740744Z",
     "iopub.status.idle": "2023-12-06T14:23:49.755901Z",
     "shell.execute_reply": "2023-12-06T14:23:49.754640Z",
     "shell.execute_reply.started": "2023-12-06T14:23:49.741142Z"
    },
    "papermill": {
     "duration": null,
     "end_time": null,
     "exception": null,
     "start_time": null,
     "status": "pending"
    },
    "tags": []
   },
   "outputs": [],
   "source": [
    "num_col = X_train.select_dtypes(include = ['int64','float64']).columns.tolist()"
   ]
  },
  {
   "cell_type": "code",
   "execution_count": null,
   "id": "a00044b9",
   "metadata": {
    "execution": {
     "iopub.execute_input": "2023-12-06T14:23:54.890075Z",
     "iopub.status.busy": "2023-12-06T14:23:54.889671Z",
     "iopub.status.idle": "2023-12-06T14:23:54.921748Z",
     "shell.execute_reply": "2023-12-06T14:23:54.920561Z",
     "shell.execute_reply.started": "2023-12-06T14:23:54.890029Z"
    },
    "papermill": {
     "duration": null,
     "end_time": null,
     "exception": null,
     "start_time": null,
     "status": "pending"
    },
    "tags": []
   },
   "outputs": [],
   "source": [
    "# apply scaling on the dataset\n",
    "from sklearn import preprocessing\n",
    "from sklearn.preprocessing import MinMaxScaler\n",
    "\n",
    "scaler = MinMaxScaler()\n",
    "X_train[num_col] = scaler.fit_transform(X_train[num_col])"
   ]
  },
  {
   "cell_type": "code",
   "execution_count": null,
   "id": "88332aaa",
   "metadata": {
    "execution": {
     "iopub.execute_input": "2023-12-06T14:24:11.126666Z",
     "iopub.status.busy": "2023-12-06T14:24:11.126285Z",
     "iopub.status.idle": "2023-12-06T14:24:11.188663Z",
     "shell.execute_reply": "2023-12-06T14:24:11.187167Z",
     "shell.execute_reply.started": "2023-12-06T14:24:11.126637Z"
    },
    "papermill": {
     "duration": null,
     "end_time": null,
     "exception": null,
     "start_time": null,
     "status": "pending"
    },
    "tags": []
   },
   "outputs": [],
   "source": [
    "X_train.head()"
   ]
  },
  {
   "cell_type": "markdown",
   "id": "d478997e",
   "metadata": {
    "papermill": {
     "duration": null,
     "end_time": null,
     "exception": null,
     "start_time": null,
     "status": "pending"
    },
    "tags": []
   },
   "source": [
    "As there are many variables we will start the process of dropping variables after doing the RFE"
   ]
  },
  {
   "cell_type": "markdown",
   "id": "1746995e",
   "metadata": {
    "papermill": {
     "duration": null,
     "end_time": null,
     "exception": null,
     "start_time": null,
     "status": "pending"
    },
    "tags": []
   },
   "source": [
    "# Data Modeling and Model Evaluation and Prepare Model for Predictor variables selection\n"
   ]
  },
  {
   "cell_type": "markdown",
   "id": "3f85caa8",
   "metadata": {
    "papermill": {
     "duration": null,
     "end_time": null,
     "exception": null,
     "start_time": null,
     "status": "pending"
    },
    "tags": []
   },
   "source": [
    "## Data Imbalance Handling\n",
    "Using SMOTE method, we can balance the data w.r.t. churn variable and proceed further"
   ]
  },
  {
   "cell_type": "code",
   "execution_count": null,
   "id": "7df45278",
   "metadata": {
    "execution": {
     "iopub.execute_input": "2023-12-06T14:24:23.696883Z",
     "iopub.status.busy": "2023-12-06T14:24:23.696422Z",
     "iopub.status.idle": "2023-12-06T14:24:23.816624Z",
     "shell.execute_reply": "2023-12-06T14:24:23.815402Z",
     "shell.execute_reply.started": "2023-12-06T14:24:23.696845Z"
    },
    "papermill": {
     "duration": null,
     "end_time": null,
     "exception": null,
     "start_time": null,
     "status": "pending"
    },
    "tags": []
   },
   "outputs": [],
   "source": [
    "smote = SMOTE(random_state=42)\n",
    "X_train_sm,y_train_sm = smote.fit_resample(X_train,y_train)"
   ]
  },
  {
   "cell_type": "code",
   "execution_count": null,
   "id": "dc2eadd8",
   "metadata": {
    "execution": {
     "iopub.execute_input": "2023-12-06T14:24:26.538282Z",
     "iopub.status.busy": "2023-12-06T14:24:26.537869Z",
     "iopub.status.idle": "2023-12-06T14:24:26.544250Z",
     "shell.execute_reply": "2023-12-06T14:24:26.543056Z",
     "shell.execute_reply.started": "2023-12-06T14:24:26.538249Z"
    },
    "papermill": {
     "duration": null,
     "end_time": null,
     "exception": null,
     "start_time": null,
     "status": "pending"
    },
    "tags": []
   },
   "outputs": [],
   "source": [
    "print(\"Dimension of X_train_sm Shape:\", X_train_sm.shape)\n",
    "print(\"Dimension of y_train_sm Shape:\", y_train_sm.shape)"
   ]
  },
  {
   "cell_type": "markdown",
   "id": "e056a639",
   "metadata": {
    "papermill": {
     "duration": null,
     "end_time": null,
     "exception": null,
     "start_time": null,
     "status": "pending"
    },
    "tags": []
   },
   "source": [
    "# Logistic Regression"
   ]
  },
  {
   "cell_type": "code",
   "execution_count": null,
   "id": "c67a5598",
   "metadata": {
    "execution": {
     "iopub.execute_input": "2023-12-06T14:24:31.189054Z",
     "iopub.status.busy": "2023-12-06T14:24:31.188666Z",
     "iopub.status.idle": "2023-12-06T14:24:35.085253Z",
     "shell.execute_reply": "2023-12-06T14:24:35.083976Z",
     "shell.execute_reply.started": "2023-12-06T14:24:31.189025Z"
    },
    "papermill": {
     "duration": null,
     "end_time": null,
     "exception": null,
     "start_time": null,
     "status": "pending"
    },
    "tags": []
   },
   "outputs": [],
   "source": [
    "# Logistic regression model\n",
    "logm1 = sm.GLM(y_train_sm,(sm.add_constant(X_train_sm)), family = sm.families.Binomial())\n",
    "logm1.fit().summary()"
   ]
  },
  {
   "cell_type": "markdown",
   "id": "211ec9c1",
   "metadata": {
    "papermill": {
     "duration": null,
     "end_time": null,
     "exception": null,
     "start_time": null,
     "status": "pending"
    },
    "tags": []
   },
   "source": [
    "# Logistic Regression using Feature Selection (RFE method)\n"
   ]
  },
  {
   "cell_type": "code",
   "execution_count": null,
   "id": "31306b07",
   "metadata": {
    "execution": {
     "iopub.execute_input": "2023-12-06T14:24:37.713043Z",
     "iopub.status.busy": "2023-12-06T14:24:37.712571Z",
     "iopub.status.idle": "2023-12-06T14:24:52.650197Z",
     "shell.execute_reply": "2023-12-06T14:24:52.648532Z",
     "shell.execute_reply.started": "2023-12-06T14:24:37.712997Z"
    },
    "papermill": {
     "duration": null,
     "end_time": null,
     "exception": null,
     "start_time": null,
     "status": "pending"
    },
    "tags": []
   },
   "outputs": [],
   "source": [
    "logreg = LogisticRegression()\n",
    "\n",
    "from sklearn.feature_selection import RFE\n",
    "\n",
    "# running RFE with 20 variables as output\n",
    "rfe = RFE(logreg,  n_features_to_select= 20)             \n",
    "rfe = rfe.fit(X_train_sm, y_train_sm)"
   ]
  },
  {
   "cell_type": "code",
   "execution_count": null,
   "id": "b408bb0c",
   "metadata": {
    "execution": {
     "iopub.execute_input": "2023-12-06T14:24:58.180664Z",
     "iopub.status.busy": "2023-12-06T14:24:58.180272Z",
     "iopub.status.idle": "2023-12-06T14:24:58.188465Z",
     "shell.execute_reply": "2023-12-06T14:24:58.187095Z",
     "shell.execute_reply.started": "2023-12-06T14:24:58.180633Z"
    },
    "papermill": {
     "duration": null,
     "end_time": null,
     "exception": null,
     "start_time": null,
     "status": "pending"
    },
    "tags": []
   },
   "outputs": [],
   "source": [
    "rfe.support_"
   ]
  },
  {
   "cell_type": "code",
   "execution_count": null,
   "id": "fb94018e",
   "metadata": {
    "execution": {
     "iopub.execute_input": "2023-12-06T14:25:01.663957Z",
     "iopub.status.busy": "2023-12-06T14:25:01.663512Z",
     "iopub.status.idle": "2023-12-06T14:25:01.671201Z",
     "shell.execute_reply": "2023-12-06T14:25:01.669831Z",
     "shell.execute_reply.started": "2023-12-06T14:25:01.663922Z"
    },
    "papermill": {
     "duration": null,
     "end_time": null,
     "exception": null,
     "start_time": null,
     "status": "pending"
    },
    "tags": []
   },
   "outputs": [],
   "source": [
    "rfe_columns=X_train_sm.columns[rfe.support_]\n",
    "print(\"The selected columns by RFE for modelling are: \\n\\n\",rfe_columns)"
   ]
  },
  {
   "cell_type": "code",
   "execution_count": null,
   "id": "a02ac015",
   "metadata": {
    "execution": {
     "iopub.execute_input": "2023-12-06T14:25:06.071872Z",
     "iopub.status.busy": "2023-12-06T14:25:06.071446Z",
     "iopub.status.idle": "2023-12-06T14:25:06.084953Z",
     "shell.execute_reply": "2023-12-06T14:25:06.083828Z",
     "shell.execute_reply.started": "2023-12-06T14:25:06.071836Z"
    },
    "papermill": {
     "duration": null,
     "end_time": null,
     "exception": null,
     "start_time": null,
     "status": "pending"
    },
    "tags": []
   },
   "outputs": [],
   "source": [
    "list(zip(X_train_sm.columns, rfe.support_, rfe.ranking_))"
   ]
  },
  {
   "cell_type": "markdown",
   "id": "0a477980",
   "metadata": {
    "papermill": {
     "duration": null,
     "end_time": null,
     "exception": null,
     "start_time": null,
     "status": "pending"
    },
    "tags": []
   },
   "source": [
    "# Assessing the model with StatsModels"
   ]
  },
  {
   "cell_type": "code",
   "execution_count": null,
   "id": "d4968499",
   "metadata": {
    "execution": {
     "iopub.execute_input": "2023-12-06T14:25:11.411037Z",
     "iopub.status.busy": "2023-12-06T14:25:11.410591Z",
     "iopub.status.idle": "2023-12-06T14:25:11.920873Z",
     "shell.execute_reply": "2023-12-06T14:25:11.919627Z",
     "shell.execute_reply.started": "2023-12-06T14:25:11.411001Z"
    },
    "papermill": {
     "duration": null,
     "end_time": null,
     "exception": null,
     "start_time": null,
     "status": "pending"
    },
    "tags": []
   },
   "outputs": [],
   "source": [
    "X_train_SM = sm.add_constant(X_train_sm[rfe_columns])\n",
    "logm2 = sm.GLM(y_train_sm,X_train_SM, family = sm.families.Binomial())\n",
    "res = logm2.fit()\n",
    "res.summary()"
   ]
  },
  {
   "cell_type": "code",
   "execution_count": null,
   "id": "92792a48",
   "metadata": {
    "execution": {
     "iopub.execute_input": "2023-12-06T14:25:18.203414Z",
     "iopub.status.busy": "2023-12-06T14:25:18.202987Z",
     "iopub.status.idle": "2023-12-06T14:25:18.221893Z",
     "shell.execute_reply": "2023-12-06T14:25:18.219836Z",
     "shell.execute_reply.started": "2023-12-06T14:25:18.203383Z"
    },
    "papermill": {
     "duration": null,
     "end_time": null,
     "exception": null,
     "start_time": null,
     "status": "pending"
    },
    "tags": []
   },
   "outputs": [],
   "source": [
    "# Getting the predicted values on the train set\n",
    "y_train_sm_pred = res.predict(X_train_SM)\n",
    "y_train_sm_pred = y_train_sm_pred.values.reshape(-1)\n",
    "y_train_sm_pred[:10]"
   ]
  },
  {
   "cell_type": "code",
   "execution_count": null,
   "id": "2685f57c",
   "metadata": {
    "execution": {
     "iopub.execute_input": "2023-12-06T14:25:21.968748Z",
     "iopub.status.busy": "2023-12-06T14:25:21.968341Z",
     "iopub.status.idle": "2023-12-06T14:25:21.980456Z",
     "shell.execute_reply": "2023-12-06T14:25:21.979655Z",
     "shell.execute_reply.started": "2023-12-06T14:25:21.968714Z"
    },
    "papermill": {
     "duration": null,
     "end_time": null,
     "exception": null,
     "start_time": null,
     "status": "pending"
    },
    "tags": []
   },
   "outputs": [],
   "source": [
    "# Creating a dataframe with the actual churn flag and the predicted probabilities\n",
    "y_train_sm_pred_final = pd.DataFrame({'Converted':y_train_sm.values, 'Converted_prob':y_train_sm_pred})\n",
    "y_train_sm_pred_final.head()"
   ]
  },
  {
   "cell_type": "markdown",
   "id": "145716f2",
   "metadata": {
    "papermill": {
     "duration": null,
     "end_time": null,
     "exception": null,
     "start_time": null,
     "status": "pending"
    },
    "tags": []
   },
   "source": [
    "# Creating new column 'churn_pred' with 1 if Churn_Prob > 0.8 else 0"
   ]
  },
  {
   "cell_type": "code",
   "execution_count": null,
   "id": "24fb342f",
   "metadata": {
    "execution": {
     "iopub.execute_input": "2023-12-06T14:25:29.514403Z",
     "iopub.status.busy": "2023-12-06T14:25:29.513947Z",
     "iopub.status.idle": "2023-12-06T14:25:29.553525Z",
     "shell.execute_reply": "2023-12-06T14:25:29.552289Z",
     "shell.execute_reply.started": "2023-12-06T14:25:29.514368Z"
    },
    "papermill": {
     "duration": null,
     "end_time": null,
     "exception": null,
     "start_time": null,
     "status": "pending"
    },
    "tags": []
   },
   "outputs": [],
   "source": [
    "y_train_sm_pred_final['churn_pred'] = y_train_sm_pred_final.Converted_prob.map(lambda x: 1 if x > 0.5 else 0)\n",
    "\n",
    "# Viewing the prediction results\n",
    "y_train_sm_pred_final.head()"
   ]
  },
  {
   "cell_type": "code",
   "execution_count": null,
   "id": "617d7fe7",
   "metadata": {
    "execution": {
     "iopub.execute_input": "2023-12-06T14:25:35.415503Z",
     "iopub.status.busy": "2023-12-06T14:25:35.415008Z",
     "iopub.status.idle": "2023-12-06T14:25:35.430796Z",
     "shell.execute_reply": "2023-12-06T14:25:35.429796Z",
     "shell.execute_reply.started": "2023-12-06T14:25:35.415466Z"
    },
    "papermill": {
     "duration": null,
     "end_time": null,
     "exception": null,
     "start_time": null,
     "status": "pending"
    },
    "tags": []
   },
   "outputs": [],
   "source": [
    "# Confusion matrix \n",
    "confusion = metrics.confusion_matrix(y_train_sm_pred_final.Converted, y_train_sm_pred_final.churn_pred )\n",
    "print(confusion)"
   ]
  },
  {
   "cell_type": "markdown",
   "id": "f238b64c",
   "metadata": {
    "papermill": {
     "duration": null,
     "end_time": null,
     "exception": null,
     "start_time": null,
     "status": "pending"
    },
    "tags": []
   },
   "source": [
    "# Confusion matrix\n",
    "\n",
    "# Predicted     not_churn    churn\n",
    "# Actual\n",
    "\n",
    "# not_churn     11630           2825\n",
    "                    \n",
    "# churn             2238            12217  "
   ]
  },
  {
   "cell_type": "code",
   "execution_count": null,
   "id": "a3c72f5f",
   "metadata": {
    "execution": {
     "iopub.execute_input": "2023-12-06T14:25:42.367012Z",
     "iopub.status.busy": "2023-12-06T14:25:42.366601Z",
     "iopub.status.idle": "2023-12-06T14:25:42.378616Z",
     "shell.execute_reply": "2023-12-06T14:25:42.377269Z",
     "shell.execute_reply.started": "2023-12-06T14:25:42.366972Z"
    },
    "papermill": {
     "duration": null,
     "end_time": null,
     "exception": null,
     "start_time": null,
     "status": "pending"
    },
    "tags": []
   },
   "outputs": [],
   "source": [
    "# Checking the overall accuracy.\n",
    "print(\"The overall accuracy of the model is:\",metrics.accuracy_score(y_train_sm_pred_final.Converted, y_train_sm_pred_final.churn_pred))"
   ]
  },
  {
   "cell_type": "markdown",
   "id": "8835fbdf",
   "metadata": {
    "papermill": {
     "duration": null,
     "end_time": null,
     "exception": null,
     "start_time": null,
     "status": "pending"
    },
    "tags": []
   },
   "source": [
    "# Check for the VIF values of the feature variables\n"
   ]
  },
  {
   "cell_type": "code",
   "execution_count": null,
   "id": "8b6adec6",
   "metadata": {
    "execution": {
     "iopub.execute_input": "2023-12-06T14:25:48.460507Z",
     "iopub.status.busy": "2023-12-06T14:25:48.460118Z",
     "iopub.status.idle": "2023-12-06T14:25:49.949929Z",
     "shell.execute_reply": "2023-12-06T14:25:49.948771Z",
     "shell.execute_reply.started": "2023-12-06T14:25:48.460476Z"
    },
    "papermill": {
     "duration": null,
     "end_time": null,
     "exception": null,
     "start_time": null,
     "status": "pending"
    },
    "tags": []
   },
   "outputs": [],
   "source": [
    "# Create a dataframe that will contain the names of all the feature variables and their respective VIFs\n",
    "vif = pd.DataFrame()\n",
    "vif['Features'] = X_train_sm[rfe_columns].columns\n",
    "vif['VIF'] = [variance_inflation_factor(X_train_sm[rfe_columns].values, i) for i in range(X_train_sm[rfe_columns].shape[1])]\n",
    "vif['VIF'] = round(vif['VIF'], 2)\n",
    "vif = vif.sort_values(by = \"VIF\", ascending = False)\n",
    "vif"
   ]
  },
  {
   "cell_type": "markdown",
   "id": "d10082e1",
   "metadata": {
    "papermill": {
     "duration": null,
     "end_time": null,
     "exception": null,
     "start_time": null,
     "status": "pending"
    },
    "tags": []
   },
   "source": [
    "## Metrics beyond simply accuracy\n"
   ]
  },
  {
   "cell_type": "code",
   "execution_count": null,
   "id": "a45efab2",
   "metadata": {
    "execution": {
     "iopub.execute_input": "2023-12-06T14:25:55.132343Z",
     "iopub.status.busy": "2023-12-06T14:25:55.131900Z",
     "iopub.status.idle": "2023-12-06T14:25:55.138340Z",
     "shell.execute_reply": "2023-12-06T14:25:55.137360Z",
     "shell.execute_reply.started": "2023-12-06T14:25:55.132306Z"
    },
    "papermill": {
     "duration": null,
     "end_time": null,
     "exception": null,
     "start_time": null,
     "status": "pending"
    },
    "tags": []
   },
   "outputs": [],
   "source": [
    "TP = confusion[1,1] # true positive \n",
    "TN = confusion[0,0] # true negatives\n",
    "FP = confusion[0,1] # false positives\n",
    "FN = confusion[1,0] # false negatives"
   ]
  },
  {
   "cell_type": "code",
   "execution_count": null,
   "id": "8f12f998",
   "metadata": {
    "execution": {
     "iopub.execute_input": "2023-12-06T14:25:59.062786Z",
     "iopub.status.busy": "2023-12-06T14:25:59.062337Z",
     "iopub.status.idle": "2023-12-06T14:25:59.071002Z",
     "shell.execute_reply": "2023-12-06T14:25:59.069772Z",
     "shell.execute_reply.started": "2023-12-06T14:25:59.062746Z"
    },
    "papermill": {
     "duration": null,
     "end_time": null,
     "exception": null,
     "start_time": null,
     "status": "pending"
    },
    "tags": []
   },
   "outputs": [],
   "source": [
    "# Let's see the sensitivity of our logistic regression model\n",
    "print(\"Sensitivity = \",TP / float(TP+FN))\n",
    "\n",
    "# Let us calculate specificity\n",
    "print(\"Specificity = \",TN / float(TN+FP))\n",
    "\n",
    "# Calculate false postive rate - predicting churn when customer does not have churned\n",
    "print(\"False Positive Rate = \",FP/ float(TN+FP))\n",
    "\n",
    "# positive predictive value \n",
    "print (\"Precision = \",TP / float(TP+FP))\n",
    "\n",
    "# Negative predictive value\n",
    "print (\"True Negative Prediction Rate = \",TN / float(TN+ FN))"
   ]
  },
  {
   "cell_type": "markdown",
   "id": "dee78ac2",
   "metadata": {
    "papermill": {
     "duration": null,
     "end_time": null,
     "exception": null,
     "start_time": null,
     "status": "pending"
    },
    "tags": []
   },
   "source": [
    "#### Plotting the ROC Curve"
   ]
  },
  {
   "cell_type": "code",
   "execution_count": null,
   "id": "9478dbcc",
   "metadata": {
    "execution": {
     "iopub.execute_input": "2023-12-06T14:26:09.587642Z",
     "iopub.status.busy": "2023-12-06T14:26:09.587258Z",
     "iopub.status.idle": "2023-12-06T14:26:09.596434Z",
     "shell.execute_reply": "2023-12-06T14:26:09.595052Z",
     "shell.execute_reply.started": "2023-12-06T14:26:09.587613Z"
    },
    "papermill": {
     "duration": null,
     "end_time": null,
     "exception": null,
     "start_time": null,
     "status": "pending"
    },
    "tags": []
   },
   "outputs": [],
   "source": [
    "# Defining a function to plot the roc curve\n",
    "def draw_roc( actual, probs ):\n",
    "    fpr, tpr, thresholds = metrics.roc_curve( actual, probs,\n",
    "                                              drop_intermediate = False )\n",
    "    auc_score = metrics.roc_auc_score( actual, probs )\n",
    "    plt.figure(figsize=(5, 5))\n",
    "    plt.plot( fpr, tpr, label='ROC curve (area = %0.2f)' % auc_score )\n",
    "    plt.plot([0, 1], [0, 1], 'k--')\n",
    "    plt.xlim([0.0, 1.0])\n",
    "    plt.ylim([0.0, 1.05])\n",
    "    plt.xlabel('False Positive Rate or [1 - True Negative Prediction Rate]')\n",
    "    plt.ylabel('True Positive Rate')\n",
    "    plt.title('Receiver operating characteristic example')\n",
    "    plt.legend(loc=\"lower right\")\n",
    "    plt.show()\n",
    "\n",
    "    return None"
   ]
  },
  {
   "cell_type": "code",
   "execution_count": null,
   "id": "af2bb982",
   "metadata": {
    "execution": {
     "iopub.execute_input": "2023-12-06T14:26:14.192693Z",
     "iopub.status.busy": "2023-12-06T14:26:14.192294Z",
     "iopub.status.idle": "2023-12-06T14:26:14.205122Z",
     "shell.execute_reply": "2023-12-06T14:26:14.203914Z",
     "shell.execute_reply.started": "2023-12-06T14:26:14.192662Z"
    },
    "papermill": {
     "duration": null,
     "end_time": null,
     "exception": null,
     "start_time": null,
     "status": "pending"
    },
    "tags": []
   },
   "outputs": [],
   "source": [
    "# Defining the variables to plot the curve\n",
    "fpr, tpr, thresholds = metrics.roc_curve( y_train_sm_pred_final.Converted, y_train_sm_pred_final.Converted_prob, drop_intermediate = False )"
   ]
  },
  {
   "cell_type": "code",
   "execution_count": null,
   "id": "ac546ed8",
   "metadata": {
    "execution": {
     "iopub.execute_input": "2023-12-06T14:26:19.218635Z",
     "iopub.status.busy": "2023-12-06T14:26:19.218192Z",
     "iopub.status.idle": "2023-12-06T14:26:19.543843Z",
     "shell.execute_reply": "2023-12-06T14:26:19.542603Z",
     "shell.execute_reply.started": "2023-12-06T14:26:19.218600Z"
    },
    "papermill": {
     "duration": null,
     "end_time": null,
     "exception": null,
     "start_time": null,
     "status": "pending"
    },
    "tags": []
   },
   "outputs": [],
   "source": [
    "# Plotting the curve for the obtained metrics\n",
    "draw_roc(y_train_sm_pred_final.Converted, y_train_sm_pred_final.Converted_prob)"
   ]
  },
  {
   "cell_type": "markdown",
   "id": "0af83cbb",
   "metadata": {
    "papermill": {
     "duration": null,
     "end_time": null,
     "exception": null,
     "start_time": null,
     "status": "pending"
    },
    "tags": []
   },
   "source": [
    "#### Finding Optimal Cutoff Point\n"
   ]
  },
  {
   "cell_type": "code",
   "execution_count": null,
   "id": "087ff92c",
   "metadata": {
    "execution": {
     "iopub.execute_input": "2023-12-06T14:26:36.445853Z",
     "iopub.status.busy": "2023-12-06T14:26:36.445446Z",
     "iopub.status.idle": "2023-12-06T14:26:36.694925Z",
     "shell.execute_reply": "2023-12-06T14:26:36.693714Z",
     "shell.execute_reply.started": "2023-12-06T14:26:36.445823Z"
    },
    "papermill": {
     "duration": null,
     "end_time": null,
     "exception": null,
     "start_time": null,
     "status": "pending"
    },
    "tags": []
   },
   "outputs": [],
   "source": [
    "# Let's create columns with different probability cutoffs \n",
    "numbers = [float(x)/10 for x in range(10)]\n",
    "for i in numbers:\n",
    "    y_train_sm_pred_final[i]= y_train_sm_pred_final.Converted_prob.map(lambda x: 1 if x > i else 0)\n",
    "y_train_sm_pred_final.head()"
   ]
  },
  {
   "cell_type": "code",
   "execution_count": null,
   "id": "3ebd69f6",
   "metadata": {
    "execution": {
     "iopub.execute_input": "2022-08-09T14:29:43.433200Z",
     "iopub.status.busy": "2022-08-09T14:29:43.432885Z",
     "iopub.status.idle": "2022-08-09T14:29:43.518894Z",
     "shell.execute_reply": "2022-08-09T14:29:43.517884Z",
     "shell.execute_reply.started": "2022-08-09T14:29:43.433171Z"
    },
    "papermill": {
     "duration": null,
     "end_time": null,
     "exception": null,
     "start_time": null,
     "status": "pending"
    },
    "tags": []
   },
   "outputs": [],
   "source": [
    "# Now let's calculate accuracy sensitivity and specificity for various probability cutoffs.\n",
    "cutoff_df = pd.DataFrame( columns = ['probability','accuracy','sensitivity','specificity'])\n",
    "from sklearn.metrics import confusion_matrix\n",
    "\n",
    "# TP = confusion[1,1] # true positive \n",
    "# TN = confusion[0,0] # true negatives\n",
    "# FP = confusion[0,1] # false positives\n",
    "# FN = confusion[1,0] # false negatives\n",
    "\n",
    "num = [0.0,0.1,0.2,0.3,0.4,0.5,0.6,0.7,0.8,0.9]\n",
    "for i in num:\n",
    "    cm1 = metrics.confusion_matrix(y_train_sm_pred_final.Converted, y_train_sm_pred_final[i] )\n",
    "    total1=sum(sum(cm1))\n",
    "    accuracy = (cm1[0,0]+cm1[1,1])/total1\n",
    "    \n",
    "    specificity = cm1[0,0]/(cm1[0,0]+cm1[0,1])\n",
    "    sensitivity = cm1[1,1]/(cm1[1,0]+cm1[1,1])\n",
    "    cutoff_df.loc[i] =[ i ,accuracy,sensitivity,specificity]\n",
    "print(cutoff_df)"
   ]
  },
  {
   "cell_type": "code",
   "execution_count": null,
   "id": "5014deae",
   "metadata": {
    "execution": {
     "iopub.execute_input": "2023-12-06T14:34:54.590595Z",
     "iopub.status.busy": "2023-12-06T14:34:54.590156Z",
     "iopub.status.idle": "2023-12-06T14:34:54.913509Z",
     "shell.execute_reply": "2023-12-06T14:34:54.912413Z",
     "shell.execute_reply.started": "2023-12-06T14:34:54.590562Z"
    },
    "papermill": {
     "duration": null,
     "end_time": null,
     "exception": null,
     "start_time": null,
     "status": "pending"
    },
    "tags": []
   },
   "outputs": [],
   "source": [
    "# plotting accuracy sensitivity and specificity for various probabilities calculated above.\n",
    "cutoff_df.plot.line(x='probability', y=['accuracy','sensitivity','specificity'])\n",
    "plt.show()"
   ]
  },
  {
   "cell_type": "markdown",
   "id": "9cccf575",
   "metadata": {
    "papermill": {
     "duration": null,
     "end_time": null,
     "exception": null,
     "start_time": null,
     "status": "pending"
    },
    "tags": []
   },
   "source": [
    "**Initially we selected the optimum point of classification as 0.5.<br><br>From the above graph, we can see the optimum cutoff is slightly higher than 0.5 but lies lower than 0.6. So lets tweek a little more within this range.**"
   ]
  },
  {
   "cell_type": "code",
   "execution_count": null,
   "id": "7bbe8447",
   "metadata": {
    "execution": {
     "iopub.execute_input": "2023-12-06T14:37:01.153436Z",
     "iopub.status.busy": "2023-12-06T14:37:01.152902Z",
     "iopub.status.idle": "2023-12-06T14:37:01.419417Z",
     "shell.execute_reply": "2023-12-06T14:37:01.418039Z",
     "shell.execute_reply.started": "2023-12-06T14:37:01.153390Z"
    },
    "papermill": {
     "duration": null,
     "end_time": null,
     "exception": null,
     "start_time": null,
     "status": "pending"
    },
    "tags": []
   },
   "outputs": [],
   "source": [
    "# Let's create columns with refined probability cutoffs \n",
    "numbers = [0.50,0.51,0.52,0.53,0.54,0.55,0.56,0.57,0.58,0.59]\n",
    "for i in numbers:\n",
    "    y_train_sm_pred_final[i]= y_train_sm_pred_final.Converted_prob.map(lambda x: 1 if x > i else 0)\n",
    "y_train_sm_pred_final.head()"
   ]
  },
  {
   "cell_type": "code",
   "execution_count": null,
   "id": "93c91dd0",
   "metadata": {
    "execution": {
     "iopub.execute_input": "2023-12-06T14:37:10.968621Z",
     "iopub.status.busy": "2023-12-06T14:37:10.968162Z",
     "iopub.status.idle": "2023-12-06T14:37:11.055732Z",
     "shell.execute_reply": "2023-12-06T14:37:11.054538Z",
     "shell.execute_reply.started": "2023-12-06T14:37:10.968584Z"
    },
    "papermill": {
     "duration": null,
     "end_time": null,
     "exception": null,
     "start_time": null,
     "status": "pending"
    },
    "tags": []
   },
   "outputs": [],
   "source": [
    "# Now let's calculate accuracy sensitivity and specificity for various probability cutoffs.\n",
    "cutoff_df = pd.DataFrame( columns = ['probability','accuracy','sensitivity','specificity'])\n",
    "from sklearn.metrics import confusion_matrix\n",
    "\n",
    "# TP = confusion[1,1] # true positive \n",
    "# TN = confusion[0,0] # true negatives\n",
    "# FP = confusion[0,1] # false positives\n",
    "# FN = confusion[1,0] # false negatives\n",
    "\n",
    "num = [0.50,0.51,0.52,0.53,0.54,0.55,0.56,0.57,0.58,0.59]\n",
    "for i in num:\n",
    "    cm1 = metrics.confusion_matrix(y_train_sm_pred_final.Converted, y_train_sm_pred_final[i] )\n",
    "    total1=sum(sum(cm1))\n",
    "    accuracy = (cm1[0,0]+cm1[1,1])/total1\n",
    "    \n",
    "    specificity = cm1[0,0]/(cm1[0,0]+cm1[0,1])\n",
    "    sensitivity = cm1[1,1]/(cm1[1,0]+cm1[1,1])\n",
    "    cutoff_df.loc[i] =[ i ,accuracy,sensitivity,specificity]\n",
    "print(cutoff_df)"
   ]
  },
  {
   "cell_type": "code",
   "execution_count": null,
   "id": "a0216439",
   "metadata": {
    "execution": {
     "iopub.execute_input": "2023-12-06T14:37:28.261893Z",
     "iopub.status.busy": "2023-12-06T14:37:28.261329Z",
     "iopub.status.idle": "2023-12-06T14:37:28.593234Z",
     "shell.execute_reply": "2023-12-06T14:37:28.592293Z",
     "shell.execute_reply.started": "2023-12-06T14:37:28.261844Z"
    },
    "papermill": {
     "duration": null,
     "end_time": null,
     "exception": null,
     "start_time": null,
     "status": "pending"
    },
    "tags": []
   },
   "outputs": [],
   "source": [
    "# plotting accuracy sensitivity and specificity for various probabilities calculated above.\n",
    "cutoff_df.plot.line(x='probability', y=['accuracy','sensitivity','specificity'])\n",
    "plt.show()"
   ]
  },
  {
   "cell_type": "markdown",
   "id": "ce60aa50",
   "metadata": {
    "papermill": {
     "duration": null,
     "end_time": null,
     "exception": null,
     "start_time": null,
     "status": "pending"
    },
    "tags": []
   },
   "source": [
    "**From the above graph we can conclude, the optimal cutoff point in the probability to define the predicted churn variabe converges at `0.54`**"
   ]
  },
  {
   "cell_type": "code",
   "execution_count": null,
   "id": "fd3f04f4",
   "metadata": {
    "execution": {
     "iopub.execute_input": "2023-12-06T14:37:41.477326Z",
     "iopub.status.busy": "2023-12-06T14:37:41.476844Z",
     "iopub.status.idle": "2023-12-06T14:37:41.525623Z",
     "shell.execute_reply": "2023-12-06T14:37:41.524483Z",
     "shell.execute_reply.started": "2023-12-06T14:37:41.477287Z"
    },
    "papermill": {
     "duration": null,
     "end_time": null,
     "exception": null,
     "start_time": null,
     "status": "pending"
    },
    "tags": []
   },
   "outputs": [],
   "source": [
    "#### From the curve above,we can take 0.54 is the optimum point to take it as a cutoff probability.\n",
    "\n",
    "y_train_sm_pred_final['final_churn_pred'] = y_train_sm_pred_final.Converted_prob.map( lambda x: 1 if x > 0.53 else 0)\n",
    "\n",
    "y_train_sm_pred_final.head()"
   ]
  },
  {
   "cell_type": "code",
   "execution_count": null,
   "id": "598c722c",
   "metadata": {
    "execution": {
     "iopub.execute_input": "2022-08-09T14:29:44.226092Z",
     "iopub.status.busy": "2022-08-09T14:29:44.225708Z",
     "iopub.status.idle": "2022-08-09T14:29:44.234155Z",
     "shell.execute_reply": "2022-08-09T14:29:44.233160Z",
     "shell.execute_reply.started": "2022-08-09T14:29:44.226064Z"
    },
    "papermill": {
     "duration": null,
     "end_time": null,
     "exception": null,
     "start_time": null,
     "status": "pending"
    },
    "tags": []
   },
   "outputs": [],
   "source": [
    "# Calculating the ovearall accuracy again\n",
    "print(\"The overall accuracy of the model now is:\",metrics.accuracy_score(y_train_sm_pred_final.Converted, y_train_sm_pred_final.final_churn_pred))"
   ]
  },
  {
   "cell_type": "code",
   "execution_count": null,
   "id": "5d1230bc",
   "metadata": {
    "execution": {
     "iopub.execute_input": "2023-12-06T14:37:47.653914Z",
     "iopub.status.busy": "2023-12-06T14:37:47.653484Z",
     "iopub.status.idle": "2023-12-06T14:37:47.667158Z",
     "shell.execute_reply": "2023-12-06T14:37:47.665734Z",
     "shell.execute_reply.started": "2023-12-06T14:37:47.653883Z"
    },
    "papermill": {
     "duration": null,
     "end_time": null,
     "exception": null,
     "start_time": null,
     "status": "pending"
    },
    "tags": []
   },
   "outputs": [],
   "source": [
    "confusion2 = metrics.confusion_matrix(y_train_sm_pred_final.Converted, y_train_sm_pred_final.final_churn_pred )\n",
    "print(confusion2)"
   ]
  },
  {
   "cell_type": "code",
   "execution_count": null,
   "id": "66f4a290",
   "metadata": {
    "execution": {
     "iopub.execute_input": "2023-12-06T14:37:59.545345Z",
     "iopub.status.busy": "2023-12-06T14:37:59.544881Z",
     "iopub.status.idle": "2023-12-06T14:37:59.554802Z",
     "shell.execute_reply": "2023-12-06T14:37:59.553443Z",
     "shell.execute_reply.started": "2023-12-06T14:37:59.545306Z"
    },
    "papermill": {
     "duration": null,
     "end_time": null,
     "exception": null,
     "start_time": null,
     "status": "pending"
    },
    "tags": []
   },
   "outputs": [],
   "source": [
    "TP2 = confusion2[1,1] # true positive \n",
    "TN2 = confusion2[0,0] # true negatives\n",
    "FP2 = confusion2[0,1] # false positives\n",
    "FN2 = confusion2[1,0] # false negatives\n",
    "\n",
    "# Let's see the sensitivity of our logistic regression model\n",
    "print(\"Sensitivity = \",TP2 / float(TP2+FN2))\n",
    "\n",
    "# Let us calculate specificity\n",
    "print(\"Specificity = \",TN2 / float(TN2+FP2))\n",
    "\n",
    "# Calculate false postive rate - predicting churn when customer does not have churned\n",
    "print(\"False Positive Rate = \",FP2/ float(TN2+FP2))\n",
    "\n",
    "# positive predictive value \n",
    "print (\"Precision = \",TP2 / float(TP2+FP2))\n",
    "\n",
    "# Negative predictive value\n",
    "print (\"True Negative Prediction Rate = \",TN2 / float(TN2 + FN2))"
   ]
  },
  {
   "cell_type": "markdown",
   "id": "8e4ae78b",
   "metadata": {
    "papermill": {
     "duration": null,
     "end_time": null,
     "exception": null,
     "start_time": null,
     "status": "pending"
    },
    "tags": []
   },
   "source": [
    "#### Precision and recall tradeoff\n"
   ]
  },
  {
   "cell_type": "code",
   "execution_count": null,
   "id": "d322c47a",
   "metadata": {
    "execution": {
     "iopub.execute_input": "2023-12-06T14:38:14.590300Z",
     "iopub.status.busy": "2023-12-06T14:38:14.589889Z",
     "iopub.status.idle": "2023-12-06T14:38:14.891458Z",
     "shell.execute_reply": "2023-12-06T14:38:14.889484Z",
     "shell.execute_reply.started": "2023-12-06T14:38:14.590269Z"
    },
    "papermill": {
     "duration": null,
     "end_time": null,
     "exception": null,
     "start_time": null,
     "status": "pending"
    },
    "tags": []
   },
   "outputs": [],
   "source": [
    "p, r, thresholds = precision_recall_curve(y_train_sm_pred_final.Converted, y_train_sm_pred_final.Converted_prob)\n",
    "\n",
    "# Plotting the curve\n",
    "plt.plot(thresholds, p[:-1], \"g-\")\n",
    "plt.plot(thresholds, r[:-1], \"r-\")\n",
    "plt.show()"
   ]
  },
  {
   "cell_type": "markdown",
   "id": "eca18bdc",
   "metadata": {
    "papermill": {
     "duration": null,
     "end_time": null,
     "exception": null,
     "start_time": null,
     "status": "pending"
    },
    "tags": []
   },
   "source": [
    "### Making predictions on the test set\n",
    "**Transforming and feature selection for test data**"
   ]
  },
  {
   "cell_type": "code",
   "execution_count": null,
   "id": "8e4326a5",
   "metadata": {
    "execution": {
     "iopub.execute_input": "2022-08-09T14:29:44.459693Z",
     "iopub.status.busy": "2022-08-09T14:29:44.459245Z",
     "iopub.status.idle": "2022-08-09T14:29:44.518170Z",
     "shell.execute_reply": "2022-08-09T14:29:44.517099Z",
     "shell.execute_reply.started": "2022-08-09T14:29:44.459662Z"
    },
    "papermill": {
     "duration": null,
     "end_time": null,
     "exception": null,
     "start_time": null,
     "status": "pending"
    },
    "tags": []
   },
   "outputs": [],
   "source": [
    "# Scaling the test data\n",
    "X_test[num_col] = scaler.transform(X_test[num_col])\n",
    "X_test.head()"
   ]
  },
  {
   "cell_type": "code",
   "execution_count": null,
   "id": "71437772",
   "metadata": {
    "execution": {
     "iopub.execute_input": "2023-12-06T14:38:18.013935Z",
     "iopub.status.busy": "2023-12-06T14:38:18.013214Z",
     "iopub.status.idle": "2023-12-06T14:38:18.045853Z",
     "shell.execute_reply": "2023-12-06T14:38:18.044084Z",
     "shell.execute_reply.started": "2023-12-06T14:38:18.013899Z"
    },
    "papermill": {
     "duration": null,
     "end_time": null,
     "exception": null,
     "start_time": null,
     "status": "pending"
    },
    "tags": []
   },
   "outputs": [],
   "source": [
    "# Feature selection\n",
    "X_test=X_test[rfe_columns]\n",
    "X_test.head()"
   ]
  },
  {
   "cell_type": "code",
   "execution_count": null,
   "id": "404c4841",
   "metadata": {
    "execution": {
     "iopub.execute_input": "2023-12-06T14:38:24.538976Z",
     "iopub.status.busy": "2023-12-06T14:38:24.538539Z",
     "iopub.status.idle": "2023-12-06T14:38:24.557601Z",
     "shell.execute_reply": "2023-12-06T14:38:24.556513Z",
     "shell.execute_reply.started": "2023-12-06T14:38:24.538944Z"
    },
    "papermill": {
     "duration": null,
     "end_time": null,
     "exception": null,
     "start_time": null,
     "status": "pending"
    },
    "tags": []
   },
   "outputs": [],
   "source": [
    "# Adding constant to the test model.\n",
    "X_test_SM = sm.add_constant(X_test)"
   ]
  },
  {
   "cell_type": "markdown",
   "id": "99f50a6f",
   "metadata": {
    "papermill": {
     "duration": null,
     "end_time": null,
     "exception": null,
     "start_time": null,
     "status": "pending"
    },
    "tags": []
   },
   "source": [
    "## Predicting the target variable"
   ]
  },
  {
   "cell_type": "code",
   "execution_count": null,
   "id": "5bcdff0c",
   "metadata": {
    "execution": {
     "iopub.execute_input": "2023-12-06T14:38:30.509491Z",
     "iopub.status.busy": "2023-12-06T14:38:30.509080Z",
     "iopub.status.idle": "2023-12-06T14:38:30.522960Z",
     "shell.execute_reply": "2023-12-06T14:38:30.521263Z",
     "shell.execute_reply.started": "2023-12-06T14:38:30.509459Z"
    },
    "papermill": {
     "duration": null,
     "end_time": null,
     "exception": null,
     "start_time": null,
     "status": "pending"
    },
    "tags": []
   },
   "outputs": [],
   "source": [
    "y_test_pred = res.predict(X_test_SM)\n",
    "print(\"\\n The first ten probability value of the prediction are:\\n\",y_test_pred[:10])"
   ]
  },
  {
   "cell_type": "code",
   "execution_count": null,
   "id": "c554103b",
   "metadata": {
    "execution": {
     "iopub.execute_input": "2023-12-06T14:38:36.712210Z",
     "iopub.status.busy": "2023-12-06T14:38:36.711732Z",
     "iopub.status.idle": "2023-12-06T14:38:36.722932Z",
     "shell.execute_reply": "2023-12-06T14:38:36.722044Z",
     "shell.execute_reply.started": "2023-12-06T14:38:36.712127Z"
    },
    "papermill": {
     "duration": null,
     "end_time": null,
     "exception": null,
     "start_time": null,
     "status": "pending"
    },
    "tags": []
   },
   "outputs": [],
   "source": [
    "y_pred = pd.DataFrame(y_test_pred)\n",
    "y_pred.head()"
   ]
  },
  {
   "cell_type": "code",
   "execution_count": null,
   "id": "686d4141",
   "metadata": {
    "execution": {
     "iopub.execute_input": "2023-12-06T14:38:42.136431Z",
     "iopub.status.busy": "2023-12-06T14:38:42.135951Z",
     "iopub.status.idle": "2023-12-06T14:38:42.143463Z",
     "shell.execute_reply": "2023-12-06T14:38:42.141687Z",
     "shell.execute_reply.started": "2023-12-06T14:38:42.136395Z"
    },
    "papermill": {
     "duration": null,
     "end_time": null,
     "exception": null,
     "start_time": null,
     "status": "pending"
    },
    "tags": []
   },
   "outputs": [],
   "source": [
    "y_pred=y_pred.rename(columns = {0:\"Conv_prob\"})"
   ]
  },
  {
   "cell_type": "code",
   "execution_count": null,
   "id": "6484d154",
   "metadata": {
    "execution": {
     "iopub.execute_input": "2023-12-06T14:38:51.283205Z",
     "iopub.status.busy": "2023-12-06T14:38:51.282709Z",
     "iopub.status.idle": "2023-12-06T14:38:51.295099Z",
     "shell.execute_reply": "2023-12-06T14:38:51.293816Z",
     "shell.execute_reply.started": "2023-12-06T14:38:51.283166Z"
    },
    "papermill": {
     "duration": null,
     "end_time": null,
     "exception": null,
     "start_time": null,
     "status": "pending"
    },
    "tags": []
   },
   "outputs": [],
   "source": [
    "y_test_df = pd.DataFrame(y_test)\n",
    "y_test_df.head()"
   ]
  },
  {
   "cell_type": "code",
   "execution_count": null,
   "id": "b993d92d",
   "metadata": {
    "execution": {
     "iopub.execute_input": "2023-12-06T14:38:56.690822Z",
     "iopub.status.busy": "2023-12-06T14:38:56.690394Z",
     "iopub.status.idle": "2023-12-06T14:38:56.703655Z",
     "shell.execute_reply": "2023-12-06T14:38:56.702437Z",
     "shell.execute_reply.started": "2023-12-06T14:38:56.690775Z"
    },
    "papermill": {
     "duration": null,
     "end_time": null,
     "exception": null,
     "start_time": null,
     "status": "pending"
    },
    "tags": []
   },
   "outputs": [],
   "source": [
    "y_pred_final = pd.concat([y_test_df,y_pred],axis=1)\n",
    "y_pred_final.head()"
   ]
  },
  {
   "cell_type": "code",
   "execution_count": null,
   "id": "232b8872",
   "metadata": {
    "execution": {
     "iopub.execute_input": "2023-12-06T14:39:01.291820Z",
     "iopub.status.busy": "2023-12-06T14:39:01.291142Z",
     "iopub.status.idle": "2023-12-06T14:39:01.313260Z",
     "shell.execute_reply": "2023-12-06T14:39:01.311753Z",
     "shell.execute_reply.started": "2023-12-06T14:39:01.291768Z"
    },
    "papermill": {
     "duration": null,
     "end_time": null,
     "exception": null,
     "start_time": null,
     "status": "pending"
    },
    "tags": []
   },
   "outputs": [],
   "source": [
    "y_pred_final['test_churn_pred'] = y_pred_final.Conv_prob.map(lambda x: 1 if x>0.54 else 0)\n",
    "y_pred_final.head()"
   ]
  },
  {
   "cell_type": "code",
   "execution_count": null,
   "id": "f55c79a5",
   "metadata": {
    "execution": {
     "iopub.execute_input": "2023-12-06T14:39:07.338694Z",
     "iopub.status.busy": "2023-12-06T14:39:07.338261Z",
     "iopub.status.idle": "2023-12-06T14:39:07.351443Z",
     "shell.execute_reply": "2023-12-06T14:39:07.350208Z",
     "shell.execute_reply.started": "2023-12-06T14:39:07.338659Z"
    },
    "papermill": {
     "duration": null,
     "end_time": null,
     "exception": null,
     "start_time": null,
     "status": "pending"
    },
    "tags": []
   },
   "outputs": [],
   "source": [
    "# Checking the overall accuracy of the predicted set.\n",
    "metrics.accuracy_score(y_pred_final.churn_probability, y_pred_final.test_churn_pred)"
   ]
  },
  {
   "cell_type": "markdown",
   "id": "794e1d6c",
   "metadata": {
    "papermill": {
     "duration": null,
     "end_time": null,
     "exception": null,
     "start_time": null,
     "status": "pending"
    },
    "tags": []
   },
   "source": [
    "**Metrics Evaluation**"
   ]
  },
  {
   "cell_type": "code",
   "execution_count": null,
   "id": "e6db3797",
   "metadata": {
    "execution": {
     "iopub.execute_input": "2023-12-06T14:39:12.371731Z",
     "iopub.status.busy": "2023-12-06T14:39:12.371324Z",
     "iopub.status.idle": "2023-12-06T14:39:12.383628Z",
     "shell.execute_reply": "2023-12-06T14:39:12.382413Z",
     "shell.execute_reply.started": "2023-12-06T14:39:12.371699Z"
    },
    "papermill": {
     "duration": null,
     "end_time": null,
     "exception": null,
     "start_time": null,
     "status": "pending"
    },
    "tags": []
   },
   "outputs": [],
   "source": [
    "# Confusion Matrix\n",
    "confusion2_test = metrics.confusion_matrix(y_pred_final.churn_probability, y_pred_final.test_churn_pred)\n",
    "print(\"Confusion Matrix\\n\",confusion2_test)"
   ]
  },
  {
   "cell_type": "code",
   "execution_count": null,
   "id": "da68a08d",
   "metadata": {
    "execution": {
     "iopub.execute_input": "2023-12-06T14:39:18.051827Z",
     "iopub.status.busy": "2023-12-06T14:39:18.051360Z",
     "iopub.status.idle": "2023-12-06T14:39:18.057807Z",
     "shell.execute_reply": "2023-12-06T14:39:18.056733Z",
     "shell.execute_reply.started": "2023-12-06T14:39:18.051789Z"
    },
    "papermill": {
     "duration": null,
     "end_time": null,
     "exception": null,
     "start_time": null,
     "status": "pending"
    },
    "tags": []
   },
   "outputs": [],
   "source": [
    "# Calculating model validation parameters\n",
    "TP3 = confusion2_test[1,1] # true positive \n",
    "TN3 = confusion2_test[0,0] # true negatives\n",
    "FP3 = confusion2_test[0,1] # false positives\n",
    "FN3 = confusion2_test[1,0] # false negatives"
   ]
  },
  {
   "cell_type": "code",
   "execution_count": null,
   "id": "bc4a8d45",
   "metadata": {
    "execution": {
     "iopub.execute_input": "2023-12-06T14:39:25.317404Z",
     "iopub.status.busy": "2023-12-06T14:39:25.316985Z",
     "iopub.status.idle": "2023-12-06T14:39:25.325282Z",
     "shell.execute_reply": "2023-12-06T14:39:25.324127Z",
     "shell.execute_reply.started": "2023-12-06T14:39:25.317364Z"
    },
    "papermill": {
     "duration": null,
     "end_time": null,
     "exception": null,
     "start_time": null,
     "status": "pending"
    },
    "tags": []
   },
   "outputs": [],
   "source": [
    "# Let's see the sensitivity of our logistic regression model\n",
    "print(\"Sensitivity = \",TP3 / float(TP3+FN3))\n",
    "\n",
    "# Let us calculate specificity\n",
    "print(\"Specificity = \",TN3 / float(TN3+FP3))\n",
    "\n",
    "# Calculate false postive rate - predicting churn when customer does not have churned\n",
    "print(\"False Positive Rate = \",FP3/ float(TN3+FP3))\n",
    "\n",
    "# positive predictive value \n",
    "print (\"Precision = \",TP3 / float(TP3+FP3))\n",
    "\n",
    "# Negative predictive value\n",
    "print (\"True Negative Prediction Rate = \",TN3 / float(TN3+FN3))"
   ]
  },
  {
   "cell_type": "markdown",
   "id": "3d724284",
   "metadata": {
    "papermill": {
     "duration": null,
     "end_time": null,
     "exception": null,
     "start_time": null,
     "status": "pending"
    },
    "tags": []
   },
   "source": [
    "### Explaining the results"
   ]
  },
  {
   "cell_type": "code",
   "execution_count": null,
   "id": "965e2a0a",
   "metadata": {
    "execution": {
     "iopub.execute_input": "2023-12-06T14:39:40.475237Z",
     "iopub.status.busy": "2023-12-06T14:39:40.474783Z",
     "iopub.status.idle": "2023-12-06T14:39:40.484647Z",
     "shell.execute_reply": "2023-12-06T14:39:40.483466Z",
     "shell.execute_reply.started": "2023-12-06T14:39:40.475200Z"
    },
    "papermill": {
     "duration": null,
     "end_time": null,
     "exception": null,
     "start_time": null,
     "status": "pending"
    },
    "tags": []
   },
   "outputs": [],
   "source": [
    "print(\"The accuracy of the predicted model is: \",round(metrics.accuracy_score(y_pred_final.churn_probability, y_pred_final.test_churn_pred),2)*100,\"%\")\n",
    "print(\"The sensitivity of the predicted model is: \",round(TP3 / float(TP3+FN3),2)*100,\"%\")\n",
    "\n",
    "print(\"\\nAs the model created is based on a sentivity model, i.e. the True positive rate is given more importance as the actual and prediction of churn by a customer\\n\") "
   ]
  },
  {
   "cell_type": "code",
   "execution_count": null,
   "id": "dae32259",
   "metadata": {
    "execution": {
     "iopub.execute_input": "2022-08-09T14:29:44.739109Z",
     "iopub.status.busy": "2022-08-09T14:29:44.738298Z",
     "iopub.status.idle": "2022-08-09T14:29:44.963470Z",
     "shell.execute_reply": "2022-08-09T14:29:44.962746Z",
     "shell.execute_reply.started": "2022-08-09T14:29:44.739073Z"
    },
    "papermill": {
     "duration": null,
     "end_time": null,
     "exception": null,
     "start_time": null,
     "status": "pending"
    },
    "tags": []
   },
   "outputs": [],
   "source": [
    "# ROC curve for the test dataset\n",
    "\n",
    "# Defining the variables to plot the curve\n",
    "fpr, tpr, thresholds = metrics.roc_curve(y_pred_final.churn_probability,y_pred_final.Conv_prob, drop_intermediate = False )\n",
    "# Plotting the curve for the obtained metrics\n",
    "draw_roc(y_pred_final.churn_probability,y_pred_final.Conv_prob)"
   ]
  },
  {
   "cell_type": "markdown",
   "id": "749663df",
   "metadata": {
    "papermill": {
     "duration": null,
     "end_time": null,
     "exception": null,
     "start_time": null,
     "status": "pending"
    },
    "tags": []
   },
   "source": [
    "## The AUC score for train dataset is 0.90 and the test dataset is 0.88.\n",
    "# This model can be considered as a good model.**"
   ]
  },
  {
   "cell_type": "markdown",
   "id": "638528de",
   "metadata": {
    "papermill": {
     "duration": null,
     "end_time": null,
     "exception": null,
     "start_time": null,
     "status": "pending"
    },
    "tags": []
   },
   "source": [
    "# PCA"
   ]
  },
  {
   "cell_type": "code",
   "execution_count": null,
   "id": "a9784c2f",
   "metadata": {
    "execution": {
     "iopub.execute_input": "2023-12-06T14:39:47.014689Z",
     "iopub.status.busy": "2023-12-06T14:39:47.014270Z",
     "iopub.status.idle": "2023-12-06T14:39:47.029990Z",
     "shell.execute_reply": "2023-12-06T14:39:47.028545Z",
     "shell.execute_reply.started": "2023-12-06T14:39:47.014656Z"
    },
    "papermill": {
     "duration": null,
     "end_time": null,
     "exception": null,
     "start_time": null,
     "status": "pending"
    },
    "tags": []
   },
   "outputs": [],
   "source": [
    "X_train, X_test, y_train, y_test = train_test_split(X, y, train_size=0.8, test_size=0.2, random_state=10)"
   ]
  },
  {
   "cell_type": "code",
   "execution_count": null,
   "id": "dc3f1620",
   "metadata": {
    "execution": {
     "iopub.execute_input": "2023-12-06T14:39:51.854389Z",
     "iopub.status.busy": "2023-12-06T14:39:51.853967Z",
     "iopub.status.idle": "2023-12-06T14:39:51.862039Z",
     "shell.execute_reply": "2023-12-06T14:39:51.860805Z",
     "shell.execute_reply.started": "2023-12-06T14:39:51.854357Z"
    },
    "papermill": {
     "duration": null,
     "end_time": null,
     "exception": null,
     "start_time": null,
     "status": "pending"
    },
    "tags": []
   },
   "outputs": [],
   "source": [
    "X_train.shape"
   ]
  },
  {
   "cell_type": "code",
   "execution_count": null,
   "id": "b7aa2b70",
   "metadata": {
    "execution": {
     "iopub.execute_input": "2023-12-06T14:39:57.998840Z",
     "iopub.status.busy": "2023-12-06T14:39:57.998414Z",
     "iopub.status.idle": "2023-12-06T14:39:58.005036Z",
     "shell.execute_reply": "2023-12-06T14:39:58.003581Z",
     "shell.execute_reply.started": "2023-12-06T14:39:57.998806Z"
    },
    "papermill": {
     "duration": null,
     "end_time": null,
     "exception": null,
     "start_time": null,
     "status": "pending"
    },
    "tags": []
   },
   "outputs": [],
   "source": [
    "pca = PCA(random_state=42)"
   ]
  },
  {
   "cell_type": "code",
   "execution_count": null,
   "id": "d51b432f",
   "metadata": {
    "execution": {
     "iopub.execute_input": "2023-12-06T14:40:03.153899Z",
     "iopub.status.busy": "2023-12-06T14:40:03.152790Z",
     "iopub.status.idle": "2023-12-06T14:40:03.234775Z",
     "shell.execute_reply": "2023-12-06T14:40:03.233204Z",
     "shell.execute_reply.started": "2023-12-06T14:40:03.153856Z"
    },
    "papermill": {
     "duration": null,
     "end_time": null,
     "exception": null,
     "start_time": null,
     "status": "pending"
    },
    "tags": []
   },
   "outputs": [],
   "source": [
    "pca.fit(X_train)"
   ]
  },
  {
   "cell_type": "code",
   "execution_count": null,
   "id": "d5895ff1",
   "metadata": {
    "execution": {
     "iopub.execute_input": "2023-12-06T14:40:07.376784Z",
     "iopub.status.busy": "2023-12-06T14:40:07.376273Z",
     "iopub.status.idle": "2023-12-06T14:40:07.385871Z",
     "shell.execute_reply": "2023-12-06T14:40:07.384475Z",
     "shell.execute_reply.started": "2023-12-06T14:40:07.376744Z"
    },
    "papermill": {
     "duration": null,
     "end_time": null,
     "exception": null,
     "start_time": null,
     "status": "pending"
    },
    "tags": []
   },
   "outputs": [],
   "source": [
    "pca.components_"
   ]
  },
  {
   "cell_type": "markdown",
   "id": "3548384c",
   "metadata": {
    "papermill": {
     "duration": null,
     "end_time": null,
     "exception": null,
     "start_time": null,
     "status": "pending"
    },
    "tags": []
   },
   "source": [
    "### Analysing the explained variance ratio"
   ]
  },
  {
   "cell_type": "code",
   "execution_count": null,
   "id": "d110bf1d",
   "metadata": {
    "execution": {
     "iopub.execute_input": "2023-12-06T14:40:13.372466Z",
     "iopub.status.busy": "2023-12-06T14:40:13.372052Z",
     "iopub.status.idle": "2023-12-06T14:40:13.381731Z",
     "shell.execute_reply": "2023-12-06T14:40:13.380436Z",
     "shell.execute_reply.started": "2023-12-06T14:40:13.372434Z"
    },
    "papermill": {
     "duration": null,
     "end_time": null,
     "exception": null,
     "start_time": null,
     "status": "pending"
    },
    "tags": []
   },
   "outputs": [],
   "source": [
    "pca.explained_variance_ratio_"
   ]
  },
  {
   "cell_type": "code",
   "execution_count": null,
   "id": "130dd26a",
   "metadata": {
    "execution": {
     "iopub.execute_input": "2023-12-06T14:40:17.837318Z",
     "iopub.status.busy": "2023-12-06T14:40:17.836864Z",
     "iopub.status.idle": "2023-12-06T14:40:17.843394Z",
     "shell.execute_reply": "2023-12-06T14:40:17.841922Z",
     "shell.execute_reply.started": "2023-12-06T14:40:17.837281Z"
    },
    "papermill": {
     "duration": null,
     "end_time": null,
     "exception": null,
     "start_time": null,
     "status": "pending"
    },
    "tags": []
   },
   "outputs": [],
   "source": [
    "var_cumu = np.cumsum(pca.explained_variance_ratio_)"
   ]
  },
  {
   "cell_type": "code",
   "execution_count": null,
   "id": "eec65909",
   "metadata": {
    "execution": {
     "iopub.execute_input": "2023-12-06T14:40:22.595462Z",
     "iopub.status.busy": "2023-12-06T14:40:22.595050Z",
     "iopub.status.idle": "2023-12-06T14:40:22.903636Z",
     "shell.execute_reply": "2023-12-06T14:40:22.902262Z",
     "shell.execute_reply.started": "2023-12-06T14:40:22.595431Z"
    },
    "papermill": {
     "duration": null,
     "end_time": null,
     "exception": null,
     "start_time": null,
     "status": "pending"
    },
    "tags": []
   },
   "outputs": [],
   "source": [
    "fig = plt.figure(figsize=[12,8])\n",
    "plt.vlines(x=15, ymax=1, ymin=0, colors=\"r\", linestyles=\"--\")\n",
    "plt.hlines(y=0.95, xmax=30, xmin=0, colors=\"g\", linestyles=\"--\")\n",
    "plt.plot(var_cumu)\n",
    "plt.ylabel(\"Cumulative variance explained\")\n",
    "plt.show()"
   ]
  },
  {
   "cell_type": "markdown",
   "id": "eff2195f",
   "metadata": {
    "papermill": {
     "duration": null,
     "end_time": null,
     "exception": null,
     "start_time": null,
     "status": "pending"
    },
    "tags": []
   },
   "source": [
    "we can use IncrementalPCA for the best result"
   ]
  },
  {
   "cell_type": "code",
   "execution_count": null,
   "id": "53abcb4b",
   "metadata": {
    "execution": {
     "iopub.execute_input": "2023-12-06T14:40:31.316552Z",
     "iopub.status.busy": "2023-12-06T14:40:31.316122Z",
     "iopub.status.idle": "2023-12-06T14:40:31.322898Z",
     "shell.execute_reply": "2023-12-06T14:40:31.321468Z",
     "shell.execute_reply.started": "2023-12-06T14:40:31.316520Z"
    },
    "papermill": {
     "duration": null,
     "end_time": null,
     "exception": null,
     "start_time": null,
     "status": "pending"
    },
    "tags": []
   },
   "outputs": [],
   "source": [
    "pca_final = IncrementalPCA(n_components=16)"
   ]
  },
  {
   "cell_type": "code",
   "execution_count": null,
   "id": "74773423",
   "metadata": {
    "execution": {
     "iopub.execute_input": "2023-12-06T14:40:35.133903Z",
     "iopub.status.busy": "2023-12-06T14:40:35.133465Z",
     "iopub.status.idle": "2023-12-06T14:40:35.436817Z",
     "shell.execute_reply": "2023-12-06T14:40:35.434833Z",
     "shell.execute_reply.started": "2023-12-06T14:40:35.133867Z"
    },
    "papermill": {
     "duration": null,
     "end_time": null,
     "exception": null,
     "start_time": null,
     "status": "pending"
    },
    "tags": []
   },
   "outputs": [],
   "source": [
    "df_train_pca = pca_final.fit_transform(X_train)"
   ]
  },
  {
   "cell_type": "code",
   "execution_count": null,
   "id": "fd590b55",
   "metadata": {
    "execution": {
     "iopub.execute_input": "2023-12-06T14:40:43.538316Z",
     "iopub.status.busy": "2023-12-06T14:40:43.537858Z",
     "iopub.status.idle": "2023-12-06T14:40:43.546436Z",
     "shell.execute_reply": "2023-12-06T14:40:43.545166Z",
     "shell.execute_reply.started": "2023-12-06T14:40:43.538281Z"
    },
    "papermill": {
     "duration": null,
     "end_time": null,
     "exception": null,
     "start_time": null,
     "status": "pending"
    },
    "tags": []
   },
   "outputs": [],
   "source": [
    "df_train_pca.shape"
   ]
  },
  {
   "cell_type": "code",
   "execution_count": null,
   "id": "ca1134f0",
   "metadata": {
    "execution": {
     "iopub.execute_input": "2023-12-06T14:40:47.117527Z",
     "iopub.status.busy": "2023-12-06T14:40:47.116956Z",
     "iopub.status.idle": "2023-12-06T14:40:47.126173Z",
     "shell.execute_reply": "2023-12-06T14:40:47.124941Z",
     "shell.execute_reply.started": "2023-12-06T14:40:47.117473Z"
    },
    "papermill": {
     "duration": null,
     "end_time": null,
     "exception": null,
     "start_time": null,
     "status": "pending"
    },
    "tags": []
   },
   "outputs": [],
   "source": [
    "corrmat = np.corrcoef(df_train_pca.transpose())"
   ]
  },
  {
   "cell_type": "code",
   "execution_count": null,
   "id": "0abb4d0a",
   "metadata": {
    "execution": {
     "iopub.execute_input": "2023-12-06T14:40:52.375282Z",
     "iopub.status.busy": "2023-12-06T14:40:52.374847Z",
     "iopub.status.idle": "2023-12-06T14:40:52.383705Z",
     "shell.execute_reply": "2023-12-06T14:40:52.382243Z",
     "shell.execute_reply.started": "2023-12-06T14:40:52.375250Z"
    },
    "papermill": {
     "duration": null,
     "end_time": null,
     "exception": null,
     "start_time": null,
     "status": "pending"
    },
    "tags": []
   },
   "outputs": [],
   "source": [
    "corrmat.shape"
   ]
  },
  {
   "cell_type": "code",
   "execution_count": null,
   "id": "c685201a",
   "metadata": {
    "execution": {
     "iopub.execute_input": "2023-12-06T14:40:55.889043Z",
     "iopub.status.busy": "2023-12-06T14:40:55.888522Z",
     "iopub.status.idle": "2023-12-06T14:40:55.912191Z",
     "shell.execute_reply": "2023-12-06T14:40:55.910484Z",
     "shell.execute_reply.started": "2023-12-06T14:40:55.889003Z"
    },
    "papermill": {
     "duration": null,
     "end_time": null,
     "exception": null,
     "start_time": null,
     "status": "pending"
    },
    "tags": []
   },
   "outputs": [],
   "source": [
    "df_test_pca = pca_final.transform(X_test)\n",
    "df_test_pca.shape"
   ]
  },
  {
   "cell_type": "markdown",
   "id": "a57b89cc",
   "metadata": {
    "papermill": {
     "duration": null,
     "end_time": null,
     "exception": null,
     "start_time": null,
     "status": "pending"
    },
    "tags": []
   },
   "source": [
    "## Applying logistic regression on the Principal components"
   ]
  },
  {
   "cell_type": "code",
   "execution_count": null,
   "id": "3f983235",
   "metadata": {
    "execution": {
     "iopub.execute_input": "2023-12-06T14:41:00.727855Z",
     "iopub.status.busy": "2023-12-06T14:41:00.727468Z",
     "iopub.status.idle": "2023-12-06T14:41:00.733971Z",
     "shell.execute_reply": "2023-12-06T14:41:00.732295Z",
     "shell.execute_reply.started": "2023-12-06T14:41:00.727825Z"
    },
    "papermill": {
     "duration": null,
     "end_time": null,
     "exception": null,
     "start_time": null,
     "status": "pending"
    },
    "tags": []
   },
   "outputs": [],
   "source": [
    "learner_pca = LogisticRegression()"
   ]
  },
  {
   "cell_type": "code",
   "execution_count": null,
   "id": "cc0cd94a",
   "metadata": {
    "execution": {
     "iopub.execute_input": "2023-12-06T14:41:05.226243Z",
     "iopub.status.busy": "2023-12-06T14:41:05.225679Z",
     "iopub.status.idle": "2023-12-06T14:41:05.433580Z",
     "shell.execute_reply": "2023-12-06T14:41:05.431963Z",
     "shell.execute_reply.started": "2023-12-06T14:41:05.226189Z"
    },
    "papermill": {
     "duration": null,
     "end_time": null,
     "exception": null,
     "start_time": null,
     "status": "pending"
    },
    "tags": []
   },
   "outputs": [],
   "source": [
    "model_pca = learner_pca.fit(df_train_pca, y_train)"
   ]
  },
  {
   "cell_type": "markdown",
   "id": "b8b6f8d4",
   "metadata": {
    "papermill": {
     "duration": null,
     "end_time": null,
     "exception": null,
     "start_time": null,
     "status": "pending"
    },
    "tags": []
   },
   "source": [
    "## Making predictions on the test set\n"
   ]
  },
  {
   "cell_type": "code",
   "execution_count": null,
   "id": "1fad7b0b",
   "metadata": {
    "execution": {
     "iopub.execute_input": "2023-12-06T14:41:11.352809Z",
     "iopub.status.busy": "2023-12-06T14:41:11.352358Z",
     "iopub.status.idle": "2023-12-06T14:41:11.360659Z",
     "shell.execute_reply": "2023-12-06T14:41:11.358972Z",
     "shell.execute_reply.started": "2023-12-06T14:41:11.352773Z"
    },
    "papermill": {
     "duration": null,
     "end_time": null,
     "exception": null,
     "start_time": null,
     "status": "pending"
    },
    "tags": []
   },
   "outputs": [],
   "source": [
    "pred_probs_test = model_pca.predict_proba(df_test_pca)"
   ]
  },
  {
   "cell_type": "code",
   "execution_count": null,
   "id": "9b31a08b",
   "metadata": {
    "execution": {
     "iopub.execute_input": "2023-12-06T14:41:15.781732Z",
     "iopub.status.busy": "2023-12-06T14:41:15.781274Z",
     "iopub.status.idle": "2023-12-06T14:41:15.794678Z",
     "shell.execute_reply": "2023-12-06T14:41:15.793351Z",
     "shell.execute_reply.started": "2023-12-06T14:41:15.781697Z"
    },
    "papermill": {
     "duration": null,
     "end_time": null,
     "exception": null,
     "start_time": null,
     "status": "pending"
    },
    "tags": []
   },
   "outputs": [],
   "source": [
    "\"{:2.2}\".format(metrics.roc_auc_score(y_test, pred_probs_test[:,1]))"
   ]
  },
  {
   "cell_type": "markdown",
   "id": "f1c6cb45",
   "metadata": {
    "papermill": {
     "duration": null,
     "end_time": null,
     "exception": null,
     "start_time": null,
     "status": "pending"
    },
    "tags": []
   },
   "source": [
    "### Confusion matrix, Sensitivity and Specificity\n"
   ]
  },
  {
   "cell_type": "code",
   "execution_count": null,
   "id": "5e136a18",
   "metadata": {
    "execution": {
     "iopub.execute_input": "2023-12-06T14:41:20.575094Z",
     "iopub.status.busy": "2023-12-06T14:41:20.574683Z",
     "iopub.status.idle": "2023-12-06T14:41:20.586382Z",
     "shell.execute_reply": "2023-12-06T14:41:20.582731Z",
     "shell.execute_reply.started": "2023-12-06T14:41:20.575041Z"
    },
    "papermill": {
     "duration": null,
     "end_time": null,
     "exception": null,
     "start_time": null,
     "status": "pending"
    },
    "tags": []
   },
   "outputs": [],
   "source": [
    "pred_probs_test1 = model_pca.predict(df_test_pca)"
   ]
  },
  {
   "cell_type": "code",
   "execution_count": null,
   "id": "a99ce3f4",
   "metadata": {
    "execution": {
     "iopub.execute_input": "2023-12-06T14:41:24.481647Z",
     "iopub.status.busy": "2023-12-06T14:41:24.481251Z",
     "iopub.status.idle": "2023-12-06T14:41:24.490125Z",
     "shell.execute_reply": "2023-12-06T14:41:24.489225Z",
     "shell.execute_reply.started": "2023-12-06T14:41:24.481617Z"
    },
    "papermill": {
     "duration": null,
     "end_time": null,
     "exception": null,
     "start_time": null,
     "status": "pending"
    },
    "tags": []
   },
   "outputs": [],
   "source": [
    "# Confusion matrix\n",
    "confusion = metrics.confusion_matrix(y_test, pred_probs_test1)\n",
    "print(confusion)"
   ]
  },
  {
   "cell_type": "code",
   "execution_count": null,
   "id": "48b44889",
   "metadata": {
    "execution": {
     "iopub.execute_input": "2023-12-06T14:41:28.726972Z",
     "iopub.status.busy": "2023-12-06T14:41:28.726420Z",
     "iopub.status.idle": "2023-12-06T14:41:28.733412Z",
     "shell.execute_reply": "2023-12-06T14:41:28.732357Z",
     "shell.execute_reply.started": "2023-12-06T14:41:28.726926Z"
    },
    "papermill": {
     "duration": null,
     "end_time": null,
     "exception": null,
     "start_time": null,
     "status": "pending"
    },
    "tags": []
   },
   "outputs": [],
   "source": [
    "TP = confusion[1,1] # true positive \n",
    "TN = confusion[0,0] # true negatives\n",
    "FP = confusion[0,1] # false positives\n",
    "FN = confusion[1,0] # false negatives"
   ]
  },
  {
   "cell_type": "code",
   "execution_count": null,
   "id": "e418d30a",
   "metadata": {
    "execution": {
     "iopub.execute_input": "2023-12-06T14:41:34.315396Z",
     "iopub.status.busy": "2023-12-06T14:41:34.314953Z",
     "iopub.status.idle": "2023-12-06T14:41:34.326119Z",
     "shell.execute_reply": "2023-12-06T14:41:34.324891Z",
     "shell.execute_reply.started": "2023-12-06T14:41:34.315360Z"
    },
    "papermill": {
     "duration": null,
     "end_time": null,
     "exception": null,
     "start_time": null,
     "status": "pending"
    },
    "tags": []
   },
   "outputs": [],
   "source": [
    "# Accuracy\n",
    "print(\"Accuracy:-\",metrics.accuracy_score(y_test, pred_probs_test1))\n",
    "\n",
    "# Sensitivity\n",
    "print(\"Sensitivity:-\",TP / float(TP+FN))\n",
    "\n",
    "# Specificity\n",
    "print(\"Specificity:-\", TN / float(TN+FP))"
   ]
  },
  {
   "cell_type": "markdown",
   "id": "35f545f5",
   "metadata": {
    "papermill": {
     "duration": null,
     "end_time": null,
     "exception": null,
     "start_time": null,
     "status": "pending"
    },
    "tags": []
   },
   "source": [
    "## Making predictions on the train set"
   ]
  },
  {
   "cell_type": "code",
   "execution_count": null,
   "id": "d8f6ba8d",
   "metadata": {
    "execution": {
     "iopub.execute_input": "2023-12-06T14:41:39.325974Z",
     "iopub.status.busy": "2023-12-06T14:41:39.325567Z",
     "iopub.status.idle": "2023-12-06T14:41:39.334836Z",
     "shell.execute_reply": "2023-12-06T14:41:39.333004Z",
     "shell.execute_reply.started": "2023-12-06T14:41:39.325941Z"
    },
    "papermill": {
     "duration": null,
     "end_time": null,
     "exception": null,
     "start_time": null,
     "status": "pending"
    },
    "tags": []
   },
   "outputs": [],
   "source": [
    "pred_probs_train = model_pca.predict_proba(df_train_pca)"
   ]
  },
  {
   "cell_type": "code",
   "execution_count": null,
   "id": "701d8dcd",
   "metadata": {
    "execution": {
     "iopub.execute_input": "2023-12-06T14:41:47.467340Z",
     "iopub.status.busy": "2023-12-06T14:41:47.466904Z",
     "iopub.status.idle": "2023-12-06T14:41:47.487346Z",
     "shell.execute_reply": "2023-12-06T14:41:47.485918Z",
     "shell.execute_reply.started": "2023-12-06T14:41:47.467305Z"
    },
    "papermill": {
     "duration": null,
     "end_time": null,
     "exception": null,
     "start_time": null,
     "status": "pending"
    },
    "tags": []
   },
   "outputs": [],
   "source": [
    "\"{:2.2}\".format(metrics.roc_auc_score(y_train, pred_probs_train[:,1]))"
   ]
  },
  {
   "cell_type": "markdown",
   "id": "54a41c3e",
   "metadata": {
    "papermill": {
     "duration": null,
     "end_time": null,
     "exception": null,
     "start_time": null,
     "status": "pending"
    },
    "tags": []
   },
   "source": [
    "### Confusion matrix, Sensitivity and Specificity\n"
   ]
  },
  {
   "cell_type": "code",
   "execution_count": null,
   "id": "47e97c0f",
   "metadata": {
    "execution": {
     "iopub.execute_input": "2023-12-06T14:42:12.610734Z",
     "iopub.status.busy": "2023-12-06T14:42:12.610299Z",
     "iopub.status.idle": "2023-12-06T14:42:12.620894Z",
     "shell.execute_reply": "2023-12-06T14:42:12.618563Z",
     "shell.execute_reply.started": "2023-12-06T14:42:12.610699Z"
    },
    "papermill": {
     "duration": null,
     "end_time": null,
     "exception": null,
     "start_time": null,
     "status": "pending"
    },
    "tags": []
   },
   "outputs": [],
   "source": [
    "pred_probs_train1 = model_pca.predict(df_train_pca)"
   ]
  },
  {
   "cell_type": "code",
   "execution_count": null,
   "id": "66d333bb",
   "metadata": {
    "execution": {
     "iopub.execute_input": "2023-12-06T14:42:16.834428Z",
     "iopub.status.busy": "2023-12-06T14:42:16.833978Z",
     "iopub.status.idle": "2023-12-06T14:42:16.844587Z",
     "shell.execute_reply": "2023-12-06T14:42:16.843756Z",
     "shell.execute_reply.started": "2023-12-06T14:42:16.834394Z"
    },
    "papermill": {
     "duration": null,
     "end_time": null,
     "exception": null,
     "start_time": null,
     "status": "pending"
    },
    "tags": []
   },
   "outputs": [],
   "source": [
    "# Confusion matrix\n",
    "confusion = metrics.confusion_matrix(y_train, pred_probs_train1)\n",
    "print(confusion)"
   ]
  },
  {
   "cell_type": "code",
   "execution_count": null,
   "id": "acd9bf9a",
   "metadata": {
    "execution": {
     "iopub.execute_input": "2023-12-06T14:42:21.203162Z",
     "iopub.status.busy": "2023-12-06T14:42:21.202728Z",
     "iopub.status.idle": "2023-12-06T14:42:21.209433Z",
     "shell.execute_reply": "2023-12-06T14:42:21.208212Z",
     "shell.execute_reply.started": "2023-12-06T14:42:21.203121Z"
    },
    "papermill": {
     "duration": null,
     "end_time": null,
     "exception": null,
     "start_time": null,
     "status": "pending"
    },
    "tags": []
   },
   "outputs": [],
   "source": [
    "TP = confusion[1,1] # true positive \n",
    "TN = confusion[0,0] # true negatives\n",
    "FP = confusion[0,1] # false positives\n",
    "FN = confusion[1,0] # false negatives"
   ]
  },
  {
   "cell_type": "code",
   "execution_count": null,
   "id": "9a3651f3",
   "metadata": {
    "execution": {
     "iopub.execute_input": "2023-12-06T14:42:26.402174Z",
     "iopub.status.busy": "2023-12-06T14:42:26.401635Z",
     "iopub.status.idle": "2023-12-06T14:42:26.413711Z",
     "shell.execute_reply": "2023-12-06T14:42:26.412289Z",
     "shell.execute_reply.started": "2023-12-06T14:42:26.402135Z"
    },
    "papermill": {
     "duration": null,
     "end_time": null,
     "exception": null,
     "start_time": null,
     "status": "pending"
    },
    "tags": []
   },
   "outputs": [],
   "source": [
    "# Accuracy\n",
    "print(\"Accuracy:-\",metrics.accuracy_score(y_train, pred_probs_train1))\n",
    "\n",
    "# Sensitivity\n",
    "print(\"Sensitivity:-\",TP / float(TP+FN))\n",
    "\n",
    "# Specificity\n",
    "print(\"Specificity:-\", TN / float(TN+FP))"
   ]
  },
  {
   "cell_type": "markdown",
   "id": "e430bb60",
   "metadata": {
    "papermill": {
     "duration": null,
     "end_time": null,
     "exception": null,
     "start_time": null,
     "status": "pending"
    },
    "tags": []
   },
   "source": [
    "## Decision Tree with PCA"
   ]
  },
  {
   "cell_type": "code",
   "execution_count": null,
   "id": "e7dd0bf5",
   "metadata": {
    "execution": {
     "iopub.execute_input": "2023-12-06T14:42:30.951425Z",
     "iopub.status.busy": "2023-12-06T14:42:30.950977Z",
     "iopub.status.idle": "2023-12-06T14:42:30.956845Z",
     "shell.execute_reply": "2023-12-06T14:42:30.955590Z",
     "shell.execute_reply.started": "2023-12-06T14:42:30.951391Z"
    },
    "papermill": {
     "duration": null,
     "end_time": null,
     "exception": null,
     "start_time": null,
     "status": "pending"
    },
    "tags": []
   },
   "outputs": [],
   "source": [
    "from sklearn.tree import DecisionTreeClassifier"
   ]
  },
  {
   "cell_type": "code",
   "execution_count": null,
   "id": "9963f9b8",
   "metadata": {
    "execution": {
     "iopub.execute_input": "2023-12-06T14:42:36.456603Z",
     "iopub.status.busy": "2023-12-06T14:42:36.456197Z",
     "iopub.status.idle": "2023-12-06T14:42:36.461639Z",
     "shell.execute_reply": "2023-12-06T14:42:36.460464Z",
     "shell.execute_reply.started": "2023-12-06T14:42:36.456573Z"
    },
    "papermill": {
     "duration": null,
     "end_time": null,
     "exception": null,
     "start_time": null,
     "status": "pending"
    },
    "tags": []
   },
   "outputs": [],
   "source": [
    "dt = DecisionTreeClassifier(random_state=42)"
   ]
  },
  {
   "cell_type": "code",
   "execution_count": null,
   "id": "c6adf9d4",
   "metadata": {
    "execution": {
     "iopub.execute_input": "2022-08-09T14:29:46.294594Z",
     "iopub.status.busy": "2022-08-09T14:29:46.293613Z",
     "iopub.status.idle": "2022-08-09T14:29:46.301261Z",
     "shell.execute_reply": "2022-08-09T14:29:46.300317Z",
     "shell.execute_reply.started": "2022-08-09T14:29:46.294561Z"
    },
    "papermill": {
     "duration": null,
     "end_time": null,
     "exception": null,
     "start_time": null,
     "status": "pending"
    },
    "tags": []
   },
   "outputs": [],
   "source": [
    "from sklearn.model_selection import GridSearchCV"
   ]
  },
  {
   "cell_type": "code",
   "execution_count": null,
   "id": "3561f3a4",
   "metadata": {
    "execution": {
     "iopub.execute_input": "2023-12-06T14:42:58.506464Z",
     "iopub.status.busy": "2023-12-06T14:42:58.506018Z",
     "iopub.status.idle": "2023-12-06T14:42:58.512361Z",
     "shell.execute_reply": "2023-12-06T14:42:58.511274Z",
     "shell.execute_reply.started": "2023-12-06T14:42:58.506430Z"
    },
    "papermill": {
     "duration": null,
     "end_time": null,
     "exception": null,
     "start_time": null,
     "status": "pending"
    },
    "tags": []
   },
   "outputs": [],
   "source": [
    "params = {\n",
    "    'max_depth': [2, 3, 5, 10, 20],\n",
    "    'min_samples_leaf': [5, 10, 20, 50, 100],\n",
    "    'min_samples_split': [50, 150, 50]\n",
    "}"
   ]
  },
  {
   "cell_type": "code",
   "execution_count": null,
   "id": "5bc8ff96",
   "metadata": {
    "execution": {
     "iopub.execute_input": "2023-12-06T14:43:04.421215Z",
     "iopub.status.busy": "2023-12-06T14:43:04.420749Z",
     "iopub.status.idle": "2023-12-06T14:43:04.428249Z",
     "shell.execute_reply": "2023-12-06T14:43:04.426799Z",
     "shell.execute_reply.started": "2023-12-06T14:43:04.421181Z"
    },
    "papermill": {
     "duration": null,
     "end_time": null,
     "exception": null,
     "start_time": null,
     "status": "pending"
    },
    "tags": []
   },
   "outputs": [],
   "source": [
    "# Instantiate the grid search model\n",
    "grid_search = GridSearchCV(estimator=dt, \n",
    "                           param_grid=params, \n",
    "                           cv=4, n_jobs=-1, verbose=1, scoring = \"accuracy\")"
   ]
  },
  {
   "cell_type": "code",
   "execution_count": null,
   "id": "d9d81cf8",
   "metadata": {
    "execution": {
     "iopub.execute_input": "2023-12-06T14:43:10.481504Z",
     "iopub.status.busy": "2023-12-06T14:43:10.481111Z",
     "iopub.status.idle": "2023-12-06T14:43:32.596472Z",
     "shell.execute_reply": "2023-12-06T14:43:32.595088Z",
     "shell.execute_reply.started": "2023-12-06T14:43:10.481469Z"
    },
    "papermill": {
     "duration": null,
     "end_time": null,
     "exception": null,
     "start_time": null,
     "status": "pending"
    },
    "tags": []
   },
   "outputs": [],
   "source": [
    "grid_search.fit(df_train_pca, y_train)"
   ]
  },
  {
   "cell_type": "code",
   "execution_count": null,
   "id": "0163ff56",
   "metadata": {
    "execution": {
     "iopub.execute_input": "2023-12-06T14:43:41.195902Z",
     "iopub.status.busy": "2023-12-06T14:43:41.195427Z",
     "iopub.status.idle": "2023-12-06T14:43:41.225402Z",
     "shell.execute_reply": "2023-12-06T14:43:41.224037Z",
     "shell.execute_reply.started": "2023-12-06T14:43:41.195859Z"
    },
    "papermill": {
     "duration": null,
     "end_time": null,
     "exception": null,
     "start_time": null,
     "status": "pending"
    },
    "tags": []
   },
   "outputs": [],
   "source": [
    "score_df = pd.DataFrame(grid_search.cv_results_)\n",
    "score_df.head()"
   ]
  },
  {
   "cell_type": "code",
   "execution_count": null,
   "id": "ed1c2d48",
   "metadata": {
    "execution": {
     "iopub.execute_input": "2023-12-06T14:43:47.861417Z",
     "iopub.status.busy": "2023-12-06T14:43:47.860777Z",
     "iopub.status.idle": "2023-12-06T14:43:47.893724Z",
     "shell.execute_reply": "2023-12-06T14:43:47.892496Z",
     "shell.execute_reply.started": "2023-12-06T14:43:47.861359Z"
    },
    "papermill": {
     "duration": null,
     "end_time": null,
     "exception": null,
     "start_time": null,
     "status": "pending"
    },
    "tags": []
   },
   "outputs": [],
   "source": [
    "score_df.nlargest(5,\"mean_test_score\")"
   ]
  },
  {
   "cell_type": "code",
   "execution_count": null,
   "id": "4661eca7",
   "metadata": {
    "execution": {
     "iopub.execute_input": "2023-12-06T14:44:04.371809Z",
     "iopub.status.busy": "2023-12-06T14:44:04.371412Z",
     "iopub.status.idle": "2023-12-06T14:44:04.381459Z",
     "shell.execute_reply": "2023-12-06T14:44:04.380280Z",
     "shell.execute_reply.started": "2023-12-06T14:44:04.371779Z"
    },
    "papermill": {
     "duration": null,
     "end_time": null,
     "exception": null,
     "start_time": null,
     "status": "pending"
    },
    "tags": []
   },
   "outputs": [],
   "source": [
    "grid_search.best_estimator_"
   ]
  },
  {
   "cell_type": "code",
   "execution_count": null,
   "id": "d8941d83",
   "metadata": {
    "execution": {
     "iopub.execute_input": "2023-12-06T14:44:11.119298Z",
     "iopub.status.busy": "2023-12-06T14:44:11.118854Z",
     "iopub.status.idle": "2023-12-06T14:44:11.125430Z",
     "shell.execute_reply": "2023-12-06T14:44:11.124016Z",
     "shell.execute_reply.started": "2023-12-06T14:44:11.119266Z"
    },
    "papermill": {
     "duration": null,
     "end_time": null,
     "exception": null,
     "start_time": null,
     "status": "pending"
    },
    "tags": []
   },
   "outputs": [],
   "source": [
    "dt_best = DecisionTreeClassifier( random_state = 42,\n",
    "                                  max_depth=10, \n",
    "                                  min_samples_leaf=20,\n",
    "                                  min_samples_split=50)"
   ]
  },
  {
   "cell_type": "code",
   "execution_count": null,
   "id": "e072bbce",
   "metadata": {
    "execution": {
     "iopub.execute_input": "2023-12-06T14:44:15.961284Z",
     "iopub.status.busy": "2023-12-06T14:44:15.960862Z",
     "iopub.status.idle": "2023-12-06T14:44:16.319298Z",
     "shell.execute_reply": "2023-12-06T14:44:16.318144Z",
     "shell.execute_reply.started": "2023-12-06T14:44:15.961255Z"
    },
    "papermill": {
     "duration": null,
     "end_time": null,
     "exception": null,
     "start_time": null,
     "status": "pending"
    },
    "tags": []
   },
   "outputs": [],
   "source": [
    "dt_best.fit(df_train_pca, y_train)"
   ]
  },
  {
   "cell_type": "code",
   "execution_count": null,
   "id": "3734eb54",
   "metadata": {
    "execution": {
     "iopub.execute_input": "2023-12-06T14:44:41.100922Z",
     "iopub.status.busy": "2023-12-06T14:44:41.100481Z",
     "iopub.status.idle": "2023-12-06T14:44:41.106608Z",
     "shell.execute_reply": "2023-12-06T14:44:41.105351Z",
     "shell.execute_reply.started": "2023-12-06T14:44:41.100887Z"
    },
    "papermill": {
     "duration": null,
     "end_time": null,
     "exception": null,
     "start_time": null,
     "status": "pending"
    },
    "tags": []
   },
   "outputs": [],
   "source": [
    "from sklearn.metrics import confusion_matrix, accuracy_score"
   ]
  },
  {
   "cell_type": "code",
   "execution_count": null,
   "id": "0919871c",
   "metadata": {
    "execution": {
     "iopub.execute_input": "2023-12-06T14:44:47.552145Z",
     "iopub.status.busy": "2023-12-06T14:44:47.550821Z",
     "iopub.status.idle": "2023-12-06T14:44:47.561017Z",
     "shell.execute_reply": "2023-12-06T14:44:47.559176Z",
     "shell.execute_reply.started": "2023-12-06T14:44:47.552094Z"
    },
    "papermill": {
     "duration": null,
     "end_time": null,
     "exception": null,
     "start_time": null,
     "status": "pending"
    },
    "tags": []
   },
   "outputs": [],
   "source": [
    "def evaluate_model(dt_classifier):\n",
    "    print(\"Train Accuracy :\", accuracy_score(y_train, dt_classifier.predict(df_train_pca)))\n",
    "    print(\"Train Confusion Matrix:\")\n",
    "    print(confusion_matrix(y_train, dt_classifier.predict(df_train_pca)))\n",
    "    print(\"-\"*50)\n",
    "    print(\"Test Accuracy :\", accuracy_score(y_test, dt_classifier.predict(df_test_pca)))\n",
    "    print(\"Test Confusion Matrix:\")\n",
    "    print(confusion_matrix(y_test, dt_classifier.predict(df_test_pca)))"
   ]
  },
  {
   "cell_type": "code",
   "execution_count": null,
   "id": "00b510eb",
   "metadata": {
    "execution": {
     "iopub.execute_input": "2023-12-06T14:44:52.575585Z",
     "iopub.status.busy": "2023-12-06T14:44:52.575186Z",
     "iopub.status.idle": "2023-12-06T14:44:52.597498Z",
     "shell.execute_reply": "2023-12-06T14:44:52.596366Z",
     "shell.execute_reply.started": "2023-12-06T14:44:52.575554Z"
    },
    "papermill": {
     "duration": null,
     "end_time": null,
     "exception": null,
     "start_time": null,
     "status": "pending"
    },
    "tags": []
   },
   "outputs": [],
   "source": [
    "evaluate_model(dt_best)"
   ]
  },
  {
   "cell_type": "markdown",
   "id": "3d5d6b62",
   "metadata": {
    "papermill": {
     "duration": null,
     "end_time": null,
     "exception": null,
     "start_time": null,
     "status": "pending"
    },
    "tags": []
   },
   "source": [
    "##  Random Forest with PCA"
   ]
  },
  {
   "cell_type": "code",
   "execution_count": null,
   "id": "95b288db",
   "metadata": {
    "execution": {
     "iopub.execute_input": "2023-12-06T14:45:01.342017Z",
     "iopub.status.busy": "2023-12-06T14:45:01.341573Z",
     "iopub.status.idle": "2023-12-06T14:45:01.348407Z",
     "shell.execute_reply": "2023-12-06T14:45:01.346971Z",
     "shell.execute_reply.started": "2023-12-06T14:45:01.341971Z"
    },
    "papermill": {
     "duration": null,
     "end_time": null,
     "exception": null,
     "start_time": null,
     "status": "pending"
    },
    "tags": []
   },
   "outputs": [],
   "source": [
    "from sklearn.ensemble import RandomForestClassifier"
   ]
  },
  {
   "cell_type": "code",
   "execution_count": null,
   "id": "b03c9d38",
   "metadata": {
    "execution": {
     "iopub.execute_input": "2023-12-06T14:45:07.159463Z",
     "iopub.status.busy": "2023-12-06T14:45:07.159024Z",
     "iopub.status.idle": "2023-12-06T14:45:07.166669Z",
     "shell.execute_reply": "2023-12-06T14:45:07.164969Z",
     "shell.execute_reply.started": "2023-12-06T14:45:07.159431Z"
    },
    "papermill": {
     "duration": null,
     "end_time": null,
     "exception": null,
     "start_time": null,
     "status": "pending"
    },
    "tags": []
   },
   "outputs": [],
   "source": [
    "max_features = int(round(np.sqrt(X_train.shape[1])))    # number of variables to consider to split each node\n",
    "print(max_features)"
   ]
  },
  {
   "cell_type": "code",
   "execution_count": null,
   "id": "25a0ff62",
   "metadata": {
    "execution": {
     "iopub.execute_input": "2023-12-06T14:45:11.095396Z",
     "iopub.status.busy": "2023-12-06T14:45:11.094969Z",
     "iopub.status.idle": "2023-12-06T14:45:11.101955Z",
     "shell.execute_reply": "2023-12-06T14:45:11.100533Z",
     "shell.execute_reply.started": "2023-12-06T14:45:11.095364Z"
    },
    "papermill": {
     "duration": null,
     "end_time": null,
     "exception": null,
     "start_time": null,
     "status": "pending"
    },
    "tags": []
   },
   "outputs": [],
   "source": [
    "rf = RandomForestClassifier(n_estimators=100, max_depth=4, max_features=7, random_state=100, oob_score=True, verbose=1)"
   ]
  },
  {
   "cell_type": "code",
   "execution_count": null,
   "id": "bfcff527",
   "metadata": {
    "execution": {
     "iopub.execute_input": "2023-12-06T14:45:17.521558Z",
     "iopub.status.busy": "2023-12-06T14:45:17.520984Z",
     "iopub.status.idle": "2023-12-06T14:45:22.796750Z",
     "shell.execute_reply": "2023-12-06T14:45:22.795579Z",
     "shell.execute_reply.started": "2023-12-06T14:45:17.521516Z"
    },
    "papermill": {
     "duration": null,
     "end_time": null,
     "exception": null,
     "start_time": null,
     "status": "pending"
    },
    "tags": []
   },
   "outputs": [],
   "source": [
    "rf.fit(df_train_pca, y_train)"
   ]
  },
  {
   "cell_type": "code",
   "execution_count": null,
   "id": "2a6128b6",
   "metadata": {
    "execution": {
     "iopub.execute_input": "2023-12-06T14:45:26.464359Z",
     "iopub.status.busy": "2023-12-06T14:45:26.463810Z",
     "iopub.status.idle": "2023-12-06T14:45:26.473795Z",
     "shell.execute_reply": "2023-12-06T14:45:26.472520Z",
     "shell.execute_reply.started": "2023-12-06T14:45:26.464310Z"
    },
    "papermill": {
     "duration": null,
     "end_time": null,
     "exception": null,
     "start_time": null,
     "status": "pending"
    },
    "tags": []
   },
   "outputs": [],
   "source": [
    "rf.oob_score_"
   ]
  },
  {
   "cell_type": "code",
   "execution_count": null,
   "id": "66f71868",
   "metadata": {
    "execution": {
     "iopub.execute_input": "2023-12-06T14:50:53.439248Z",
     "iopub.status.busy": "2023-12-06T14:50:53.438755Z",
     "iopub.status.idle": "2023-12-06T14:50:53.444495Z",
     "shell.execute_reply": "2023-12-06T14:50:53.443472Z",
     "shell.execute_reply.started": "2023-12-06T14:50:53.439210Z"
    },
    "papermill": {
     "duration": null,
     "end_time": null,
     "exception": null,
     "start_time": null,
     "status": "pending"
    },
    "tags": []
   },
   "outputs": [],
   "source": [
    "#from sklearn.metrics import plot_roc_curve\n",
    "from sklearn.metrics import RocCurveDisplay"
   ]
  },
  {
   "cell_type": "code",
   "execution_count": null,
   "id": "79f00cd7",
   "metadata": {
    "execution": {
     "iopub.execute_input": "2023-12-06T14:50:56.201700Z",
     "iopub.status.busy": "2023-12-06T14:50:56.201321Z",
     "iopub.status.idle": "2023-12-06T14:50:56.613385Z",
     "shell.execute_reply": "2023-12-06T14:50:56.612028Z",
     "shell.execute_reply.started": "2023-12-06T14:50:56.201671Z"
    },
    "papermill": {
     "duration": null,
     "end_time": null,
     "exception": null,
     "start_time": null,
     "status": "pending"
    },
    "tags": []
   },
   "outputs": [],
   "source": [
    "#plot_roc_curve(rf, df_train_pca, y_train)\n",
    "RocCurveDisplay.from_estimator(rf, df_train_pca, y_train)\n",
    "plt.show()"
   ]
  },
  {
   "cell_type": "markdown",
   "id": "684342e2",
   "metadata": {
    "papermill": {
     "duration": null,
     "end_time": null,
     "exception": null,
     "start_time": null,
     "status": "pending"
    },
    "tags": []
   },
   "source": [
    "### Hyper-parameter tuning for the Random Forest"
   ]
  },
  {
   "cell_type": "code",
   "execution_count": null,
   "id": "0bd1d03f",
   "metadata": {
    "execution": {
     "iopub.execute_input": "2023-12-06T14:51:02.539937Z",
     "iopub.status.busy": "2023-12-06T14:51:02.539498Z",
     "iopub.status.idle": "2023-12-06T14:51:02.545353Z",
     "shell.execute_reply": "2023-12-06T14:51:02.544362Z",
     "shell.execute_reply.started": "2023-12-06T14:51:02.539901Z"
    },
    "papermill": {
     "duration": null,
     "end_time": null,
     "exception": null,
     "start_time": null,
     "status": "pending"
    },
    "tags": []
   },
   "outputs": [],
   "source": [
    "rf = RandomForestClassifier(random_state=42, n_jobs=-1)"
   ]
  },
  {
   "cell_type": "code",
   "execution_count": null,
   "id": "46f7a4e3",
   "metadata": {
    "execution": {
     "iopub.execute_input": "2023-12-06T14:51:07.738848Z",
     "iopub.status.busy": "2023-12-06T14:51:07.738444Z",
     "iopub.status.idle": "2023-12-06T14:51:07.744994Z",
     "shell.execute_reply": "2023-12-06T14:51:07.743900Z",
     "shell.execute_reply.started": "2023-12-06T14:51:07.738815Z"
    },
    "papermill": {
     "duration": null,
     "end_time": null,
     "exception": null,
     "start_time": null,
     "status": "pending"
    },
    "tags": []
   },
   "outputs": [],
   "source": [
    "params = {\n",
    "    'max_depth': [2,3,5],\n",
    "    'min_samples_leaf': [50,100],\n",
    "    'min_samples_split': [ 100, 150, ],\n",
    "    'n_estimators': [100, 200 ]\n",
    "}"
   ]
  },
  {
   "cell_type": "code",
   "execution_count": null,
   "id": "63ca9789",
   "metadata": {
    "execution": {
     "iopub.execute_input": "2023-12-06T14:51:13.120154Z",
     "iopub.status.busy": "2023-12-06T14:51:13.119354Z",
     "iopub.status.idle": "2023-12-06T14:51:13.126109Z",
     "shell.execute_reply": "2023-12-06T14:51:13.124649Z",
     "shell.execute_reply.started": "2023-12-06T14:51:13.120111Z"
    },
    "papermill": {
     "duration": null,
     "end_time": null,
     "exception": null,
     "start_time": null,
     "status": "pending"
    },
    "tags": []
   },
   "outputs": [],
   "source": [
    "grid_search = GridSearchCV(estimator=rf,\n",
    "                           param_grid=params,\n",
    "                           cv = 4,\n",
    "                           n_jobs=-1, verbose=1, scoring=\"accuracy\")"
   ]
  },
  {
   "cell_type": "code",
   "execution_count": null,
   "id": "8c5cd61e",
   "metadata": {
    "execution": {
     "iopub.execute_input": "2023-12-06T14:51:16.276883Z",
     "iopub.status.busy": "2023-12-06T14:51:16.276429Z",
     "iopub.status.idle": "2023-12-06T14:53:13.068885Z",
     "shell.execute_reply": "2023-12-06T14:53:13.067333Z",
     "shell.execute_reply.started": "2023-12-06T14:51:16.276851Z"
    },
    "papermill": {
     "duration": null,
     "end_time": null,
     "exception": null,
     "start_time": null,
     "status": "pending"
    },
    "tags": []
   },
   "outputs": [],
   "source": [
    "grid_search.fit(df_train_pca, y_train)"
   ]
  },
  {
   "cell_type": "code",
   "execution_count": null,
   "id": "0a1e9d56",
   "metadata": {
    "execution": {
     "iopub.execute_input": "2023-12-06T14:57:13.084086Z",
     "iopub.status.busy": "2023-12-06T14:57:13.083517Z",
     "iopub.status.idle": "2023-12-06T14:57:13.094967Z",
     "shell.execute_reply": "2023-12-06T14:57:13.093475Z",
     "shell.execute_reply.started": "2023-12-06T14:57:13.084020Z"
    },
    "papermill": {
     "duration": null,
     "end_time": null,
     "exception": null,
     "start_time": null,
     "status": "pending"
    },
    "tags": []
   },
   "outputs": [],
   "source": [
    "grid_search.best_score_ "
   ]
  },
  {
   "cell_type": "code",
   "execution_count": null,
   "id": "6954069d",
   "metadata": {
    "execution": {
     "iopub.execute_input": "2023-12-06T14:57:18.125164Z",
     "iopub.status.busy": "2023-12-06T14:57:18.124634Z",
     "iopub.status.idle": "2023-12-06T14:57:18.133912Z",
     "shell.execute_reply": "2023-12-06T14:57:18.132582Z",
     "shell.execute_reply.started": "2023-12-06T14:57:18.125122Z"
    },
    "papermill": {
     "duration": null,
     "end_time": null,
     "exception": null,
     "start_time": null,
     "status": "pending"
    },
    "tags": []
   },
   "outputs": [],
   "source": [
    "grid_search.best_params_"
   ]
  },
  {
   "cell_type": "code",
   "execution_count": null,
   "id": "74e31f49",
   "metadata": {
    "execution": {
     "iopub.execute_input": "2023-12-06T14:57:22.319953Z",
     "iopub.status.busy": "2023-12-06T14:57:22.319414Z",
     "iopub.status.idle": "2023-12-06T14:57:22.327002Z",
     "shell.execute_reply": "2023-12-06T14:57:22.325728Z",
     "shell.execute_reply.started": "2023-12-06T14:57:22.319919Z"
    },
    "papermill": {
     "duration": null,
     "end_time": null,
     "exception": null,
     "start_time": null,
     "status": "pending"
    },
    "tags": []
   },
   "outputs": [],
   "source": [
    "rfc_model = RandomForestClassifier(bootstrap=True,\n",
    "                             max_depth=5,\n",
    "                             min_samples_leaf=50, \n",
    "                             min_samples_split=100,\n",
    "                             n_estimators=200)"
   ]
  },
  {
   "cell_type": "code",
   "execution_count": null,
   "id": "2e915df4",
   "metadata": {
    "execution": {
     "iopub.execute_input": "2023-12-06T14:57:29.108807Z",
     "iopub.status.busy": "2023-12-06T14:57:29.108262Z",
     "iopub.status.idle": "2023-12-06T14:57:36.479903Z",
     "shell.execute_reply": "2023-12-06T14:57:36.478521Z",
     "shell.execute_reply.started": "2023-12-06T14:57:29.108765Z"
    },
    "papermill": {
     "duration": null,
     "end_time": null,
     "exception": null,
     "start_time": null,
     "status": "pending"
    },
    "tags": []
   },
   "outputs": [],
   "source": [
    "rfc_model.fit(df_train_pca, y_train)"
   ]
  },
  {
   "cell_type": "code",
   "execution_count": null,
   "id": "b94dd3bb",
   "metadata": {
    "execution": {
     "iopub.execute_input": "2023-12-06T14:58:05.311817Z",
     "iopub.status.busy": "2023-12-06T14:58:05.311293Z",
     "iopub.status.idle": "2023-12-06T14:58:06.099495Z",
     "shell.execute_reply": "2023-12-06T14:58:06.098308Z",
     "shell.execute_reply.started": "2023-12-06T14:58:05.311771Z"
    },
    "papermill": {
     "duration": null,
     "end_time": null,
     "exception": null,
     "start_time": null,
     "status": "pending"
    },
    "tags": []
   },
   "outputs": [],
   "source": [
    "evaluate_model(rfc_model)"
   ]
  },
  {
   "cell_type": "code",
   "execution_count": null,
   "id": "542ceb51",
   "metadata": {
    "execution": {
     "iopub.execute_input": "2023-12-06T14:58:10.796246Z",
     "iopub.status.busy": "2023-12-06T14:58:10.795683Z",
     "iopub.status.idle": "2023-12-06T14:58:10.824929Z",
     "shell.execute_reply": "2023-12-06T14:58:10.823714Z",
     "shell.execute_reply.started": "2023-12-06T14:58:10.796201Z"
    },
    "papermill": {
     "duration": null,
     "end_time": null,
     "exception": null,
     "start_time": null,
     "status": "pending"
    },
    "tags": []
   },
   "outputs": [],
   "source": [
    "rfc_model.feature_importances_"
   ]
  },
  {
   "cell_type": "markdown",
   "id": "29020286",
   "metadata": {
    "papermill": {
     "duration": null,
     "end_time": null,
     "exception": null,
     "start_time": null,
     "status": "pending"
    },
    "tags": []
   },
   "source": [
    "## Note:\n",
    "\n",
    "Note that the best parameters procuded the accuracy of 91% which is not significantly deterred than the accuracy of original random forest, which is pegged around 92%\n",
    "\n",
    "## Conclusion :\n",
    "\n",
    "The best model to predict the churn is observed to be Random Forest based on the accuracy as performance measure.\n",
    "\n",
    "\n",
    "The incoming calls (with local same operator mobile/other operator mobile/fixed lines, STD or Special) plays a vital role in understanding the possibility of churn. Hence, the operator should focus on incoming calls data and has to provide some kind of special offers to the customers whose incoming calls turning lower.\n",
    "\n",
    "## Details:\n",
    "\n",
    " After cleaning the data, we broadly employed three models as mentioned below including some variations within these models in order to arrive at the best model in each of the cases.\n",
    "\n",
    "### Logistic Regression  :\n",
    "\n",
    "Logistic Regression with RFE Logistic regression with PCA Random Forest For each of these models, the summary of performance measures are as follows:\n",
    "\n",
    "#### Logistic Regression\n",
    "\n",
    ".  Train Accuracy : ~90%\n",
    ". Test Accuracy : ~88%\n",
    "\n",
    "#### Logistic regression with PCA\n",
    "\n",
    ". Train Accuracy : ~92%\n",
    ". Test Accuracy : ~92%\n",
    "\n",
    "#### Decision Tree with PCA:\n",
    "\n",
    ". Train Accuracy : ~94%\n",
    ". Test Accuracy : ~93%\n",
    "\n",
    "\n",
    "#### Random Forest with PCA:\n",
    ". Train Accuracy :~ 92%\n",
    ". Test Accuracy :~ 92%"
   ]
  },
  {
   "cell_type": "code",
   "execution_count": null,
   "id": "fb9e0ca1",
   "metadata": {
    "execution": {
     "iopub.execute_input": "2023-12-06T14:58:53.221366Z",
     "iopub.status.busy": "2023-12-06T14:58:53.220542Z",
     "iopub.status.idle": "2023-12-06T14:58:54.168048Z",
     "shell.execute_reply": "2023-12-06T14:58:54.166501Z",
     "shell.execute_reply.started": "2023-12-06T14:58:53.221328Z"
    },
    "papermill": {
     "duration": null,
     "end_time": null,
     "exception": null,
     "start_time": null,
     "status": "pending"
    },
    "tags": []
   },
   "outputs": [],
   "source": [
    "churn_test = pd.read_csv(\"../input/telecom-churn-case-study-hackathon-c54/test.csv\")"
   ]
  },
  {
   "cell_type": "code",
   "execution_count": null,
   "id": "a20a7fa9",
   "metadata": {
    "execution": {
     "iopub.execute_input": "2023-12-06T14:58:58.579101Z",
     "iopub.status.busy": "2023-12-06T14:58:58.578571Z",
     "iopub.status.idle": "2023-12-06T14:58:58.748616Z",
     "shell.execute_reply": "2023-12-06T14:58:58.747358Z",
     "shell.execute_reply.started": "2023-12-06T14:58:58.579040Z"
    },
    "papermill": {
     "duration": null,
     "end_time": null,
     "exception": null,
     "start_time": null,
     "status": "pending"
    },
    "tags": []
   },
   "outputs": [],
   "source": [
    "churn_test.head()"
   ]
  },
  {
   "cell_type": "code",
   "execution_count": null,
   "id": "d2277a0d",
   "metadata": {
    "execution": {
     "iopub.execute_input": "2023-12-06T14:59:03.320814Z",
     "iopub.status.busy": "2023-12-06T14:59:03.320203Z",
     "iopub.status.idle": "2023-12-06T14:59:03.330629Z",
     "shell.execute_reply": "2023-12-06T14:59:03.329157Z",
     "shell.execute_reply.started": "2023-12-06T14:59:03.320770Z"
    },
    "papermill": {
     "duration": null,
     "end_time": null,
     "exception": null,
     "start_time": null,
     "status": "pending"
    },
    "tags": []
   },
   "outputs": [],
   "source": [
    "churn_test.shape"
   ]
  },
  {
   "cell_type": "code",
   "execution_count": null,
   "id": "0390acc6",
   "metadata": {
    "execution": {
     "iopub.execute_input": "2023-12-06T14:59:06.665715Z",
     "iopub.status.busy": "2023-12-06T14:59:06.664943Z",
     "iopub.status.idle": "2023-12-06T14:59:06.712107Z",
     "shell.execute_reply": "2023-12-06T14:59:06.710772Z",
     "shell.execute_reply.started": "2023-12-06T14:59:06.665668Z"
    },
    "papermill": {
     "duration": null,
     "end_time": null,
     "exception": null,
     "start_time": null,
     "status": "pending"
    },
    "tags": []
   },
   "outputs": [],
   "source": [
    "churn_test.isnull().sum()"
   ]
  },
  {
   "cell_type": "code",
   "execution_count": null,
   "id": "a90eddec",
   "metadata": {
    "execution": {
     "iopub.execute_input": "2023-12-06T15:00:06.601558Z",
     "iopub.status.busy": "2023-12-06T15:00:06.600881Z",
     "iopub.status.idle": "2023-12-06T15:00:06.608879Z",
     "shell.execute_reply": "2023-12-06T15:00:06.607316Z",
     "shell.execute_reply.started": "2023-12-06T15:00:06.601502Z"
    },
    "papermill": {
     "duration": null,
     "end_time": null,
     "exception": null,
     "start_time": null,
     "status": "pending"
    },
    "tags": []
   },
   "outputs": [],
   "source": [
    "churn_id = churn_test['id']"
   ]
  },
  {
   "cell_type": "code",
   "execution_count": null,
   "id": "88633199",
   "metadata": {
    "execution": {
     "iopub.execute_input": "2023-12-06T15:00:30.631099Z",
     "iopub.status.busy": "2023-12-06T15:00:30.630560Z",
     "iopub.status.idle": "2023-12-06T15:00:30.785444Z",
     "shell.execute_reply": "2023-12-06T15:00:30.783778Z",
     "shell.execute_reply.started": "2023-12-06T15:00:30.631040Z"
    },
    "papermill": {
     "duration": null,
     "end_time": null,
     "exception": null,
     "start_time": null,
     "status": "pending"
    },
    "tags": []
   },
   "outputs": [],
   "source": [
    "churn_test['tenure'] = (churn_test['aon']/30).round(0)\n",
    "churn_test[\"avg_arpu_6_7\"]= (churn_test['arpu_6']+churn_test['arpu_7'])/2\n",
    "\n",
    "churn_test = churn_test[X.columns]"
   ]
  },
  {
   "cell_type": "code",
   "execution_count": null,
   "id": "4f4528cd",
   "metadata": {
    "execution": {
     "iopub.execute_input": "2023-12-06T15:00:42.709920Z",
     "iopub.status.busy": "2023-12-06T15:00:42.709405Z",
     "iopub.status.idle": "2023-12-06T15:00:42.718571Z",
     "shell.execute_reply": "2023-12-06T15:00:42.717147Z",
     "shell.execute_reply.started": "2023-12-06T15:00:42.709874Z"
    },
    "papermill": {
     "duration": null,
     "end_time": null,
     "exception": null,
     "start_time": null,
     "status": "pending"
    },
    "tags": []
   },
   "outputs": [],
   "source": [
    "churn_test.shape"
   ]
  },
  {
   "cell_type": "code",
   "execution_count": null,
   "id": "16ee9d65",
   "metadata": {
    "execution": {
     "iopub.execute_input": "2023-12-06T15:00:46.474257Z",
     "iopub.status.busy": "2023-12-06T15:00:46.473662Z",
     "iopub.status.idle": "2023-12-06T15:00:46.488351Z",
     "shell.execute_reply": "2023-12-06T15:00:46.486991Z",
     "shell.execute_reply.started": "2023-12-06T15:00:46.474215Z"
    },
    "papermill": {
     "duration": null,
     "end_time": null,
     "exception": null,
     "start_time": null,
     "status": "pending"
    },
    "tags": []
   },
   "outputs": [],
   "source": [
    "churn_test_null = churn_test.isnull().sum().sum() / np.product(churn_test.shape) * 100\n",
    "churn_test_null"
   ]
  },
  {
   "cell_type": "code",
   "execution_count": null,
   "id": "a1a7a3f4",
   "metadata": {
    "execution": {
     "iopub.execute_input": "2023-12-06T15:00:50.400649Z",
     "iopub.status.busy": "2023-12-06T15:00:50.400117Z",
     "iopub.status.idle": "2023-12-06T15:00:50.427428Z",
     "shell.execute_reply": "2023-12-06T15:00:50.425959Z",
     "shell.execute_reply.started": "2023-12-06T15:00:50.400610Z"
    },
    "papermill": {
     "duration": null,
     "end_time": null,
     "exception": null,
     "start_time": null,
     "status": "pending"
    },
    "tags": []
   },
   "outputs": [],
   "source": [
    "for col in churn_test.columns:\n",
    "    null_col = churn_test[col].isnull().sum() / churn_test.shape[0] * 100\n",
    "    print(\"{} : {:.2f}\".format(col,null_col))"
   ]
  },
  {
   "cell_type": "code",
   "execution_count": null,
   "id": "15287df6",
   "metadata": {
    "execution": {
     "iopub.execute_input": "2023-12-06T15:01:31.965245Z",
     "iopub.status.busy": "2023-12-06T15:01:31.964621Z",
     "iopub.status.idle": "2023-12-06T15:01:31.994829Z",
     "shell.execute_reply": "2023-12-06T15:01:31.993605Z",
     "shell.execute_reply.started": "2023-12-06T15:01:31.965183Z"
    },
    "papermill": {
     "duration": null,
     "end_time": null,
     "exception": null,
     "start_time": null,
     "status": "pending"
    },
    "tags": []
   },
   "outputs": [],
   "source": [
    "for col in churn_test.columns:\n",
    "    null_col = churn_test[col].isnull().sum() / churn_test.shape[0] * 100\n",
    "    if null_col > 0:\n",
    "        churn_test[col] = churn_test[col].fillna(churn_test[col].mode()[0])"
   ]
  },
  {
   "cell_type": "code",
   "execution_count": null,
   "id": "199acf81",
   "metadata": {
    "execution": {
     "iopub.execute_input": "2023-12-06T15:01:49.141582Z",
     "iopub.status.busy": "2023-12-06T15:01:49.141177Z",
     "iopub.status.idle": "2023-12-06T15:01:49.160036Z",
     "shell.execute_reply": "2023-12-06T15:01:49.159165Z",
     "shell.execute_reply.started": "2023-12-06T15:01:49.141551Z"
    },
    "papermill": {
     "duration": null,
     "end_time": null,
     "exception": null,
     "start_time": null,
     "status": "pending"
    },
    "tags": []
   },
   "outputs": [],
   "source": [
    "churn_test.isnull().sum().sum()\n"
   ]
  },
  {
   "cell_type": "code",
   "execution_count": null,
   "id": "e14e40c6",
   "metadata": {
    "execution": {
     "iopub.execute_input": "2023-12-06T15:01:57.132318Z",
     "iopub.status.busy": "2023-12-06T15:01:57.131714Z",
     "iopub.status.idle": "2023-12-06T15:01:57.172229Z",
     "shell.execute_reply": "2023-12-06T15:01:57.169590Z",
     "shell.execute_reply.started": "2023-12-06T15:01:57.132251Z"
    },
    "papermill": {
     "duration": null,
     "end_time": null,
     "exception": null,
     "start_time": null,
     "status": "pending"
    },
    "tags": []
   },
   "outputs": [],
   "source": [
    "churn_test_final = pca_final.transform(churn_test)"
   ]
  },
  {
   "cell_type": "code",
   "execution_count": null,
   "id": "db047490",
   "metadata": {
    "execution": {
     "iopub.execute_input": "2023-12-06T15:02:38.722800Z",
     "iopub.status.busy": "2023-12-06T15:02:38.722355Z",
     "iopub.status.idle": "2023-12-06T15:02:38.731287Z",
     "shell.execute_reply": "2023-12-06T15:02:38.729910Z",
     "shell.execute_reply.started": "2023-12-06T15:02:38.722765Z"
    },
    "papermill": {
     "duration": null,
     "end_time": null,
     "exception": null,
     "start_time": null,
     "status": "pending"
    },
    "tags": []
   },
   "outputs": [],
   "source": [
    "churn_test_final.shape"
   ]
  },
  {
   "cell_type": "code",
   "execution_count": null,
   "id": "35c844da",
   "metadata": {
    "execution": {
     "iopub.execute_input": "2023-12-06T15:02:42.839021Z",
     "iopub.status.busy": "2023-12-06T15:02:42.838613Z",
     "iopub.status.idle": "2023-12-06T15:02:43.323255Z",
     "shell.execute_reply": "2023-12-06T15:02:43.321908Z",
     "shell.execute_reply.started": "2023-12-06T15:02:42.838989Z"
    },
    "papermill": {
     "duration": null,
     "end_time": null,
     "exception": null,
     "start_time": null,
     "status": "pending"
    },
    "tags": []
   },
   "outputs": [],
   "source": [
    "predict_probalbilty = rfc_model.predict(churn_test_final)"
   ]
  },
  {
   "cell_type": "code",
   "execution_count": null,
   "id": "fa988bc7",
   "metadata": {
    "execution": {
     "iopub.execute_input": "2023-12-06T15:02:51.555726Z",
     "iopub.status.busy": "2023-12-06T15:02:51.555324Z",
     "iopub.status.idle": "2023-12-06T15:02:51.563953Z",
     "shell.execute_reply": "2023-12-06T15:02:51.562591Z",
     "shell.execute_reply.started": "2023-12-06T15:02:51.555696Z"
    },
    "papermill": {
     "duration": null,
     "end_time": null,
     "exception": null,
     "start_time": null,
     "status": "pending"
    },
    "tags": []
   },
   "outputs": [],
   "source": [
    "predict_probalbilty.shape"
   ]
  },
  {
   "cell_type": "code",
   "execution_count": null,
   "id": "c02cf9b6",
   "metadata": {
    "execution": {
     "iopub.execute_input": "2023-12-06T15:14:40.829146Z",
     "iopub.status.busy": "2023-12-06T15:14:40.828700Z",
     "iopub.status.idle": "2023-12-06T15:14:40.836886Z",
     "shell.execute_reply": "2023-12-06T15:14:40.835692Z",
     "shell.execute_reply.started": "2023-12-06T15:14:40.829102Z"
    },
    "papermill": {
     "duration": null,
     "end_time": null,
     "exception": null,
     "start_time": null,
     "status": "pending"
    },
    "tags": []
   },
   "outputs": [],
   "source": [
    "len(churn_id)"
   ]
  },
  {
   "cell_type": "markdown",
   "id": "2cd0f490",
   "metadata": {
    "papermill": {
     "duration": null,
     "end_time": null,
     "exception": null,
     "start_time": null,
     "status": "pending"
    },
    "tags": []
   },
   "source": []
  },
  {
   "cell_type": "code",
   "execution_count": null,
   "id": "7987dc80",
   "metadata": {
    "execution": {
     "iopub.execute_input": "2023-12-06T15:03:39.507830Z",
     "iopub.status.busy": "2023-12-06T15:03:39.507302Z",
     "iopub.status.idle": "2023-12-06T15:03:39.515750Z",
     "shell.execute_reply": "2023-12-06T15:03:39.514327Z",
     "shell.execute_reply.started": "2023-12-06T15:03:39.507788Z"
    },
    "papermill": {
     "duration": null,
     "end_time": null,
     "exception": null,
     "start_time": null,
     "status": "pending"
    },
    "tags": []
   },
   "outputs": [],
   "source": [
    "final_prediction = pd.DataFrame({'id':churn_id,'churn_probability':predict_probalbilty})"
   ]
  },
  {
   "cell_type": "code",
   "execution_count": null,
   "id": "403b029c",
   "metadata": {
    "execution": {
     "iopub.execute_input": "2023-12-06T15:16:14.509528Z",
     "iopub.status.busy": "2023-12-06T15:16:14.509112Z",
     "iopub.status.idle": "2023-12-06T15:16:15.101537Z",
     "shell.execute_reply": "2023-12-06T15:16:15.100154Z",
     "shell.execute_reply.started": "2023-12-06T15:16:14.509494Z"
    },
    "papermill": {
     "duration": null,
     "end_time": null,
     "exception": null,
     "start_time": null,
     "status": "pending"
    },
    "tags": []
   },
   "outputs": [],
   "source": [
    "final_prediction.to_csv('submission.csv',index=False)\n",
    "final_prediction.head"
   ]
  }
 ],
 "metadata": {
  "kaggle": {
   "accelerator": "none",
   "dataSources": [
    {
     "databundleVersionId": 7066904,
     "sourceId": 64503,
     "sourceType": "competition"
    }
   ],
   "dockerImageVersionId": 30587,
   "isGpuEnabled": false,
   "isInternetEnabled": true,
   "language": "python",
   "sourceType": "notebook"
  },
  "kernelspec": {
   "display_name": "Python 3",
   "language": "python",
   "name": "python3"
  },
  "language_info": {
   "codemirror_mode": {
    "name": "ipython",
    "version": 3
   },
   "file_extension": ".py",
   "mimetype": "text/x-python",
   "name": "python",
   "nbconvert_exporter": "python",
   "pygments_lexer": "ipython3",
   "version": "3.10.12"
  },
  "papermill": {
   "default_parameters": {},
   "duration": 31.60888,
   "end_time": "2023-12-06T16:45:02.481470",
   "environment_variables": {},
   "exception": true,
   "input_path": "__notebook__.ipynb",
   "output_path": "__notebook__.ipynb",
   "parameters": {},
   "start_time": "2023-12-06T16:44:30.872590",
   "version": "2.4.0"
  }
 },
 "nbformat": 4,
 "nbformat_minor": 5
}
